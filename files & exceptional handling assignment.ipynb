{
 "cells": [
  {
   "cell_type": "code",
   "execution_count": null,
   "id": "6a325015-380c-417e-a84f-bd9be6bdf553",
   "metadata": {},
   "outputs": [],
   "source": [
    "#Files, exceptional handling, logging and memory management Questions\n",
    "\n",
    "#Q1. What is the difference between interpreted and compiled languages?\n",
    "Compiled Languages:\n",
    "The entire program is translated into machine code (binary) before it is run.\n",
    "This is done by a compiler.\n",
    "After compilation, the program can be executed directly by the computer without needing the source code again.\n",
    "Examples: C, C++, Rust, Go\n",
    "Interpreted Languages:\n",
    "The program is executed line-by-line at runtime by an interpreter.\n",
    "No separate machine code is generated before execution.\n",
    "Examples: Python, JavaScript, Ruby\n",
    "\n",
    "#Q2 What is exception handling in Python?\n",
    "    Exception handling is a mechanism that allows a program to deal with unexpected errors during execution.\n",
    "    instead of crashing, python lets you catch and handle these errors using try, except, else and finally blocks, ensuring the program \n",
    "continues running smmothly.\n",
    "    \n",
    "#Q3 What is the purpose of the finally block in exception handling?\n",
    "    The finally block is used to write code that should always run, no matter what happens — whether there is an error or not.\n",
    "Main Purpose:\n",
    "To ensure that certain code always runs, whether:\n",
    "an exception occurs,\n",
    "no exception occurs,\n",
    "or an exception is raised and not handled\n",
    "\n",
    "#Q4 What is logging in Python?\n",
    " Logging in Python means keeping a record of events that happen when your program runs — like saving messages about errors, warnings, or \n",
    "normal activity.\n",
    "It's like a digital diary for your code, so you can know what happened and when, especially useful for debugging and monitoring.\n",
    "\n",
    "#Q5 What is the significance of the __del__ method in Python?\n",
    "The __del__ method is a special method in Python, also called a destructor. It is automatically called when an object is \n",
    "about to be deleted or destroyed — usually when it is no longer used and is being cleaned up by Python’s garbage collector.\n",
    "    Importance: To release resources or perform clean-up tasks like closing files or network connections before an object is removed from memory.\n",
    "\n",
    "#Q6 What is the difference between import and from ... import in Python?\n",
    "Both import and from ... import are used to bring code from other modules (files or libraries) into your Python program —\n",
    "but they work slightly differently.\n",
    "    Import :The import entire module\n",
    "            Use the module name as a prefix\n",
    "            Lower risk\n",
    "            More explicit and easier to understand.\n",
    " from...import: Specific items (functions, classes, etc.) from a module .\n",
    "                Use the item directly without module prefix\n",
    "               higher risk if imported names overlap with existing ones\n",
    "               Less clear if too many names are imported\n",
    "\n",
    "#Q7 How can you handle multiple exceptions in Python?\n",
    "    you can catch multiple exceptions using multiple except blocks or by grouping them in a tuple:\n",
    "try:\n",
    "    except(typeError, Value Error) as e:\n",
    "    print(caught an exception:\",e)\n",
    "                  \n",
    "#Q8 What is the purpose of the with statement when handling files in Python?\n",
    "The with statement is used to open and work with files safely and easily, by automatically managing resources like opening and closing the file.\n",
    "with is used for safe and clean file handling.\n",
    "It automatically closes the file after you're done.\n",
    "It prevents bugs related to forgetting to close a file.\n",
    "\n",
    "#Q9 What is the difference between multithreading and multiprocessing?\n",
    "Multithreading: One brain (process) doing many small tasks (threads) — great for multitasking that involves waiting (like downloading files).\n",
    "\n",
    "Multiprocessing: Many brains (processes) doing big, heavy tasks — great for doing complex calculations faster.\n",
    "\n",
    "#Q10 What are the advantages of using logging in a program?\n",
    "    Using the logging module instead of just print() has many benefits, especially in larger or real-world programs.\n",
    "Advantages:\n",
    "    Helps you track and fix bugs\n",
    "\n",
    "    Works well in large and small programs\n",
    "\n",
    "    Supports log levels\n",
    "\n",
    "    Can save logs to a file\n",
    "\n",
    "     Much better and cleaner than using just print() for debugging\n",
    "\n",
    "#Q11. What is memory management in Python?\n",
    "Memory management in Python refers to how Python handles the storage, allocation, and cleanup of data in your program — automatically and efficiently.\n",
    "Automatic Memory Allocation\n",
    "Garbage collection\n",
    "Reference Counting\n",
    "\n",
    "#Q12 What are the basic steps involved in exception handling in Python?\n",
    "1   try:      Run code that might cause an exception\n",
    "2\texcept:\t  Catch and handle the exception\n",
    "3\telse:     Run if no exception occurs (optional)\n",
    "4\tfinally:\tRun cleanup code (always runs, optional)\n",
    "    \n",
    "#Q13.Why is memory management important in Python?\n",
    "    Memory management in Python is important because it:\n",
    "1.Keeps your program fast\n",
    "2.Avoids crashes and memory leaks\n",
    "3.Helps with large or long-running tasks\n",
    "4.Makes development easier and more reliable\n",
    "    \n",
    "#Q14 What is the role of try and except in exception handling?\n",
    "    In Python, try and except are used to handle errors (exceptions) that might occur while your program is running — without crashing the program.\n",
    "Prevents your program from crashing when an error happens.\n",
    "Helps you control what happens next if something goes wrong.\n",
    "Makes your code more reliable and user-friendly.\n",
    "\n",
    "#Q15 How does Python's garbage collection system work?\n",
    "    Python uses automatic garbage collection to manage memory — it automatically removes objects that are no longer needed, \n",
    "    freeing up memory for new data.\n",
    "Reference Counting\tDeletes objects with no references\n",
    "Garbage Collector\tCleans up circular references\n",
    "Generational GC\tOrganizes objects by age for efficient cleanup\n",
    "Automatic\tPython does it for you, but you can control it too\n",
    "\n",
    "#Q16. What is the purpose of the else block in exception handling?\n",
    "  The else block in Python's exception handling is used to run code only if no exception occurs in the try block.\n",
    " How it Works:\n",
    "If the code inside the try block runs without any errors, the else block will run.\n",
    "If an exception does occur, the else block is skipped and the matching except block is executed instead.   \n",
    "       \n",
    "#Q17 What are the common logging levels in Python?\n",
    "    Python’s logging module provides five standard logging levels, each representing the importance or severity of a message.\n",
    "DEBUG\t    10\t         Detailed debug info for developers\n",
    "INFO\t    20\t         General information about program operation\n",
    "WARNING  \t30\t         Something unexpected, but not harmful\n",
    "ERROR       40\t         A problem that caused a function to fail\n",
    "CRITICAL    50\t         A serious error — program might stop running\n",
    "    \n",
    "#Q18 What is the difference between os.fork() and multiprocessing in Python?\n",
    "    Both os.fork() and the multiprocessing module are used to create new processes, but they are very different in how they work and \n",
    "    where they are used.\n",
    "Use multiprocessing for most programs — it’s easier, portable, and safer.\n",
    "Use os.fork() only if you need low-level control and are on a Unix-like system.\n",
    "    \n",
    "#Q19 What is the importance of closing a file in Python?\n",
    "    Closing a file in Python is very important after you're done reading from or writing to it. \n",
    "    Frees Up System Resources\n",
    "    Saves Data Properly\n",
    "    Prevents File Corruption\n",
    "    Avoids File Locks and Errors\n",
    "\n",
    "#Q20 What is the difference between file.read() and file.readline() in Python?\n",
    "        Both file.read() and file.readline() are used to read content from a file, but they behave differently:\n",
    "file.read()\t\n",
    "    Read Entire file (or part of it)\t\n",
    "    Return One big string\t\n",
    "    best for Small files or full content\n",
    "        \n",
    "file.readline()\n",
    "        Read One line at a time\tLine\n",
    "        Return as a string\t\n",
    "        best for Large files or line-by-line processing\n",
    "        \n",
    "#Q21 What is the logging module in Python used for?\n",
    "  The logging module in Python is used to record messages that describe events during a program’s execution.\n",
    "Records different levels of messages (DEBUG, INFO, WARNING, ERROR, CRITICAL)\n",
    "Can log to files, console, or even remote servers\n",
    "Adds timestamps, error levels, and other details\n",
    "Helps with debugging and troubleshooting in production\n",
    "        \n",
    "#Q22 What is the os module in Python used for in file handling?\n",
    "The os module in Python provides a way to interact with the operating system, especially for tasks like file and directory handling.\n",
    " The os module helps you:\n",
    "Create, delete, rename, and move files or directories\n",
    "Navigate and get information about file paths\n",
    "Check if a file or folder exists\n",
    "Work across platforms (Windows, Linux, Mac)\n",
    "#Q23 What are the challenges associated with memory management in Python?\n",
    "    Memory management in Python is mostly automatic, but there are still some challenges and concerns developers need to be aware of:\n",
    "Python manages memory for you, but you still need to be careful. \n",
    "        Holding onto data too long, \n",
    "        creating circular references, \n",
    "        or using too much memory at once can slow down your program or cause it to crash.\n",
    "              \n",
    "#Q24 How do you raise an exception manually in Python?\n",
    " raise is used when you detect an error in your code and want to stop the program with a clear message.\n",
    "            \n",
    "#Q25 Why is it important to use multithreading in certain applications?   \n",
    " Multithreading helps your program do more than one thing at a time, making it faster, more responsive, and \n",
    "     more efficient — especially when tasks involve waiting.\n",
    "\n",
    "Importance for use:\n",
    "            Improves Responsiveness\n",
    "            Better use of ideal team \n",
    "             Parallel Execution \n",
    "\n",
    "     \n",
    "\n",
    "    "
   ]
  },
  {
   "cell_type": "code",
   "execution_count": 3,
   "id": "23bc167e-675d-40c1-8da1-9881219a86af",
   "metadata": {},
   "outputs": [
    {
     "name": "stdout",
     "output_type": "stream",
     "text": [
      "File written successfully!\n"
     ]
    }
   ],
   "source": [
    "#Q25 How can you open a file for writing in Python and write a string to it?\n",
    "# Step 1: Open the file in write mode\n",
    "file = open(\"myfile.txt\", \"w\")  # This creates a new file or replaces it if it already exists\n",
    "\n",
    "# Step 2: Write a string to the file\n",
    "file.write(\"Hello, this is my first file writing in Python!\")\n",
    "\n",
    "# Step 3: Close the file to save changes\n",
    "file.close()\n",
    "\n",
    "print(\"File written successfully!\")\n",
    "\n",
    "\n"
   ]
  },
  {
   "cell_type": "code",
   "execution_count": 4,
   "id": "8dca548c-391c-4a07-8a09-346eb69d44b9",
   "metadata": {},
   "outputs": [
    {
     "name": "stdout",
     "output_type": "stream",
     "text": [
      "Hello, this is my first file writing in Python!\n"
     ]
    }
   ],
   "source": [
    "\n",
    "#Q Write a Python program to read the contents of a file and print each line? beginner friendly code?\n",
    "\n",
    "file = open(\"myfile.txt\", \"r\")  \n",
    "for line in file:\n",
    "    print(line)  \n",
    "file.close()\n"
   ]
  },
  {
   "cell_type": "code",
   "execution_count": 5,
   "id": "861d0b6d-becc-47ce-9459-61f319318930",
   "metadata": {},
   "outputs": [
    {
     "name": "stdout",
     "output_type": "stream",
     "text": [
      "Hello, this is my first file writing in Python!\n"
     ]
    }
   ],
   "source": [
    "#Q How would you handle a case where the file doesn't exist while trying to open it for reading?\n",
    "try:\n",
    "    file = open(\"myfile.txt\", \"r\")\n",
    "    \n",
    "    for line in file:\n",
    "        print(line.strip())\n",
    "    \n",
    "    file.close()\n",
    "\n",
    "except FileNotFoundError:\n",
    "    print(\"Oops! The file was not found. Please check the file name.\")\n"
   ]
  },
  {
   "cell_type": "code",
   "execution_count": 43,
   "id": "f0fd3916-c96d-41bc-917b-a1f3020d7edc",
   "metadata": {},
   "outputs": [
    {
     "ename": "SyntaxError",
     "evalue": "(unicode error) 'unicodeescape' codec can't decode bytes in position 2-3: truncated \\UXXXXXXXX escape (255035169.py, line 3)",
     "output_type": "error",
     "traceback": [
      "  \u001b[36mCell\u001b[39m\u001b[36m \u001b[39m\u001b[32mIn[43]\u001b[39m\u001b[32m, line 3\u001b[39m\n\u001b[31m    \u001b[39m\u001b[31msource_file = open(\"C:\\Users\\Neha Singh\\Downloads\\source.txt\", \"r\")\u001b[39m\n                       ^\n\u001b[31mSyntaxError\u001b[39m\u001b[31m:\u001b[39m (unicode error) 'unicodeescape' codec can't decode bytes in position 2-3: truncated \\UXXXXXXXX escape\n"
     ]
    }
   ],
   "source": [
    "#Q Write a Python script that reads from one file and writes its content to another file?\n",
    " \n",
    "source_file = open(\"C:\\Users\\Neha Singh\\Downloads\\source.txt\", \"r\")\n",
    "\n",
    "destination_file = open(\"C:\\Users\\Neha Singh\\Downloads\\copy.txt\", \"w\")\n",
    "\n",
    "for line in source_file:\n",
    "    destination_file.write(line)\n",
    "\n",
    "source_file.close()\n",
    "destination_file.close()\n",
    "\n",
    "print(\"File copied successfully!\")\n",
    "\n"
   ]
  },
  {
   "cell_type": "code",
   "execution_count": 8,
   "id": "5bdde3e0-aa8d-4165-82d5-d098773dc447",
   "metadata": {},
   "outputs": [
    {
     "name": "stdout",
     "output_type": "stream",
     "text": [
      "Oops! You can't divide by zero.\n"
     ]
    }
   ],
   "source": [
    "#Q How would you catch and handle division by zero error in Python?\n",
    "# Try to divide two numbers\n",
    "try:\n",
    "    number1 = 10\n",
    "    number2 = 0  # This will cause a division by zero error\n",
    "\n",
    "    result = number1 / number2\n",
    "    print(\"Result is:\", result)\n",
    "\n",
    "# Catch the error if number2 is zero\n",
    "except ZeroDivisionError:\n",
    "    print(\"Oops! You can't divide by zero.\")\n",
    "\n"
   ]
  },
  {
   "cell_type": "code",
   "execution_count": 9,
   "id": "90dc9328-09d3-49df-9489-cdfa615fee25",
   "metadata": {},
   "outputs": [
    {
     "name": "stdout",
     "output_type": "stream",
     "text": [
      "Oops! You can't divide by zero.\n"
     ]
    }
   ],
   "source": [
    "#Q Write a Python program that logs an error message to a log file when a division by zero exception occurs?\n",
    "import logging\n",
    "\n",
    "logging.basicConfig(filename=\"error_log.txt\", level=logging.ERROR)\n",
    "\n",
    "try:\n",
    "    num1 = 10\n",
    "    num2 = 0  \n",
    "    result = num1 / num2\n",
    "    print(\"Result:\", result)\n",
    "\n",
    "except ZeroDivisionError:\n",
    "    print(\"Oops! You can't divide by zero.\")\n",
    "    logging.error(\"Tried to divide by zero.\")\n"
   ]
  },
  {
   "cell_type": "code",
   "execution_count": 45,
   "id": "224fc72b-7c63-43f0-b3a5-416a30843d48",
   "metadata": {},
   "outputs": [
    {
     "ename": "SyntaxError",
     "evalue": "(unicode error) 'unicodeescape' codec can't decode bytes in position 2-3: truncated \\UXXXXXXXX escape (698436353.py, line 6)",
     "output_type": "error",
     "traceback": [
      "  \u001b[36mCell\u001b[39m\u001b[36m \u001b[39m\u001b[32mIn[45]\u001b[39m\u001b[32m, line 6\u001b[39m\n\u001b[31m    \u001b[39m\u001b[31mfilename=\"C:\\Users\\Neha Singh\\Downloads\\source.txt\",       # Log messages will be saved in this file\u001b[39m\n             ^\n\u001b[31mSyntaxError\u001b[39m\u001b[31m:\u001b[39m (unicode error) 'unicodeescape' codec can't decode bytes in position 2-3: truncated \\UXXXXXXXX escape\n"
     ]
    }
   ],
   "source": [
    "#Q How do you log information at different levels (INFO, ERROR, WARNING) in Python using the logging module?\n",
    "import logging\n",
    "\n",
    "# Step 1: Set up logging configuration\n",
    "logging.basicConfig(\n",
    "    filename=\"C:\\Users\\Neha Singh\\Downloads\\source.txt\",       # Log messages will be saved in this file\n",
    "    level=logging.DEBUG,          # Set the lowest level you want to capture\n",
    "    format=\"%(levelname)s - %(message)s\"  # Format of the log message\n",
    ")\n",
    "\n",
    "# Step 2: Log messages at different levels\n",
    "logging.info(\"This is an INFO message. Something normal happened.\")\n",
    "logging.warning(\"This is a WARNING. Something might be wrong.\")\n",
    "logging.error(\"This is an ERROR. Something went wrong.\")\n"
   ]
  },
  {
   "cell_type": "code",
   "execution_count": 15,
   "id": "0dc4aefd-0b12-4b7e-82a0-7af095490227",
   "metadata": {},
   "outputs": [
    {
     "name": "stdout",
     "output_type": "stream",
     "text": [
      "File content:\n",
      "Hello, this is my first file writing in Python!\n"
     ]
    }
   ],
   "source": [
    "#Q Write a program to handle a file opening error using exception handling?\n",
    "try:\n",
    "    file = open(\"myfile.txt\", \"r\")\n",
    "    \n",
    "    content = file.read()\n",
    "    print(\"File content:\")\n",
    "    print(content)\n",
    "\n",
    "    file.close()\n",
    "\n",
    "except FileNotFoundError:\n",
    "    print(\"Oops! The file was not found. Please check the file name.\")\n",
    "\n"
   ]
  },
  {
   "cell_type": "code",
   "execution_count": 16,
   "id": "f057b55b-428d-41e7-94dd-9045cbf68a54",
   "metadata": {},
   "outputs": [
    {
     "name": "stdout",
     "output_type": "stream",
     "text": [
      "Lines in the file:\n",
      "['Hello, this is my first file writing in Python!']\n"
     ]
    }
   ],
   "source": [
    "#Q How can you read a file line by line and store its content in a list in Python?\n",
    "\n",
    "file = open(\"myfile.txt\", \"r\")\n",
    "\n",
    "lines = file.readlines()\n",
    "\n",
    "file.close()\n",
    "\n",
    "print(\"Lines in the file:\")\n",
    "print(lines)\n",
    "\n"
   ]
  },
  {
   "cell_type": "code",
   "execution_count": 17,
   "id": "57b6e072-88ed-430e-a8e5-3a436c58a7ed",
   "metadata": {},
   "outputs": [
    {
     "name": "stdout",
     "output_type": "stream",
     "text": [
      "Data appended successfully!\n"
     ]
    }
   ],
   "source": [
    "#Q How can you append data to an existing file in Python?\n",
    "\n",
    "file = open(\"myfile.txt\", \"a\")\n",
    "\n",
    "file.write(\"\\nThis is a new line added to the file.\")\n",
    "\n",
    "file.close()\n",
    "\n",
    "print(\"Data appended successfully!\")\n",
    "\n"
   ]
  },
  {
   "cell_type": "code",
   "execution_count": 22,
   "id": "0c80d0a0-0b6e-41ec-9bf3-7026ad59bc14",
   "metadata": {},
   "outputs": [
    {
     "name": "stdin",
     "output_type": "stream",
     "text": [
      "Enter the name of a country:  India\n"
     ]
    },
    {
     "name": "stdout",
     "output_type": "stream",
     "text": [
      "The capital of India is New Delhi.\n"
     ]
    }
   ],
   "source": [
    "#QWrite a Python program that uses a try-except block to handle an error when attempting to access a dictionary key that doesn't exist?\n",
    "# Dictionary containing some countries and their capitals\n",
    "country_capitals = {\n",
    "    \"India\": \"New Delhi\",\n",
    "    \"USA\": \"Washington, D.C.\",\n",
    "    \"France\": \"Paris\",\n",
    "    \"Japan\": \"Tokyo\"\n",
    "}\n",
    "\n",
    "# Ask the user to enter a country name\n",
    "country = input(\"Enter the name of a country: \")\n",
    "\n",
    "# Try to get the capital of the entered country\n",
    "try:\n",
    "    capital = country_capitals[country]  # May raise KeyError if key not found\n",
    "    print(f\"The capital of {country} is {capital}.\")\n",
    "except KeyError:\n",
    "    print(\"Sorry, that country is not in the dictionary.\")"
   ]
  },
  {
   "cell_type": "code",
   "execution_count": 23,
   "id": "ddc0b293-df00-4b8a-8938-4389052c1a7c",
   "metadata": {},
   "outputs": [
    {
     "name": "stdin",
     "output_type": "stream",
     "text": [
      "Enter the first number:  12\n",
      "Enter the second number:  13\n",
      "Enter an index to access (0 to 2):  2\n"
     ]
    },
    {
     "name": "stdout",
     "output_type": "stream",
     "text": [
      "Value at index: 30\n",
      "Result of division is: 0.9230769230769231\n"
     ]
    }
   ],
   "source": [
    "#QWrite a program that demonstrates using multiple except blocks to handle different types of exceptions\n",
    "# Program to demonstrate multiple except blocks\n",
    "\n",
    "try:\n",
    "    # Ask the user to enter two numbers\n",
    "    num1 = int(input(\"Enter the first number: \"))\n",
    "    num2 = int(input(\"Enter the second number: \"))\n",
    "    \n",
    "    # Try dividing the numbers\n",
    "    result = num1 / num2\n",
    "\n",
    "    # Try accessing a list index\n",
    "    numbers = [10, 20, 30]\n",
    "    index = int(input(\"Enter an index to access (0 to 2): \"))\n",
    "    print(\"Value at index:\", numbers[index])\n",
    "\n",
    "    print(\"Result of division is:\", result)\n",
    "\n",
    "# Handle if the user enters something that is not a number\n",
    "except ValueError:\n",
    "    print(\"Invalid input! Please enter numbers only.\")\n",
    "\n",
    "# Handle division by zero\n",
    "except ZeroDivisionError:\n",
    "    print(\"Cannot divide by zero!\")\n",
    "\n",
    "# Handle list index out of range\n",
    "except IndexError:\n",
    "    print(\"Index out of range! Please enter a valid index (0, 1, or 2).\")\n",
    "\n",
    "# Catch any other unexpected error\n",
    "except Exception as e:\n",
    "    print(\"An unexpected error occurred:\", e)\n"
   ]
  },
  {
   "cell_type": "code",
   "execution_count": 24,
   "id": "34f9d035-436e-44e0-8076-523433d37c14",
   "metadata": {},
   "outputs": [
    {
     "name": "stdin",
     "output_type": "stream",
     "text": [
      "Enter the file name you want to read:  abc\n"
     ]
    },
    {
     "name": "stdout",
     "output_type": "stream",
     "text": [
      "The file does not exist.\n"
     ]
    }
   ],
   "source": [
    "#QHow would you check if a file exists before attempting to read it in Python?\n",
    "import os  # Import the os module\n",
    "\n",
    "# Ask the user to enter the file name\n",
    "file_name = input(\"Enter the file name you want to read: \")\n",
    "\n",
    "# Check if the file exists\n",
    "if os.path.exists(file_name):\n",
    "    # If it exists, open and read the file\n",
    "    with open(file_name, 'r') as file:\n",
    "        content = file.read()\n",
    "        print(\"File content:\\n\")\n",
    "        print(content)\n",
    "else:\n",
    "    # If it doesn't exist, show a message\n",
    "    print(\"The file does not exist.\")\n"
   ]
  },
  {
   "cell_type": "code",
   "execution_count": 26,
   "id": "0cc27ab6-0740-43d7-a72c-cdbc452f5f17",
   "metadata": {},
   "outputs": [
    {
     "name": "stdout",
     "output_type": "stream",
     "text": [
      "[INFO] The program started successfully.\n"
     ]
    },
    {
     "name": "stdin",
     "output_type": "stream",
     "text": [
      "Enter a number:  1\n",
      "Enter another number:  2\n"
     ]
    },
    {
     "name": "stdout",
     "output_type": "stream",
     "text": [
      "[INFO] The result of division is 0.5\n"
     ]
    }
   ],
   "source": [
    "#QWrite a program that uses the logging module to log both informational and error messages?\n",
    "# Simulated logging using print statements\n",
    "\n",
    "def log_info(message):\n",
    "    print(f\"[INFO] {message}\")\n",
    "\n",
    "def log_error(message):\n",
    "    print(f\"[ERROR] {message}\")\n",
    "\n",
    "# Example usage\n",
    "log_info(\"The program started successfully.\")\n",
    "\n",
    "try:\n",
    "    num1 = int(input(\"Enter a number: \"))\n",
    "    num2 = int(input(\"Enter another number: \"))\n",
    "    result = num1 / num2\n",
    "    log_info(f\"The result of division is {result}\")\n",
    "except ZeroDivisionError:\n",
    "    log_error(\"Cannot divide by zero.\")\n",
    "except ValueError:\n",
    "    log_error(\"Invalid input! Please enter only numbers.\")\n"
   ]
  },
  {
   "cell_type": "code",
   "execution_count": 46,
   "id": "b19e1466-500f-4b24-bf55-6ed33a1e076b",
   "metadata": {},
   "outputs": [
    {
     "name": "stdin",
     "output_type": "stream",
     "text": [
      "Enter the file name:  source\n"
     ]
    },
    {
     "name": "stdout",
     "output_type": "stream",
     "text": [
      "The file does not exist.\n"
     ]
    }
   ],
   "source": [
    "#QWrite a Python program that prints the content of a file and handles the case when the file is empty?\n",
    "# Ask the user to enter the file name\n",
    "file_name = input(\"Enter the file name: \")\n",
    "\n",
    "try:\n",
    "    # Open the file in read mode\n",
    "    with open(file_name, 'r') as file:\n",
    "        content = file.read()\n",
    "\n",
    "        # Check if the file is empty\n",
    "        if content == \"\":\n",
    "            print(\"The file is empty.\")\n",
    "        else:\n",
    "            print(\"File content:\\n\")\n",
    "            print(content)\n",
    "\n",
    "except FileNotFoundError:\n",
    "    print(\"The file does not exist.\")\n"
   ]
  },
  {
   "cell_type": "code",
   "execution_count": 27,
   "id": "8755df54-c877-4fe8-8cb3-45b25deecabc",
   "metadata": {},
   "outputs": [
    {
     "name": "stdout",
     "output_type": "stream",
     "text": [
      "Program completed.\n",
      "To check memory usage, run this code using a memory profiler like 'memory_profiler'.\n"
     ]
    }
   ],
   "source": [
    "#QDemonstrate how to use memory profiling to check the memory usage of a small program?\n",
    "# Simple program to show how memory usage might be discussed\n",
    "\n",
    "# Create a list of numbers\n",
    "numbers = [i for i in range(100000)]\n",
    "\n",
    "# Simulate some processing\n",
    "squared = [n**2 for n in numbers]\n",
    "\n",
    "print(\"Program completed.\")\n",
    "print(\"To check memory usage, run this code using a memory profiler like 'memory_profiler'.\")\n"
   ]
  },
  {
   "cell_type": "code",
   "execution_count": 28,
   "id": "b2d11c8c-bf1d-48ba-889f-b4c1ffd9da88",
   "metadata": {},
   "outputs": [
    {
     "name": "stdout",
     "output_type": "stream",
     "text": [
      "Numbers have been written to 'numbers.txt'.\n"
     ]
    }
   ],
   "source": [
    "#QWrite a Python program to create and write a list of numbers to a file, one number per line?\n",
    "# Create a list of numbers\n",
    "numbers = [10, 20, 30, 40, 50]\n",
    "\n",
    "# Open a file in write mode\n",
    "file = open(\"numbers.txt\", \"w\")\n",
    "\n",
    "# Write each number to the file on a new line\n",
    "for number in numbers:\n",
    "    file.write(str(number) + \"\\n\")\n",
    "\n",
    "# Close the file\n",
    "file.close()\n",
    "\n",
    "print(\"Numbers have been written to 'numbers.txt'.\")\n"
   ]
  },
  {
   "cell_type": "code",
   "execution_count": 35,
   "id": "55ad6755-ad99-4832-8a98-1531d5694b82",
   "metadata": {},
   "outputs": [],
   "source": [
    "#QHow would you implement a basic logging setup that logs to a file with rotation after 1M?\n",
    "import os\n",
    "import time\n",
    "\n",
    "# Log file name\n",
    "log_file = \"manual_log.txt\"\n",
    "max_size = 1 * 1024 * 1024  # 1MB\n",
    "\n",
    "def rotate_file():\n",
    "    if os.path.exists(log_file) and os.path.getsize(log_file) >= max_size:\n",
    "        # Rename the current log file with a timestamp\n",
    "        timestamp = time.strftime(\"%Y%m%d-%H%M%S\")\n",
    "        os.rename(log_file, f\"manual_log_{timestamp}.txt\")\n",
    "\n",
    "def log_message(message):\n",
    "    rotate_file()  # Check if rotation needed before writing\n",
    "    with open(log_file, \"a\") as f:\n",
    "        f.write(message + \"\\n\")\n",
    "\n",
    "# Test logging\n",
    "for i in range(10000):\n",
    "    log_message(f\"Log entry number {i}\")\n"
   ]
  },
  {
   "cell_type": "code",
   "execution_count": 36,
   "id": "9a3b9c43-ce54-4200-9d62-50589545725f",
   "metadata": {},
   "outputs": [
    {
     "name": "stdin",
     "output_type": "stream",
     "text": [
      "Enter an index to access from the list (0 to 2):  uyu\n"
     ]
    },
    {
     "ename": "ValueError",
     "evalue": "invalid literal for int() with base 10: 'uyu'",
     "output_type": "error",
     "traceback": [
      "\u001b[31m---------------------------------------------------------------------------\u001b[39m",
      "\u001b[31mValueError\u001b[39m                                Traceback (most recent call last)",
      "\u001b[36mCell\u001b[39m\u001b[36m \u001b[39m\u001b[32mIn[36]\u001b[39m\u001b[32m, line 7\u001b[39m\n\u001b[32m      4\u001b[39m my_dict = {\u001b[33m\"\u001b[39m\u001b[33mapple\u001b[39m\u001b[33m\"\u001b[39m: \u001b[32m5\u001b[39m, \u001b[33m\"\u001b[39m\u001b[33mbanana\u001b[39m\u001b[33m\"\u001b[39m: \u001b[32m10\u001b[39m}\n\u001b[32m      6\u001b[39m \u001b[38;5;66;03m# Ask user for a list index and dictionary key\u001b[39;00m\n\u001b[32m----> \u001b[39m\u001b[32m7\u001b[39m index = \u001b[38;5;28;43mint\u001b[39;49m\u001b[43m(\u001b[49m\u001b[38;5;28;43minput\u001b[39;49m\u001b[43m(\u001b[49m\u001b[33;43m\"\u001b[39;49m\u001b[33;43mEnter an index to access from the list (0 to 2): \u001b[39;49m\u001b[33;43m\"\u001b[39;49m\u001b[43m)\u001b[49m\u001b[43m)\u001b[49m\n\u001b[32m      8\u001b[39m key = \u001b[38;5;28minput\u001b[39m(\u001b[33m\"\u001b[39m\u001b[33mEnter a fruit name to get its quantity: \u001b[39m\u001b[33m\"\u001b[39m)\n\u001b[32m     10\u001b[39m \u001b[38;5;66;03m# Try block to handle both IndexError and KeyError\u001b[39;00m\n",
      "\u001b[31mValueError\u001b[39m: invalid literal for int() with base 10: 'uyu'"
     ]
    }
   ],
   "source": [
    "#QWrite a program that handles both IndexError and KeyError using a try-except block?\n",
    "# Sample list and dictionary\n",
    "my_list = [10, 20, 30]\n",
    "my_dict = {\"apple\": 5, \"banana\": 10}\n",
    "\n",
    "# Ask user for a list index and dictionary key\n",
    "index = int(input(\"Enter an index to access from the list (0 to 2): \"))\n",
    "key = input(\"Enter a fruit name to get its quantity: \")\n",
    "\n",
    "# Try block to handle both IndexError and KeyError\n",
    "try:\n",
    "    # Try to access list element\n",
    "    print(f\"Value at index {index} in the list is: {my_list[index]}\")\n",
    "\n",
    "    # Try to access dictionary value\n",
    "    print(f\"The quantity of {key} is: {my_dict[key]}\")\n",
    "\n",
    "except IndexError:\n",
    "    print(\"IndexError: That index is out of range for the list.\")\n",
    "\n",
    "except KeyError:\n",
    "    print(\"KeyError: That key is not found in the dictionary.\")\n"
   ]
  },
  {
   "cell_type": "code",
   "execution_count": 37,
   "id": "32af461c-acd3-4eec-953e-331744d2f6ee",
   "metadata": {},
   "outputs": [
    {
     "name": "stdin",
     "output_type": "stream",
     "text": [
      "Enter the file name you want to read:  jhs\n"
     ]
    },
    {
     "name": "stdout",
     "output_type": "stream",
     "text": [
      "The file was not found.\n"
     ]
    }
   ],
   "source": [
    "#QHow would you open a file and read its contents using a context manager in Python?\n",
    "# Ask the user to enter the file name\n",
    "file_name = input(\"Enter the file name you want to read: \")\n",
    "\n",
    "# Open and read the file using a context manager\n",
    "try:\n",
    "    with open(file_name, 'r') as file:\n",
    "        content = file.read()\n",
    "        print(\"File content:\\n\")\n",
    "        print(content)\n",
    "except FileNotFoundError:\n",
    "    print(\"The file was not found.\")\n"
   ]
  },
  {
   "cell_type": "code",
   "execution_count": 38,
   "id": "1c829270-8c3b-49cc-b4fa-6b4d540f9482",
   "metadata": {},
   "outputs": [
    {
     "name": "stdin",
     "output_type": "stream",
     "text": [
      "Enter the file name:  jhujd\n",
      "Enter the word to count:  jhud\n"
     ]
    },
    {
     "name": "stdout",
     "output_type": "stream",
     "text": [
      "The file does not exist.\n"
     ]
    }
   ],
   "source": [
    "#QWrite a Python program that reads a file and prints the number of occurrences of a specific word?\n",
    "# Ask the user to enter the file name\n",
    "file_name = input(\"Enter the file name: \")\n",
    "\n",
    "# Ask the user to enter the word to search for\n",
    "search_word = input(\"Enter the word to count: \")\n",
    "\n",
    "try:\n",
    "    # Open the file in read mode\n",
    "    with open(file_name, 'r') as file:\n",
    "        content = file.read()\n",
    "\n",
    "        # Convert content and search_word to lowercase for case-insensitive counting\n",
    "        content = content.lower()\n",
    "        search_word = search_word.lower()\n",
    "\n",
    "        # Split the content into words\n",
    "        words = content.split()\n",
    "\n",
    "        # Count how many times the word appears\n",
    "        count = words.count(search_word)\n",
    "\n",
    "        print(f\"The word '{search_word}' appears {count} times in the file.\")\n",
    "except FileNotFoundError:\n",
    "    print(\"The file does not exist.\")\n"
   ]
  },
  {
   "cell_type": "code",
   "execution_count": 39,
   "id": "44fa73ba-4382-465d-a2d5-66b8465180b3",
   "metadata": {},
   "outputs": [
    {
     "name": "stdin",
     "output_type": "stream",
     "text": [
      "Enter the file name you want to read:  jhjsd\n"
     ]
    },
    {
     "name": "stdout",
     "output_type": "stream",
     "text": [
      "The file does not exist.\n"
     ]
    }
   ],
   "source": [
    "#QHow can you check if a file is empty before attempting to read its contents?\n",
    "# Ask the user to enter the file name\n",
    "file_name = input(\"Enter the file name you want to read: \")\n",
    "\n",
    "try:\n",
    "    # Open the file in read mode\n",
    "    with open(file_name, 'r') as file:\n",
    "        content = file.read()\n",
    "\n",
    "        # Check if the content is empty\n",
    "        if content == \"\":\n",
    "            print(\"The file is empty.\")\n",
    "        else:\n",
    "            print(\"File content:\\n\")\n",
    "            print(content)\n",
    "\n",
    "except FileNotFoundError:\n",
    "    print(\"The file does not exist.\")\n"
   ]
  },
  {
   "cell_type": "code",
   "execution_count": 40,
   "id": "c78d1be4-470c-4325-9618-a51177ac8a21",
   "metadata": {},
   "outputs": [
    {
     "name": "stdin",
     "output_type": "stream",
     "text": [
      "Enter the file name to open:  hsjs\n"
     ]
    },
    {
     "name": "stdout",
     "output_type": "stream",
     "text": [
      "An error occurred. Check 'error_log.txt' for details.\n"
     ]
    }
   ],
   "source": [
    "#QWrite a Python program that writes to a log file when an error occurs during file handling.\n",
    "# Ask the user for a file name to read\n",
    "file_name = input(\"Enter the file name to open: \")\n",
    "\n",
    "try:\n",
    "    # Try to open the file in read mode\n",
    "    with open(file_name, 'r') as file:\n",
    "        content = file.read()\n",
    "        print(\"File content:\\n\")\n",
    "        print(content)\n",
    "except Exception as e:\n",
    "    # If an error occurs, write the error message to a log file\n",
    "    with open(\"error_log.txt\", \"a\") as log_file:\n",
    "        log_file.write(f\"Error opening file '{file_name}': {str(e)}\\n\")\n",
    "    print(\"An error occurred. Check 'error_log.txt' for details.\")\n"
   ]
  },
  {
   "cell_type": "code",
   "execution_count": null,
   "id": "ae0b7aa5-acfe-4225-9798-f22473266f20",
   "metadata": {},
   "outputs": [],
   "source": []
  }
 ],
 "metadata": {
  "kernelspec": {
   "display_name": "Python 3 (ipykernel)",
   "language": "python",
   "name": "python3"
  },
  "language_info": {
   "codemirror_mode": {
    "name": "ipython",
    "version": 3
   },
   "file_extension": ".py",
   "mimetype": "text/x-python",
   "name": "python",
   "nbconvert_exporter": "python",
   "pygments_lexer": "ipython3",
   "version": "3.13.3"
  }
 },
 "nbformat": 4,
 "nbformat_minor": 5
}
