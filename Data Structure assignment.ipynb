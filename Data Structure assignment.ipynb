{
 "cells": [
  {
   "cell_type": "code",
   "execution_count": null,
   "id": "66437b14-7df6-4ca8-8d64-09e328f1e5a4",
   "metadata": {},
   "outputs": [],
   "source": [
    "#Data Types and Structures Questions\n",
    "\n",
    "#Q1What are data structures, and why are they important?\n",
    "Data structure is a way to organizing and storing data so that it can be accessed and manipulate efficiently\n",
    "Important: 1.efficiency\n",
    "2.Code Maintainability\n",
    "3.scalability\n",
    "4.Real world application \n",
    "5.Algorithm design\n",
    "\n",
    "#Q2.Explain the difference between mutable and immutable data types with examples?\n",
    "Mutable : objects that can be changed after created \n",
    "ex:- List \n",
    "dict\n",
    "set\n",
    "Immutable : objects that can not be changed after created.\n",
    "    ex: Tuple ,string,floot, int\n",
    "\n",
    "#Q3. What are the main differences between lists and tuples in Python3\n",
    "    List : Mutable object\n",
    "          Syntax [1,2,3,4]\n",
    "          When you need to modify data\n",
    "          no dict key is used \n",
    "Tuple : Immutable object \n",
    " syntax (1,2,3,4)\n",
    " when you dont need to change or any modification in data like email, aadhar etc \n",
    "you need to use the object as a dictionary key or store it in a set.\n",
    "\n",
    "#Q4. Describe how dictionaries store data?\n",
    "A dictionary in Python is an unordered collection which store the data in the form of key value pairs.\n",
    "each key is hashed to a unique index in an array where the corresponding value is stored \n",
    "eg.(\"name\":\"Neha\", \"age\":26) name is key and age is value of key \n",
    "\n",
    "#Q5. Why might you use a set instead of a list in Python?\n",
    "use a set instead of a list in Python when you need to store unique elements and perform fast membership tests.\n",
    "set automatically remove duplicate values while lists dont do that.\n",
    " also sets provide faster membership tests compared to list \n",
    "\n",
    "#Q6 What is a string in Python, and how is it different from a list?\n",
    "A string is immutable \n",
    "It's an ordered collection of Unicode characters.\n",
    "Strings support indexing, slicing, and many built-in methods (e.g., .lower(), .split()).\n",
    "List:it is mutable \n",
    "any type of data we used in lists \n",
    "it is collection of items \n",
    "\n",
    "#Q7How do tuples ensure data integrity in Python?\n",
    "Tuples ensure data integrity in Python primarily through their immutability—meaning that once a tuple is created, its contents cannot be changed.\n",
    "\n",
    "#Q8.What is a hash table, and how does it relate to dictionaries in Python3\n",
    "A hash table is a data structure that stores key-value pairs using a hash function to quickly find values by their keys.\n",
    "In Python, a dictionary (dict) is a built-in implementation of a hash table, allowing for fast data access, insertion, and deletion.\n",
    "\n",
    "#Q9.Can lists contain different data types in Python?\n",
    "Yes, lists in Python can contain different data types.\n",
    "Python lists are heterogeneous, meaning you can mix and match different types of data in a single list.\n",
    "data types :\n",
    "string,bool,int,list,\n",
    "\n",
    "#Q10.Can lists contain different data types in Python?\n",
    " Yes, lists can contain different data types in Python\n",
    "    ex; int,str,bool,float,dict etc.\n",
    "\n",
    " #Q11.Explain why strings are immutable in Python?\n",
    " In Python, strings are immutable, which means you can't change them after you create them.\n",
    " immutable helps with performance, memory efficency and thread safety. it also allow strings to be used as keys in dictionaries \n",
    "\n",
    "#Q12.Describe a scenario where using a tuple would be preferable over a list?\n",
    "A tuple is preferable over a list when you want to store a fixed Data of values that should not change throughout your program.\n",
    "why use tuple over list : Immutability ,data integrity and performance.\n",
    "\n",
    "#Q13.How do sets handle duplicate values in Python?    \n",
    " In Python, sets automatically remove duplicate values. When you add elements to a set, any duplicates are ignored, and only unique elements are \n",
    "stored.\n",
    "my_set = {1, 2, 3, 2, 4, 1}\n",
    "print(my_set)\n",
    "1,2,3,4 #output \n",
    "\n",
    "#Q14. How does the “in” keyword work differently for lists and dictionaries?\n",
    " in keyword is used to check membership, but it behaves differently for lists and dictionaries in Python.\n",
    "\n",
    "List:\n",
    "in checks if a value exists in the list.    \n",
    "my_list = [1, 2, 3, 4]\n",
    "print(2 in my_list)    # True\n",
    "print(5 in my_list)    # False\n",
    "\n",
    "dictionaries:\n",
    "in checks if a key exists in the dictionary — not the value.\n",
    "\n",
    "my_dict = {'a': 1, 'b': 2}\n",
    "print('a' in my_dict)       # True  → key check\n",
    "print(1 in my_dict)         # False → value is ignored\n",
    "\n",
    "#Q15.Can you modify the elements of a tuple? Explain why or why not?\n",
    "Tuples are not modify because tuples are immutable \n",
    "Why not:Tuples are often used for fixed data\n",
    "Immutable objects like tuples can be used as keys in dictionaries or elements in sets\n",
    " Because they don’t change, Python can optimize storage and operations on tuples better than on lists.\n",
    "\n",
    "Q16.What is a nested dictionary, and give an example of its use case?\n",
    " nested dictionary in Python is a dictionary where one or more values are themselves dictionaries. It allows you to store structured, hierarchical data.\n",
    "students = \n",
    "    \"Alice\": {\"age\": 20, \"grade\": \"A\"},\n",
    "    \"Bob\": {\"age\": 22, \"grade\": \"B\"},\n",
    "    \"Charlie\": {\"age\": 21, \"grade\": \"A+\"}\n",
    "print(students[\"Alice\"][\"grade\"])   \n",
    "# Output: A\n",
    "print(students[\"Charlie\"][\"age\"])  \n",
    "# Output: 21\n",
    "\n",
    "#Q17Describe the time complexity of accessing elements in a dictionary\n",
    "The time complexity of accessing elements in a python dictionary (ie, looking up a value using its key, on average,O(1)(constant time).\n",
    "\n",
    "#Q18.In what situations are lists preferred over dictionaries?\n",
    "Lists are preferred over dictionaries in Python when you need:\n",
    "   1 Ordered Collections of Items\n",
    "   2 Indexed Access by Position\n",
    "   3 Dubplicate Values\n",
    "   4 Iteration in a Specific Order\n",
    "\n",
    "#Q19.Why are dictionaries considered unordered, and how does that affect data retrievalD\n",
    "\n",
    "Dictionaries are considered unordered because they store data using keys, not in a fixed sequence or position like lists.This means the order in\n",
    "which you add items is not guaranteed to be the same when you access or loop through them.\n",
    "    How this Affects Data Retrieval:\n",
    "You cannot access items by position (e.g., dict[0] won’t work).\n",
    "You must use the key to get a value (e.g., dict[\"name\"]).When looping through a dictionary, the items may not appear in the order you added them.\n",
    "\n",
    "#Q20 Explain the difference between a list and a dictionary in terms of data retrieval?\n",
    "Difference Between List and Dictionary in Terms of Data Retrieval\n",
    "Feature  \t             List\t                           Dictionary\n",
    "Access method   \tBy index (number)\t                By key (name or label)\n",
    "Example         \tmy_list[0]\t                        my_dict[\"name\"]\n",
    "Data structure   \tOrdered collection of items\t        Collection of key-value pairs\n",
    "Duplicates\t        Allows duplicate values\t             Keys must be unique\n",
    "Retrieval          speed\tSlower (O(n) in worst case)   \tFaster (O(1) average for key lookup)\n",
    "Use case\t       When order/position matters\t                 When you need to label and look up by name\n",
    "\n",
    "\n",
    "Practical Questions"
   ]
  },
  {
   "cell_type": "code",
   "execution_count": 2,
   "id": "dcbea004-e29f-408d-89df-63b7602c9ae0",
   "metadata": {},
   "outputs": [
    {
     "name": "stdout",
     "output_type": "stream",
     "text": [
      "neha\n"
     ]
    }
   ],
   "source": [
    "#Q21 Write a code to create a string with your name and print \n",
    "name = \"neha\"\n",
    "print(name)\n"
   ]
  },
  {
   "cell_type": "code",
   "execution_count": 16,
   "id": "bec81713-3b6d-43f5-9aa7-d0c76dd78a9b",
   "metadata": {},
   "outputs": [
    {
     "data": {
      "text/plain": [
       "11"
      ]
     },
     "execution_count": 16,
     "metadata": {},
     "output_type": "execute_result"
    }
   ],
   "source": [
    "#Q2 Write a code to find the length of the string \"Hello World\"\n",
    "z = \"Hello World\"\n",
    "len(z)"
   ]
  },
  {
   "cell_type": "code",
   "execution_count": 20,
   "id": "6c138da1-c435-4f4c-87cc-6dfa8f274782",
   "metadata": {},
   "outputs": [
    {
     "data": {
      "text/plain": [
       "'pyt'"
      ]
     },
     "execution_count": 20,
     "metadata": {},
     "output_type": "execute_result"
    }
   ],
   "source": [
    "#Q3Write a code to slice the first 3 characters from the string python programming \n",
    "String = \"python programming\"\n",
    "String[0:3]"
   ]
  },
  {
   "cell_type": "code",
   "execution_count": 21,
   "id": "57cceaf7-ac9c-4073-a156-49801f22e247",
   "metadata": {},
   "outputs": [
    {
     "data": {
      "text/plain": [
       "'HELLO'"
      ]
     },
     "execution_count": 21,
     "metadata": {},
     "output_type": "execute_result"
    }
   ],
   "source": [
    "#Q4 Write a code to convert the string \"hello\" to uppercase\n",
    "string = \"hello\"\n",
    "string.upper()"
   ]
  },
  {
   "cell_type": "code",
   "execution_count": 31,
   "id": "ae798aa1-9a79-491f-b172-400c7336dc96",
   "metadata": {},
   "outputs": [
    {
     "name": "stdout",
     "output_type": "stream",
     "text": [
      "[1, 2, 3, 4, 5]\n"
     ]
    }
   ],
   "source": [
    "#Q5 Write a code to create a list with numbers 1 to 5 and print it\n",
    "a = [1,2,3,4,5]\n",
    "print(a)"
   ]
  },
  {
   "cell_type": "code",
   "execution_count": 27,
   "id": "57f88635-fb95-43c7-be4b-63ca900f840f",
   "metadata": {},
   "outputs": [
    {
     "data": {
      "text/plain": [
       "'I like orange'"
      ]
     },
     "execution_count": 27,
     "metadata": {},
     "output_type": "execute_result"
    }
   ],
   "source": [
    "#Q6Write a code to replace the word \"apple\" with \"orange\" in the string \"I like apple\"\n",
    "s = \"I like apple\"\n",
    "s.replace('apple','orange')"
   ]
  },
  {
   "cell_type": "code",
   "execution_count": 35,
   "id": "9cf3f3f5-cd7a-4253-be3e-4d18c2c4c90b",
   "metadata": {},
   "outputs": [
    {
     "name": "stdout",
     "output_type": "stream",
     "text": [
      "[1, 2, 3, 4, 10]\n"
     ]
    }
   ],
   "source": [
    "#q7 Write a code to append the number 10 to the list [1, 2, 3, 4]\n",
    "a = [1,2,3,4]\n",
    "a.append(10)\n",
    "print(a)\n",
    "\n",
    "    "
   ]
  },
  {
   "cell_type": "code",
   "execution_count": 37,
   "id": "a57754fd-3bb7-41c5-8e03-cde3a2b3a7ca",
   "metadata": {},
   "outputs": [
    {
     "name": "stdout",
     "output_type": "stream",
     "text": [
      "[1, 2, 4, 5]\n"
     ]
    }
   ],
   "source": [
    "#Q8 Write a code to remove the number 3 from the list [1, 2, 3, 4, 5]\n",
    "a = [1, 2, 3, 4, 5]\n",
    "a.remove(3)\n",
    "print(a)"
   ]
  },
  {
   "cell_type": "code",
   "execution_count": 39,
   "id": "b6b7d063-75f3-4fdd-8219-cd6a78326e65",
   "metadata": {},
   "outputs": [
    {
     "data": {
      "text/plain": [
       "'b'"
      ]
     },
     "execution_count": 39,
     "metadata": {},
     "output_type": "execute_result"
    }
   ],
   "source": [
    "#Q9 Write a code to access the second element in the list ['a', 'b', 'c', 'd']\n",
    "a = ['a', 'b', 'c', 'd']\n",
    "a[1]"
   ]
  },
  {
   "cell_type": "code",
   "execution_count": 42,
   "id": "12d5ed28-c4c8-4778-bc76-afcf85610dd5",
   "metadata": {},
   "outputs": [
    {
     "data": {
      "text/plain": [
       "[50, 40, 30, 20, 10]"
      ]
     },
     "execution_count": 42,
     "metadata": {},
     "output_type": "execute_result"
    }
   ],
   "source": [
    "#Q10 Write a code to reverse the list [10, 20, 30, 40, 50]\n",
    "a = [10, 20, 30, 40, 50]\n",
    "a[::-1]"
   ]
  },
  {
   "cell_type": "code",
   "execution_count": 43,
   "id": "3a2e23d9-9b52-465c-b8e9-6ca48eea1ab0",
   "metadata": {},
   "outputs": [
    {
     "name": "stdout",
     "output_type": "stream",
     "text": [
      "(100, 200, 300)\n"
     ]
    }
   ],
   "source": [
    "#Q11. Write a code to create a tuple with the elements 100, 200, 300 and print it.\n",
    "a = (100,200,300)\n",
    "print(a)\n"
   ]
  },
  {
   "cell_type": "code",
   "execution_count": 49,
   "id": "241c83d7-2f80-4feb-8f1a-52e624f20757",
   "metadata": {},
   "outputs": [
    {
     "data": {
      "text/plain": [
       "'blue'"
      ]
     },
     "execution_count": 49,
     "metadata": {},
     "output_type": "execute_result"
    }
   ],
   "source": [
    "#Q12. Write a code to access the second-to-last element of the tuple ('red', 'green', 'blue', 'yellow').\n",
    "color = ('red', 'green', 'blue', 'yellow')\n",
    "color[-2]"
   ]
  },
  {
   "cell_type": "code",
   "execution_count": 53,
   "id": "39fc7a82-b7b1-44dc-98b5-07eb35a3ae0f",
   "metadata": {},
   "outputs": [
    {
     "name": "stdout",
     "output_type": "stream",
     "text": [
      "5\n"
     ]
    }
   ],
   "source": [
    "#Q13. Write a code to find the minimum number in the tuple (10, 20, 5, 15)\n",
    "numbers = (10, 20, 5, 15)\n",
    "minimum = min(numbers)\n",
    "print(minimum)"
   ]
  },
  {
   "cell_type": "code",
   "execution_count": 56,
   "id": "070304b5-a545-4fec-98fd-2d7c13fc1cdb",
   "metadata": {},
   "outputs": [
    {
     "data": {
      "text/plain": [
       "1"
      ]
     },
     "execution_count": 56,
     "metadata": {},
     "output_type": "execute_result"
    }
   ],
   "source": [
    "#Q14.Write a code to find the index of the element \"cat\" in the tuple ('dog', 'cat', 'rabbit').\n",
    "a = ('dog', 'cat', 'rabbit')\n",
    "a.index('cat')\n"
   ]
  },
  {
   "cell_type": "code",
   "execution_count": 59,
   "id": "5323eed4-e25f-4b52-806f-782af12b3ebf",
   "metadata": {},
   "outputs": [
    {
     "name": "stdout",
     "output_type": "stream",
     "text": [
      "its a delicious fruit\n"
     ]
    }
   ],
   "source": [
    "#Q15. Write a code to create a tuple containing three different fruits and check if \"kiwi\" is in it.\n",
    "fruits = 'Banana', 'orange','kiwi', 'papaya'\n",
    "if 'kiwi' in fruits:\n",
    "    print(\"its a delicious fruit\")\n",
    "else:\n",
    "    print(\"not delicious fruit\")\n",
    "\n"
   ]
  },
  {
   "cell_type": "code",
   "execution_count": 60,
   "id": "3d387312-50d2-4e16-be6f-2ed844f2a05b",
   "metadata": {},
   "outputs": [
    {
     "name": "stdout",
     "output_type": "stream",
     "text": [
      "{'b', 'a', 'c'}\n"
     ]
    }
   ],
   "source": [
    "#Q16.Write a code to create a set with the elements 'a', 'b', 'c' and print it.\n",
    "set = {'a', 'b', 'c'}\n",
    "print(set)"
   ]
  },
  {
   "cell_type": "code",
   "execution_count": 61,
   "id": "de22048f-0ea5-4bfe-b38e-65587f2bd380",
   "metadata": {},
   "outputs": [
    {
     "data": {
      "text/plain": [
       "<function set.clear()>"
      ]
     },
     "execution_count": 61,
     "metadata": {},
     "output_type": "execute_result"
    }
   ],
   "source": [
    "#Q17.Write a code to clear all elements from the set {1, 2, 3, 4, 5}.\n",
    "set = {1, 2, 3, 4, 5}\n",
    "set.clear"
   ]
  },
  {
   "cell_type": "code",
   "execution_count": 65,
   "id": "bcb2c938-6283-4d1b-b5ee-d38de5b09ac9",
   "metadata": {},
   "outputs": [
    {
     "name": "stdout",
     "output_type": "stream",
     "text": [
      "{1, 2, 3}\n"
     ]
    }
   ],
   "source": [
    "#Q18.Write a code to remove the element 4 from the set {1, 2, 3, 4}.\n",
    "set = {1, 2, 3, 4}\n",
    "set.remove(4)\n",
    "print(set)"
   ]
  },
  {
   "cell_type": "code",
   "execution_count": 6,
   "id": "8906dd85-7da5-4986-b897-3ca098e34596",
   "metadata": {},
   "outputs": [
    {
     "name": "stdout",
     "output_type": "stream",
     "text": [
      "union of set: {1, 2, 3, 4, 5}\n"
     ]
    }
   ],
   "source": [
    "#Q19.Write a code to find the union of two sets {1, 2, 3} and {3, 4, 5}.\n",
    "set1 = {1, 2, 3}\n",
    "set2 = {3, 4, 5}\n",
    "union_set = set1.union(set2)\n",
    "print(\"union of set:\",union_set)\n",
    "\n",
    "\n"
   ]
  },
  {
   "cell_type": "code",
   "execution_count": 8,
   "id": "705a050f-ef2f-4e23-aebe-d993e3eb3d77",
   "metadata": {},
   "outputs": [
    {
     "name": "stdout",
     "output_type": "stream",
     "text": [
      "intersection of set: {2, 3}\n"
     ]
    }
   ],
   "source": [
    "#Q20 Write a code to find the intersection of two sets {1, 2, 3} and {2, 3, 4}\n",
    "set1 = {1, 2, 3}\n",
    "set2 = {2, 3, 4}\n",
    "intersection_set = set1.intersection(set2)\n",
    "print(\"intersection of set:\",intersection_set)"
   ]
  },
  {
   "cell_type": "code",
   "execution_count": 9,
   "id": "da23391a-aa8b-4de0-918b-b947bf4e9ffc",
   "metadata": {},
   "outputs": [
    {
     "name": "stdout",
     "output_type": "stream",
     "text": [
      "Dictionary: {'name': 'Alice', 'age': 30, 'city': 'New York'}\n"
     ]
    }
   ],
   "source": [
    "#Q21. Write a code to create a dictionary with the keys \"name\", \"age\", and \"city\", and print it.\n",
    "person = {\n",
    "    \"name\": \"Alice\",\n",
    "    \"age\": 30,\n",
    "    \"city\": \"New York\"\n",
    "\n",
    "print(\"Dictionary:\", person)"
   ]
  },
  {
   "cell_type": "code",
   "execution_count": 10,
   "id": "3fa24db3-0174-4d1e-b994-fa51d0e74480",
   "metadata": {},
   "outputs": [
    {
     "name": "stdout",
     "output_type": "stream",
     "text": [
      "Updated dictionary: {'name': 'John', 'age': 25, 'country': 'USA'}\n"
     ]
    }
   ],
   "source": [
    "#Q22. Write a code to add a new key-value pair \"country\": \"USA\" to the dictionary {'name': 'John', 'age': 25}.\n",
    "person = {'name': 'John', 'age': 25}\n",
    "\n",
    "# Add new key-value pair\n",
    "person['country'] = 'USA'\n",
    "\n",
    "print(\"Updated dictionary:\", person)"
   ]
  },
  {
   "cell_type": "code",
   "execution_count": 11,
   "id": "ee7a5375-4e4c-4afd-ba84-695e5412a237",
   "metadata": {},
   "outputs": [
    {
     "name": "stdout",
     "output_type": "stream",
     "text": [
      "Value of 'name': Alice\n"
     ]
    }
   ],
   "source": [
    "#Q23. Write a code to access the value associated with the key \"name\" in the dictionary {'name': 'Alice', 'age': 30}.\n",
    "person = {'name': 'Alice', 'age': 30}\n",
    "\n",
    "# Access value for key \"name\"\n",
    "name_value = person['name']\n",
    "\n",
    "print(\"Value of 'name':\", name_value)"
   ]
  },
  {
   "cell_type": "code",
   "execution_count": 12,
   "id": "1b4cfec6-f7be-43b7-84e5-36064af9bbb2",
   "metadata": {},
   "outputs": [
    {
     "name": "stdout",
     "output_type": "stream",
     "text": [
      "Updated dictionary: {'name': 'Bob', 'city': 'New York'}\n"
     ]
    }
   ],
   "source": [
    "#Q24. Write a code to remove the key \"age\" from the dictionary {'name': 'Bob', 'age': 22, 'city': 'New York'}.\n",
    "person = {'name': 'Bob', 'age': 22, 'city': 'New York'}\n",
    "\n",
    "# Remove the key \"age\"\n",
    "del person['age']\n",
    "\n",
    "print(\"Updated dictionary:\", person)"
   ]
  },
  {
   "cell_type": "code",
   "execution_count": null,
   "id": "da36c828-6721-4e22-849f-2ddb26f390b8",
   "metadata": {},
   "outputs": [],
   "source": [
    "#Q25. Write a code to check if the key \"city\" exists in the dictionary {'name': 'Alice', 'city': 'Paris'}.\n",
    "\n",
    "person = {'name': 'Alice', 'city': 'Paris'}\n",
    "if 'city' in person:\n",
    "    print(\"Key 'city' exists in the dictionary.\")\n",
    "else:\n",
    "    print(\"Key 'city' does not exist in the dictionary.\")\n"
   ]
  },
  {
   "cell_type": "code",
   "execution_count": 13,
   "id": "6051a703-66ea-43c2-83eb-db84b46c56b3",
   "metadata": {},
   "outputs": [
    {
     "name": "stdout",
     "output_type": "stream",
     "text": [
      "List: [1, 2, 3, 4, 5]\n",
      "Tuple: ('apple', 'banana', 'cherry')\n",
      "Dictionary: {'name': 'Alice', 'age': 30, 'city': 'Paris'}\n"
     ]
    }
   ],
   "source": [
    "#Q26. Write a code to create a list, a tuple, and a dictionary, and print them all.\n",
    "my_list = [1, 2, 3, 4, 5]\n",
    "\n",
    "my_tuple = ('apple', 'banana', 'cherry')\n",
    "\n",
    "my_dict = {'name': 'Alice', 'age': 30, 'city': 'Paris'}\n",
    "\n",
    "print(\"List:\", my_list)\n",
    "print(\"Tuple:\", my_tuple)\n",
    "print(\"Dictionary:\", my_dict)\n",
    "\n"
   ]
  },
  {
   "cell_type": "code",
   "execution_count": 14,
   "id": "d28b35f5-1d96-4544-90e5-ba3282b81d9c",
   "metadata": {},
   "outputs": [
    {
     "name": "stdout",
     "output_type": "stream",
     "text": [
      "Sorted random numbers: [39, 62, 64, 77, 91]\n"
     ]
    }
   ],
   "source": [
    "#Q27. Write a code to create a list of 5 random numbers between 1 and 100, sort it in ascending order, and print the result.(replaced)\n",
    "import random\n",
    "\n",
    "# Create a list of 5 random numbers between 1 and 100\n",
    "random_numbers = random.sample(range(1, 101), 5)\n",
    "\n",
    "# Sort the list in ascending order\n",
    "random_numbers.sort()\n",
    "print(\"Sorted random numbers:\", random_numbers)\n",
    "\n"
   ]
  },
  {
   "cell_type": "code",
   "execution_count": 19,
   "id": "12bc2eb6-6aad-4f30-a063-87751c0bef71",
   "metadata": {},
   "outputs": [
    {
     "data": {
      "text/plain": [
       "'grapes'"
      ]
     },
     "execution_count": 19,
     "metadata": {},
     "output_type": "execute_result"
    }
   ],
   "source": [
    "#Q28. Write a code to create a list with strings and print the element at the third index.\n",
    "list = [\"apple\", \"banana\", \"orange\",\"grapes\"]\n",
    "print (list[3])\n",
    "\n"
   ]
  },
  {
   "cell_type": "code",
   "execution_count": 20,
   "id": "8009555f-c0ff-45dd-af09-1a1b40c7e415",
   "metadata": {},
   "outputs": [
    {
     "name": "stdout",
     "output_type": "stream",
     "text": [
      "Combined dictionary: {'name': 'Alice', 'age': 25, 'city': 'Paris', 'country': 'France'}\n"
     ]
    }
   ],
   "source": [
    "#Q29. Write a code to combine two dictionaries into one and print the result.\n",
    "dict1 = {'name': 'Alice', 'age': 25}\n",
    "dict2 = {'city': 'Paris', 'country': 'France'}\n",
    "\n",
    "# Combine dictionaries\n",
    "combined_dict = {**dict1, **dict2}\n",
    "\n",
    "# Print the result\n",
    "print(\"Combined dictionary:\", combined_dict)\n",
    "\n"
   ]
  },
  {
   "cell_type": "code",
   "execution_count": null,
   "id": "e04a5c21-c4dd-4408-88b8-1d2ba550e0ac",
   "metadata": {},
   "outputs": [],
   "source": [
    "#Q30. Write a code to convert a list of strings into a set.\n"
   ]
  }
 ],
 "metadata": {
  "kernelspec": {
   "display_name": "Python 3 (ipykernel)",
   "language": "python",
   "name": "python3"
  },
  "language_info": {
   "codemirror_mode": {
    "name": "ipython",
    "version": 3
   },
   "file_extension": ".py",
   "mimetype": "text/x-python",
   "name": "python",
   "nbconvert_exporter": "python",
   "pygments_lexer": "ipython3",
   "version": "3.13.3"
  }
 },
 "nbformat": 4,
 "nbformat_minor": 5
}
