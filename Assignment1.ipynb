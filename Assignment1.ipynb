{
 "cells": [
  {
   "cell_type": "code",
   "execution_count": 2,
   "id": "e993d379-2362-43e8-9ce3-8c9a9de78112",
   "metadata": {},
   "outputs": [
    {
     "ename": "SyntaxError",
     "evalue": "invalid decimal literal (1551209146.py, line 7)",
     "output_type": "error",
     "traceback": [
      "  \u001b[36mCell\u001b[39m\u001b[36m \u001b[39m\u001b[32mIn[2]\u001b[39m\u001b[32m, line 7\u001b[39m\n\u001b[31m    \u001b[39m\u001b[31m1.Easy to learn\u001b[39m\n     ^\n\u001b[31mSyntaxError\u001b[39m\u001b[31m:\u001b[39m invalid decimal literal\n"
     ]
    }
   ],
   "source": [
    "#Python Basic Assignment \n",
    "\n",
    "Q1.What is Python, and why is it popular ?\n",
    "Python is a simple, easy-to-learn programming language for creating instruction for a computer to follow. used for building websites, automating tasks \n",
    "analyzing data, and more.\n",
    "    Why is it popular:\n",
    "1.Easy to learn\n",
    "2.Has a clean and readable syntax\n",
    "3.Beginner friendly \n",
    "4.Versatality ( Website,automation,and data analysis and more)\n",
    "5.A lots of Library \n",
    "6.Huge active Community \n",
    "\n",
    "Q2 What is an interpreter in Python ?\n",
    "An interpreter in Python is a program that reads and executes Python code line by line, translating it into instructions the computer can understand.\n",
    "    Example: Print(\"hello\") Code ( between code and result give instruction to the computer)\n",
    "            Hello (Result)\n",
    "\n",
    "Q3 What are pre-defined keywords in Python ?\n",
    "Pre-defined keywords in python are already reserved word that holds specific meaning and have specific purpose.\n",
    "    example: if, false, true, else, elif etc.\n",
    "        \n",
    "Q4 Can keywords be used as variable names?\n",
    "No, Keywords cannot be used as variable names.\n",
    "    if you use keyword in replace for variable they give u syntax error \n",
    "example: if = 5 ( If is a predefined keyword)\n",
    "        print (if)\n",
    "               syntax error when u run code \n",
    "               \n",
    "Q5 What is mutability in Python?\n",
    "Objects whose state and value can be changed after they are created are called as mutability.\n",
    "    example: list it is mutable.\n",
    "\n",
    "Q6 Why are lists mutable, but tuples are immutable?\n",
    "Lists are designed to be flexible and changeable. In list you can add, modify, delete etc.\n",
    "when u change in data is mutabable also in list we can change data.\n",
    "    \n",
    "Tuples are designed to be Fixed and not changeable. in tuple you cannot add, modify anything. Tuples is useful when you want to ensure that data stays \n",
    "fixed and also does not get accidentlly modified.\n",
    "    when u Cannot change in data is immutable, also in Tuples we cannot change in data.\n",
    "\n",
    "Q7 What is the difference between “==” and “is” operators in Python?\n",
    "== (Value equality) two variables have the same value\n",
    "is (identity equality) both variables has the same object in memory.\n",
    "\n",
    "Q8 What are logical operators in Python?\n",
    "two types of Logical operators\n",
    "1. And ( Both condition is true)\n",
    "2. Or ( At least one condition is true)\n",
    "also called like true or false (1,0) \n",
    "logical operator used to combine two condition. ( Express the result in True /false)\n",
    "T and T= T             T or T= T\n",
    "T and F= F             T or F = T\n",
    "\n",
    "Q9 What is type casting in Python?\n",
    "Type casting is the process of changing the data type of value to another data type like: integer to floot etc.\n",
    "\n",
    "Q10  What is the difference between implicit and explicit type casting?  \n",
    "    \n",
    "    implicit Help to understand the data type. and also convert one data type to another data type automatically \n",
    "x = 5 # int\n",
    "Y = 2.0 # floot\n",
    "print=(x+y) #output: 7.0 (Floot)\n",
    "\n",
    "    Explicit Convert data type using inbuilt function >> str,int, floot, boolean.\n",
    "        x = \"10\" #String\n",
    "y = int(x)   # Convert string to integer manually\n",
    "print(y + 5)  # Output: 15\n",
    "\n",
    "Q11 What is the purpose of conditional statements in Python?\n",
    "Conditional statement helps you to code decision based on some preconditions.\n",
    "    Ex: If weather is sunny i will go to play cricket \n",
    "Conditional statment : IF \n",
    "Else\n",
    "Elif \n",
    "nested if else \n",
    "Purpose of Conditional Statements:\n",
    "Control the flow of the program\n",
    "Make decisions based on logic\n",
    "To execute different code in different situations\n",
    "\n",
    "Q12.How does the elif statement work ?\n",
    " Elif statment Used to check multiple condition one after another, if one condition not fufilled, you will do something else.\n",
    "     Example:if weather is not rainy.I will go to play cricket,\n",
    "             Else I will watch Tv.\n",
    "\n",
    "Q13. What is the difference between for and while loops \n",
    "For Loops : We know how many times to repeat something \n",
    "eaxmple :Hello write 5 times \n",
    "\n",
    "While Loop:repeatedly execute a block of code untill a condition is met.\n",
    "    in while loop we dont know how many times to repeat.\n",
    "    It keep going until condition is true.\n",
    "\n",
    "Q14. Describe a scenario where a while loop is more suitable than a for loop?\n",
    "    A while loop is better when you dont know how many time something to repeat.\n",
    "        retry until valid number is entered\n",
    "        rolling a dice entil you get a 6    \n",
    "\n",
    "\n",
    "\n",
    "\n",
    "\n",
    "    \n",
    "\n",
    "\n",
    "\n",
    "\n",
    "\n",
    "\n",
    "\n",
    "\n",
    "\n",
    "\n"
   ]
  },
  {
   "cell_type": "code",
   "execution_count": 1,
   "id": "eb0056cf-0c18-49e9-a7fe-d0dade360480",
   "metadata": {},
   "outputs": [
    {
     "name": "stdout",
     "output_type": "stream",
     "text": [
      "hello,world\n"
     ]
    }
   ],
   "source": [
    "# Write a Python program to print \"Hello, World!\n",
    "print (\"hello,world\")\n"
   ]
  },
  {
   "cell_type": "code",
   "execution_count": 3,
   "id": "e3984484-4d1f-4fc8-8feb-7dba47c1301d",
   "metadata": {},
   "outputs": [
    {
     "name": "stdout",
     "output_type": "stream",
     "text": [
      "My name is Neha\n",
      "My age is 29\n"
     ]
    }
   ],
   "source": [
    "# Write a Python program that displays your name and age\n",
    "name = \"Neha\"\n",
    "Age = 29\n",
    "print (\"My name is Neha\")\n",
    "print (\"My age is 29\")\n"
   ]
  },
  {
   "cell_type": "code",
   "execution_count": 11,
   "id": "186df981-2dd7-45a8-bba5-98df53efca06",
   "metadata": {},
   "outputs": [
    {
     "name": "stdout",
     "output_type": "stream",
     "text": [
      "python keywords:\n",
      "['False', 'None', 'True', 'and', 'as', 'assert', 'async', 'await', 'break', 'class', 'continue', 'def', 'del', 'elif', 'else', 'except', 'finally', 'for', 'from', 'global', 'if', 'import', 'in', 'is', 'lambda', 'nonlocal', 'not', 'or', 'pass', 'raise', 'return', 'try', 'while', 'with', 'yield']\n"
     ]
    }
   ],
   "source": [
    "# Write code to print all the pre-defined keywords in Python using the keyword library\n",
    "print(\"python keywords:\")\n",
    "print(keyword.kwlist)"
   ]
  },
  {
   "cell_type": "code",
   "execution_count": 19,
   "id": "26238ffc-1dd1-4ea6-805b-d4fb04d152e9",
   "metadata": {},
   "outputs": [
    {
     "name": "stdin",
     "output_type": "stream",
     "text": [
      "Enter a word:  if\n"
     ]
    },
    {
     "name": "stdout",
     "output_type": "stream",
     "text": [
      "'if' is a Python keyword.\n"
     ]
    }
   ],
   "source": [
    "# List of Python keywords (manually defined)\n",
    "python_keywords = [\n",
    "    \"False\", \"None\", \"True\", \"and\", \"as\", \"assert\", \"async\", \"await\",\n",
    "    \"break\", \"class\", \"continue\", \"def\", \"del\", \"elif\", \"else\", \"except\",\n",
    "    \"finally\", \"for\", \"from\", \"global\", \"if\", \"import\", \"in\", \"is\",\n",
    "    \"lambda\", \"nonlocal\", \"not\", \"or\", \"pass\", \"raise\", \"return\",\n",
    "    \"try\", \"while\", \"with\", \"yield\"\n",
    "]\n",
    "\n",
    "# Get input from the user\n",
    "word = input(\"Enter a word: \")\n",
    "\n",
    "# Check if it's a keyword\n",
    "if word in python_keywords:\n",
    "    print(\"'\" + word + \"' is a Python keyword.\")\n",
    "else:\n",
    "    print(\"'\" + word + \"' is NOT a Python keyword.\")\n"
   ]
  },
  {
   "cell_type": "code",
   "execution_count": 24,
   "id": "af46deef-4d55-4596-9496-5d3cac7dd794",
   "metadata": {},
   "outputs": [
    {
     "name": "stdout",
     "output_type": "stream",
     "text": [
      "[11, 22, 33]\n",
      "[11, 88, 33]\n"
     ]
    }
   ],
   "source": [
    " #Create a list and tuple in Python, and demonstrate how attempting to change an element works differently for each\n",
    "# Create a list\n",
    "my_list = [11,22,33]\n",
    "print (my_list)\n",
    "my_list[1] = 88 # Demonstrate to change element in list \n",
    "print (my_list)\n"
   ]
  },
  {
   "cell_type": "code",
   "execution_count": 26,
   "id": "ec1341ef-7bb4-4fe5-821d-6c83339c0b57",
   "metadata": {},
   "outputs": [
    {
     "name": "stdout",
     "output_type": "stream",
     "text": [
      "(11, 22, 33)\n"
     ]
    },
    {
     "ename": "TypeError",
     "evalue": "'tuple' object does not support item assignment",
     "output_type": "error",
     "traceback": [
      "\u001b[31m---------------------------------------------------------------------------\u001b[39m",
      "\u001b[31mTypeError\u001b[39m                                 Traceback (most recent call last)",
      "\u001b[36mCell\u001b[39m\u001b[36m \u001b[39m\u001b[32mIn[26]\u001b[39m\u001b[32m, line 4\u001b[39m\n\u001b[32m      2\u001b[39m my_tuple = (\u001b[32m11\u001b[39m,\u001b[32m22\u001b[39m,\u001b[32m33\u001b[39m)\n\u001b[32m      3\u001b[39m \u001b[38;5;28mprint\u001b[39m (my_tuple)\n\u001b[32m----> \u001b[39m\u001b[32m4\u001b[39m \u001b[43mmy_tuple\u001b[49m\u001b[43m[\u001b[49m\u001b[32;43m1\u001b[39;49m\u001b[43m]\u001b[49m = \u001b[32m88\u001b[39m\n\u001b[32m      5\u001b[39m \u001b[38;5;28mprint\u001b[39m (my_tuple)\n",
      "\u001b[31mTypeError\u001b[39m: 'tuple' object does not support item assignment"
     ]
    }
   ],
   "source": [
    "#Create tuple \n",
    "my_tuple = (11,22,33)\n",
    "print (my_tuple)\n",
    "my_tuple[1] = 88 # item assignment error\n",
    "print (my_tuple)"
   ]
  },
  {
   "cell_type": "code",
   "execution_count": 35,
   "id": "fe6ece8d-ac1c-43d5-87e5-295bb1277adc",
   "metadata": {},
   "outputs": [
    {
     "name": "stdout",
     "output_type": "stream",
     "text": [
      "Original num: 10\n",
      "new number: 15\n",
      "[44, 55, 66]\n",
      "[44, 55, 100]\n"
     ]
    }
   ],
   "source": [
    "#Write a function to demonstrate the behavior of mutable and immutable arguments in easy format \n",
    "# immutable \n",
    "num = 10\n",
    "new_num = num+5\n",
    "print (\"Original num:\", num)\n",
    "print (\"new number:\",new_num)\n",
    "\n",
    "#mutable \n",
    "my_list=[44,55,66]\n",
    "print (my_list)\n",
    "my_list[2]=100\n",
    "print (my_list)# list is changed "
   ]
  },
  {
   "cell_type": "code",
   "execution_count": 40,
   "id": "b77b6b66-ea02-4c2a-86c7-c9510168a3e4",
   "metadata": {},
   "outputs": [
    {
     "name": "stdin",
     "output_type": "stream",
     "text": [
      "enter the first num: 50\n",
      "enter the second num: 80\n"
     ]
    },
    {
     "name": "stdout",
     "output_type": "stream",
     "text": [
      "addition: 130\n",
      "substraction: -30\n"
     ]
    }
   ],
   "source": [
    "## Write a program that performs basic arithmetic operations on two user-input numbers.\n",
    "num1= int(input(\"enter the first num:\"))\n",
    "num2= int(input(\"enter the second num:\"))\n",
    "print(\"addition:\",num1+num2)\n",
    "print(\"substraction:\",num1-num2)\n",
    "          \n"
   ]
  },
  {
   "cell_type": "code",
   "execution_count": 1,
   "id": "0eb8e869-8a40-4355-a70c-9f4093153db0",
   "metadata": {},
   "outputs": [
    {
     "name": "stdout",
     "output_type": "stream",
     "text": [
      "a = True\n",
      "b = False\n",
      "\n",
      "AND Operator:\n",
      "a and a = True\n",
      "a and b = False\n",
      "b and b = False\n",
      "\n",
      "OR Operator:\n",
      "a or a = True\n",
      "a or b = True\n",
      "b or b = False\n",
      "\n",
      "NOT Operator:\n",
      "not a = False\n",
      "not b = True\n"
     ]
    }
   ],
   "source": [
    "# Write a program to demonstrate the use of logical operators.\n",
    "# Logical Operators Demo\n",
    "# Example values\n",
    "a = True\n",
    "b = False\n",
    "\n",
    "print(\"a =\", a)\n",
    "print(\"b =\", b)\n",
    "print()\n",
    "\n",
    "# AND operator\n",
    "print(\"AND Operator:\")\n",
    "print(\"a and a =\", a and a)\n",
    "print(\"a and b =\", a and b)\n",
    "print(\"b and b =\", b and b)\n",
    "print()\n",
    "\n",
    "# OR operator\n",
    "print(\"OR Operator:\")\n",
    "print(\"a or a =\", a or a)\n",
    "print(\"a or b =\", a or b)\n",
    "print(\"b or b =\", b or b)\n",
    "print()\n",
    "\n",
    "# NOT operator\n",
    "print(\"NOT Operator:\")\n",
    "print(\"not a =\", not a)\n",
    "print(\"not b =\", not b)\n"
   ]
  },
  {
   "cell_type": "code",
   "execution_count": 23,
   "id": "72a3d604-f2a8-420f-b92f-5af2ef7d69aa",
   "metadata": {},
   "outputs": [
    {
     "name": "stdin",
     "output_type": "stream",
     "text": [
      "Enter anything:  4534\n"
     ]
    },
    {
     "name": "stdout",
     "output_type": "stream",
     "text": [
      "<class 'str'>\n",
      "value of a, convert into int: 4534 <class 'int'>\n",
      "value of a, convert into float: 4534.0 <class 'float'>\n",
      "value of a, convert into boolen: True <class 'bool'>\n"
     ]
    }
   ],
   "source": [
    "# Write a Python program to convert user input from string to integer, float, and boolean types\n",
    "a = input(\"Enter anything: \")\n",
    "print(type(a))\n",
    "b = int(a)\n",
    "print(\"value of a, convert into int:\",b,type(b))\n",
    "c= float(a)\n",
    "print(\"value of a, convert into float:\",c,type(c))\n",
    "d= bool(a)\n",
    "print(\"value of a, convert into boolen:\",d,type(d))\n"
   ]
  },
  {
   "cell_type": "code",
   "execution_count": 25,
   "id": "8eca4305-72af-43ef-a804-49c333bf90ff",
   "metadata": {},
   "outputs": [
    {
     "name": "stdout",
     "output_type": "stream",
     "text": [
      "original list: ['10', '20', '30', '40']\n",
      "converted to integers: [10, 20, 30, 40]\n"
     ]
    }
   ],
   "source": [
    "# Write code to demonstrate type casting with list elements.\n",
    "str_list = ['10','20','30','40']\n",
    "int_list = [int(i) for i in str_list]\n",
    "print(\"original list:\",str_list)\n",
    "print(\"converted to integers:\",int_list)\n"
   ]
  },
  {
   "cell_type": "code",
   "execution_count": 27,
   "id": "5139f556-db2b-4a0f-8dd0-be5573e67765",
   "metadata": {},
   "outputs": [
    {
     "name": "stdin",
     "output_type": "stream",
     "text": [
      "Enter a number:  5\n"
     ]
    },
    {
     "name": "stdout",
     "output_type": "stream",
     "text": [
      "The number is positive.\n"
     ]
    }
   ],
   "source": [
    "#Write a program that checks if a number is positive, negative, or zero\n",
    "\n",
    "num = int(input(\"Enter a number: \"))\n",
    "\n",
    "# Check if the number is positive, negative, or zero\n",
    "if num > 0:\n",
    "    print(\"The number is positive.\")\n",
    "elif num < 0:\n",
    "    print(\"The number is negative.\")\n",
    "else:\n",
    "    print(\"The number is zero.\")\n"
   ]
  },
  {
   "cell_type": "code",
   "execution_count": 28,
   "id": "cba95a3a-e131-4859-b89c-1dbd38e3f7a7",
   "metadata": {},
   "outputs": [
    {
     "name": "stdout",
     "output_type": "stream",
     "text": [
      "1\n",
      "2\n",
      "3\n",
      "4\n",
      "5\n",
      "6\n",
      "7\n",
      "8\n",
      "9\n",
      "10\n"
     ]
    }
   ],
   "source": [
    "#Write a for loop to print numbers from 1 to 10.\n",
    "# Print numbers from 1 to 10\n",
    "for i in range(1, 11):\n",
    "    print(i)"
   ]
  },
  {
   "cell_type": "code",
   "execution_count": 31,
   "id": "c0e44b90-889f-47a5-a43c-0e618bdb06a6",
   "metadata": {},
   "outputs": [
    {
     "name": "stdout",
     "output_type": "stream",
     "text": [
      "Sum of all even numbers between 1 and 50 is: 650\n"
     ]
    }
   ],
   "source": [
    "\n",
    "#Write a Python program to find the sum of all even numbers between 1 and 50.\n",
    "# Initialize sum variable\n",
    "total_sum = 0\n",
    "\n",
    "# Loop through numbers from 1 to 50\n",
    "for number in range(1, 51):\n",
    "    # Check if the number is even\n",
    "    if number % 2 == 0:\n",
    "        total_sum += number\n",
    "\n",
    "# Print the result\n",
    "print(\"Sum of all even numbers between 1 and 50 is:\", total_sum)\n"
   ]
  },
  {
   "cell_type": "code",
   "execution_count": 34,
   "id": "1e8c5bec-5fea-478e-8225-84c693f0322a",
   "metadata": {},
   "outputs": [
    {
     "name": "stdout",
     "output_type": "stream",
     "text": [
      "Original string: Hello, world!\n",
      "Reversed string: !dlrow ,olleH\n"
     ]
    }
   ],
   "source": [
    "# Write a program to reverse a string using a while loop.\n",
    "original_string = \"Hello, world!\"\n",
    "reversed_string = \"\"\n",
    "\n",
    "# Index for the last character\n",
    "index = len(original_string) - 1\n",
    "\n",
    "# Reverse the string using a while loop\n",
    "while index >= 0:\n",
    "    reversed_string += original_string[index]\n",
    "    index -= 1\n",
    "\n",
    "# Output the result\n",
    "print(\"Original string:\", original_string)\n",
    "print(\"Reversed string:\", reversed_string)"
   ]
  },
  {
   "cell_type": "code",
   "execution_count": 36,
   "id": "92eeccbb-d819-479d-a603-cf2535603fe9",
   "metadata": {},
   "outputs": [
    {
     "name": "stdin",
     "output_type": "stream",
     "text": [
      "Enter a non-negative integer:  5\n"
     ]
    },
    {
     "name": "stdout",
     "output_type": "stream",
     "text": [
      "The factorial of 5 is 120\n"
     ]
    }
   ],
   "source": [
    "#Write a Python program to calculate the factorial of a number provided by the user using a while loop.\n",
    "# Get input from the user\n",
    "num = int(input(\"Enter a non-negative integer: \"))\n",
    "\n",
    "# Check if the number is negative\n",
    "if num < 0:\n",
    "    print(\"Factorial is not defined for negative numbers.\")\n",
    "else:\n",
    "    factorial = 1\n",
    "    i = 1\n",
    "\n",
    "    # Calculate factorial using while loop\n",
    "    while i <= num:\n",
    "        factorial *= i\n",
    "        i += 1\n",
    "\n",
    "    # Display the result\n",
    "    print(\"The factorial of\", num, \"is\", factorial)\n"
   ]
  },
  {
   "cell_type": "code",
   "execution_count": null,
   "id": "937fc4b3-d31c-4dcb-b0ae-4f389711e89d",
   "metadata": {},
   "outputs": [],
   "source": []
  }
 ],
 "metadata": {
  "kernelspec": {
   "display_name": "Python 3 (ipykernel)",
   "language": "python",
   "name": "python3"
  },
  "language_info": {
   "codemirror_mode": {
    "name": "ipython",
    "version": 3
   },
   "file_extension": ".py",
   "mimetype": "text/x-python",
   "name": "python",
   "nbconvert_exporter": "python",
   "pygments_lexer": "ipython3",
   "version": "3.13.3"
  }
 },
 "nbformat": 4,
 "nbformat_minor": 5
}
