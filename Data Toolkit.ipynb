{
 "cells": [
  {
   "cell_type": "code",
   "execution_count": null,
   "id": "60dab5ae-43b6-431a-aa1d-67089a7ff0e8",
   "metadata": {},
   "outputs": [],
   "source": [
    "   Data Toolkit\n",
    "\n",
    "#Q1 What is NumPy, and why is it widely used in Python?\n",
    "NumPy (short for Numerical Python) is a popular Python library that helps you work with numbers, especially when you're dealing with\n",
    "lots of data — like lists of numbers, tables, or even images.\n",
    "Why is NumPy Widely Used?\n",
    "1.Fast Calculations\n",
    "NumPy can do math operations much faster than normal Python, especially with big data.\n",
    "\n",
    "2.Easy Math on Lists\n",
    "You can add, subtract, multiply whole lists (arrays) without writing loops.\n",
    "\n",
    "3.Great for Data Science & Machine Learning\n",
    "Most tools in data science use NumPy behind the scenes.\n",
    "\n",
    "4.Works with 2D and 3D Data\n",
    "You can easily work with tables (like Excel sheets) or even higher dimensions.\n",
    "\n",
    "#Q2 How does broadcasting work in NumPy?\n",
    "Broadcasting is a feature in NumPy that lets you do math with arrays of different sizes — without writing extra code or loops.\n",
    "NumPy automatically stretches\" or \"copies\" smaller arrays to match the shape of the bigger one (in the background) so the math works. \n",
    "\n",
    "#Q3 What is a Pandas DataFrame?\n",
    "A Pandas DataFrame is a table-like structure used in Python to store and work with data — like an Excel sheet in code.\n",
    "It comes from the Pandas library, which is super popular for data analysis and manipulation.\n",
    "\n",
    "#Q4 Explain the use of the groupby() method in Pandas?\n",
    "The groupby() method is used to split data into groups based on the values in one or more columns.\n",
    "It’s like saying:\n",
    "“Group the data by this column, then do something with each group.”\n",
    "Use groupby()\n",
    "You use groupby() when you want to:\n",
    "Summarize or analyze data by category\n",
    "Count, average, or sum values within groups\n",
    "    \n",
    "#Q5 Why is Seaborn preferred for statistical visualizations?\n",
    " Seaborn is a Python library built on top of Matplotlib. It makes it easier to create beautiful and informative charts, especially for \n",
    "statistical data.\n",
    "Why is Seaborn Preferred:\n",
    "1.Built for Statistics\n",
    "2.Prettier Charts\n",
    "3.Works Well with Pandas\n",
    "4 Simplifies Complex Plots\n",
    "\n",
    "#Q6 What are the differences between NumPy arrays and Python lists?\n",
    " NumPy arrays are best when you're working with numbers and large data.\n",
    "Python lists are more flexible, but slower for math tasks.\n",
    "Difference :\n",
    "1.|Data Type\n",
    "NumPy arrays: All elements must be of the same type (e.g., all integers or all floats).\n",
    "Python lists: Can contain different types (e.g., numbers, strings, booleans in the same list).\n",
    "\n",
    "2.Performance (Speed)\n",
    "NumPy arrays: Much faster for mathematical and large-scale data operations.\n",
    "Python lists: Slower, especially with big data or heavy calculations.\n",
    "\n",
    "3.Memory Usage\n",
    "NumPy arrays: Use less memory and are more efficient.\n",
    "Python lists: Use more memory due to storing type and object in\n",
    "\n",
    "4.Math Operations\n",
    "NumPy arrays: Support element-wise operations directly (e.g., array * 2).\n",
    "Python lists: Need loops or list comprehensions to do the same math.\n",
    "\n",
    "5.Multidimensional Data\n",
    "NumPy arrays: Easily handle 2D, 3D, or higher dimensions.\n",
    "Python lists: Need nested lists, which are harder to manage and slower.\n",
    "\n",
    "6.Built-in Functions\n",
    "NumPy arrays: Offer many built-in mathematical and statistical functions.\n",
    "Python lists: Limited to basic operations like append, remove, etc.\n",
    "\n",
    "#Q7 What is a heatmap, and when should it be used?\n",
    " A heatmap is a type of data visualization that uses color to show the values of a matrix or table.\n",
    "In simple words:\n",
    "When Should You Use a Heatmap?\n",
    "\n",
    "1. Visualize large amounts of data in a simple, colorful way\n",
    "2. Spot patterns, trends, or outliers in a dataset\n",
    "3. Show correlation between variables (especially in data analysis)\n",
    "4. Compare data across two categories, like:\n",
    "        1.Sales by day and product\n",
    "        2.Test scores by student and subject\n",
    "        3.Correlation between features in a datase\n",
    "    \n",
    "#Q8 What does the term “vectorized operation” mean in NumPy?\n",
    "A vectorized operation in NumPy means performing mathematical operations on entire arrays — without using loops\n",
    "Faster: They run much quicker than loops, especially with large datasets.\n",
    "Cleaner Code: Less code, more readable.\n",
    "More Powerful: You can apply complex math to entire arrays easily.\n",
    "\n",
    "#Q9 How does Matplotlib differ from Plotly?\n",
    "Matplotlib:\n",
    "It is a traditional plotting library used to create static, highly customizable charts like line plots, bar charts, histograms, etc.\n",
    "Great for quick plots, publication-quality graphs, and basic data analysis.\n",
    "It’s easier for beginners and integrates well with NumPy and Pandas.\n",
    "Plots are mostly static (non-interactive), but can be made interactive with additional tools like mplcursors or Jupyter widgets.\n",
    "\n",
    "Plotly:\n",
    "Plotly is used to create interactive and web-friendly visualizations.\n",
    "Charts are dynamic: you can hover, zoom, click, and get tooltips.\n",
    "It supports 3D plots, maps, and dashboards easily.\n",
    "Ideal for data exploration, dashboards, and web apps (often used with Dash).\n",
    "\n",
    "#Q10 What is the significance of hierarchical indexing in Panda?\n",
    "Hierarchical indexing (also called MultiIndex) in Pandas allows you to have multiple levels of indexes on rows or columns of a DataFrame.\n",
    "Instead of a single label to identify a row, you can use a combination of labels — like having row within a row.\n",
    "1. Better Organization of Complex Data\n",
    "2. Easy Data Analysis\n",
    "3.Pivot Tables and Grouping\n",
    "4.Simulates Multi-Dimensional Data\n",
    "\n",
    "#Q11 A What is the role of Seaborn’s pairplot() function?\n",
    "The pairplot() function in Seaborn is used to create a grid of plots that show the relationships between multiple numeric variables in a dataset.\n",
    "What Does It Do?\n",
    "It plots scatter plots for every pair of numeric columns.\n",
    "It shows histograms (or KDE plots) on the diagonal to show the distribution of each variable.\n",
    "You can optionally color (hue) the points by a category to compare groups.\n",
    "   \n",
    "#Q12 What is the purpose of the describe() function in Pandas?\n",
    "The describe() function gives you a quick snapshot of your dataset’s important numeric statistics, making it easier to explore and \n",
    "understand your data.\n",
    " When you call describe() on a DataFrame, it gives you useful information like:\n",
    "1.Count – total number of values\n",
    "2.Mean – average value\n",
    "3.Standard deviation – how spread out the values are\n",
    "4.Min – smallest value\n",
    "5.25%, 50% (median), 75% – values at those percentiles\n",
    "6.Max – largest value\n",
    "    \n",
    "#Q13 Why is handling missing data important in Pandas?\n",
    " Handling missing data is important to make sure your results are correct, reliable, and useful. Pandas gives you the tools to find, fix, or \n",
    "remove missing values so your data is clean and ready to use.   \n",
    "WHY:\n",
    "1.Prevents Errors in Analysis\n",
    "2.Models Can Fail\n",
    "3.Keeps Results Accurate\n",
    "4.Helps You Understand Your Data\n",
    "    \n",
    "#Q14 What are the benefits of using Plotly for data visualization?\n",
    "Plotly is a powerful Python library that makes it easy to create interactive, web-ready visualizations. Here are the key benefits of using Plotly:\n",
    "Benefit:\n",
    "Interactive Charts\n",
    "Beautiful and Modern Look\n",
    "Wide Variety of Charts\n",
    "Easy to Use with Pandas\n",
    "Web & Dashboard Friendly\n",
    "support animation\n",
    "    \n",
    "#Q15 How does NumPy handle multidimensional arrays?\n",
    "NumPy is designed to handle multidimensional arrays (also called ndarrays) efficiently and easily. These arrays can be 1D (like a list), \n",
    "2D (like a table), or even higher dimensions (like images or datasets with time and location).\n",
    "    \n",
    "Q16 What is the role of Bokeh in data visualization?\n",
    "Bokeh is a powerful Python library used to create interactive and web-based visualizations. It’s designed to make it easy to build dashboards, \n",
    "data apps, and detailed plots that run in your browser.\n",
    "Interactive Plots\n",
    "Web-Ready Visualization\n",
    "Supports Complex Plots\n",
    "Real-Time Data\n",
    "Dashboard Integration\n",
    "    \n",
    "#Q17 Explain the difference between apply() and map() in Pandas?\n",
    "Both apply() and map() are used to transform data in Pandas, but they are used in different situations and on different types of objects\n",
    "1 map() – For Series Only\n",
    "Used with Pandas Series (a single column).\n",
    "Applies a function, dictionary, or lambda to each element in the Series.\n",
    "Best for element-wise transformations.\n",
    "2 apply() – For Series and DataFrames\n",
    "Can be used on both Series and DataFrames.\n",
    "For Series: works like map().\n",
    "For DataFrame: applies a function row-wise or column-wise.\n",
    "    \n",
    "#Q18 What are some advanced features of NumPy?\n",
    "NumPy’s advanced features help you work faster, smarter, and with bigger data — from math and statistics to machine learning and image processing.\n",
    "1.Brodcasting\n",
    "2.Multidimensional Array Manipulation\n",
    "3.Vectorization\n",
    "4. Masked Arrays\n",
    "5.Advanced Indexing and Slicing\n",
    "    \n",
    "#Q19 How does Pandas simplify time series analysis?\n",
    "Pandas simplifies time series analysis by providing powerful tools that make it easy to work with dates and time-based data — all within a \n",
    "familiar DataFrame structure. It allows you to efficiently index, filter, resample, and analyze time series data with minimal code.\n",
    "DateTime Indexing\n",
    "Automatic Date Parsing\n",
    "Resampling and Frequency Conversion\n",
    "Rolling Window Calculations\n",
    "Time Zone Support\n",
    "Date Range Generation\n",
    "  \n",
    "#Q20 What is the role of a pivot table in Pandas?\n",
    "A pivot table in Pandas is used to summarize, group, and analyze data in a flexible and readable format. It lets you reorganize your \n",
    " data by reshaping it based on one or more column values, helping you extract meaningful insights quickly — much like pivot tables in Excel.\n",
    "    \n",
    "#Q21 Why is NumPy’s array slicing faster than Python’s list slicing?\n",
    "NumPy's array slicing is faster and more memory-efficient than Python’s list slicing because of how NumPy arrays are stored and managed internally.\n",
    "1.Fixed Data Type and Contiguous Memory\n",
    "2.Views Instead of Copies\n",
    "3.Optimized Under the Hood (C/C++)\n",
    "\n",
    "#Q22 What are some common use cases for Seaborn?\n",
    "Seaborn is a Python visualization library built on top of Matplotlib. It is especially powerful for creating statistical graphics with \n",
    "less code and more style. Here are some of its most common use cases:\n",
    "    Exploratory Data Analysis (EDA)\n",
    "    Visualizing Distributions\n",
    "    Visualizing Relationships\n",
    "    Categorical Data Visualization\n",
    "    Heatmaps and Correlation Matrices\n",
    "\n",
    "\n",
    "\n",
    "    \n",
    "\n"
   ]
  },
  {
   "cell_type": "code",
   "execution_count": 1,
   "id": "69e4aa0f-8bf9-46cc-bdce-c9d07ba0d70a",
   "metadata": {},
   "outputs": [
    {
     "name": "stdout",
     "output_type": "stream",
     "text": [
      "2D Array:\n",
      "[[1 2 3]\n",
      " [4 5 6]\n",
      " [7 8 9]]\n",
      "\n",
      "Sum of each row:\n",
      "[ 6 15 24]\n"
     ]
    }
   ],
   "source": [
    "#Q1.How do you create a 2D NumPy array and calculate the sum of each row.\n",
    "import numpy as np\n",
    "\n",
    "# Step 1: Create a 2D NumPy array\n",
    "my_array = np.array([\n",
    "    [1, 2, 3],\n",
    "    [4, 5, 6],\n",
    "    [7, 8, 9]\n",
    "])\n",
    "\n",
    "# Step 2: Print the array\n",
    "print(\"2D Array:\")\n",
    "print(my_array)\n",
    "\n",
    "# Step 3: Calculate the sum of each row\n",
    "row_sums = np.sum(my_array, axis=1)\n",
    "\n",
    "# Step 4: Print the result\n",
    "print(\"\\nSum of each row:\")\n",
    "print(row_sums)\n",
    "\n"
   ]
  },
  {
   "cell_type": "code",
   "execution_count": 2,
   "id": "e59c8248-23f5-4648-a399-132a660e65ae",
   "metadata": {},
   "outputs": [
    {
     "name": "stdout",
     "output_type": "stream",
     "text": [
      "DataFrame:\n",
      "      Name  Age\n",
      "0    Alice   25\n",
      "1      Bob   30\n",
      "2  Charlie   35\n",
      "3    David   40\n",
      "\n",
      "Mean of the 'Age' column: 32.5\n"
     ]
    }
   ],
   "source": [
    "#Q2 Write a Pandas script to find the mean of a specific column in a DataFrame\n",
    "import pandas as pd\n",
    "\n",
    "# Step 1: Create a DataFrame\n",
    "data = {\n",
    "    'Name': ['Alice', 'Bob', 'Charlie', 'David'],\n",
    "    'Age': [25, 30, 35, 40]\n",
    "}\n",
    "\n",
    "df = pd.DataFrame(data)\n",
    "\n",
    "# Step 2: Print the DataFrame\n",
    "print(\"DataFrame:\")\n",
    "print(df)\n",
    "\n",
    "# Step 3: Calculate the mean of the 'Age' column\n",
    "mean_age = df['Age'].mean()\n",
    "\n",
    "# Step 4: Print the mean\n",
    "print(\"\\nMean of the 'Age' column:\", mean_age)\n"
   ]
  },
  {
   "cell_type": "code",
   "execution_count": 13,
   "id": "4d217207-bdb0-4fd6-a4d7-d7aed32d5398",
   "metadata": {},
   "outputs": [
    {
     "data": {
      "image/png": "[encoded data removed]",
      "text/plain": [
       "<Figure size 640x480 with 1 Axes>"
      ]
     },
     "metadata": {},
     "output_type": "display_data"
    }
   ],
   "source": [
    "#Q3 Create a scatter plot using Matplotlib.\n",
    "import matplotlib.pyplot as plt\n",
    "\n",
    "# Step 1: Create data\n",
    "x = [1, 2, 3, 4, 5]\n",
    "y = [10, 20, 25, 30, 40]\n",
    "\n",
    "# Step 2: Create scatter plot\n",
    "plt.scatter(x, y, color='blue', marker='o')\n",
    "\n",
    "# Step 3: Add labels and title\n",
    "plt.xlabel('X Axis')\n",
    "plt.ylabel('Y Axis')\n",
    "plt.title('Simple Scatter Plot')\n",
    "\n",
    "# Step 4: Show the plot\n",
    "plt.show()\n",
    "\n"
   ]
  },
  {
   "cell_type": "code",
   "execution_count": 15,
   "id": "6ad143b6-f764-4534-9d22-ab6848e6548b",
   "metadata": {},
   "outputs": [
    {
     "name": "stdout",
     "output_type": "stream",
     "text": [
      "Correlation Matrix:\n",
      "             Math   Science   English   History\n",
      "Math     1.000000  0.983116  0.901884  0.937179\n",
      "Science  0.983116  1.000000  0.939457  0.912462\n",
      "English  0.901884  0.939457  1.000000  0.924579\n",
      "History  0.937179  0.912462  0.924579  1.000000\n"
     ]
    },
    {
     "data": {
      "image/png": "[encoded data removed]",
      "text/plain": [
       "<Figure size 640x480 with 2 Axes>"
      ]
     },
     "metadata": {},
     "output_type": "display_data"
    }
   ],
   "source": [
    "#Q4 How do you calculate the correlation matrix using Seaborn and visualize it with a heatmap?\n",
    "import pandas as pd\n",
    "import seaborn as sns\n",
    "import matplotlib.pyplot as plt\n",
    "\n",
    "# Step 1: Create a sample DataFrame\n",
    "data = {\n",
    "    'Math': [85, 90, 78, 92, 88],\n",
    "    'Science': [80, 85, 75, 89, 84],\n",
    "    'English': [78, 83, 77, 85, 80],\n",
    "    'History': [70, 75, 68, 74, 72]\n",
    "}\n",
    "\n",
    "df = pd.DataFrame(data)\n",
    "\n",
    "# Step 2: Calculate the correlation matrix\n",
    "correlation_matrix = df.corr()\n",
    "\n",
    "# Step 3: Print the correlation matrix\n",
    "print(\"Correlation Matrix:\")\n",
    "print(correlation_matrix)\n",
    "\n",
    "# Step 4: Visualize the correlation matrix with a heatmap\n",
    "sns.heatmap(correlation_matrix, annot=True, cmap='coolwarm', linewidths=0.5)\n",
    "\n",
    "# Step 5: Add title and show the plot\n",
    "plt.title('Correlation Heatmap')\n",
    "plt.show()\n",
    "\n"
   ]
  },
  {
   "cell_type": "code",
   "execution_count": 20,
   "id": "25036d67-6ce7-489e-aa5f-9b32463e3c10",
   "metadata": {},
   "outputs": [
    {
     "data": {
      "application/vnd.plotly.v1+json": {
       "config": {
        "plotlyServerURL": "https://plot.ly"
       },
       "data": [
        {
         "hovertemplate": "Fruits=%{x}<br>Quantity=%{y}<extra></extra>",
         "legendgroup": "",
         "marker": {
          "color": "#636efa",
          "pattern": {
           "shape": ""
          }
         },
         "name": "",
         "orientation": "v",
         "showlegend": false,
         "textposition": "auto",
         "type": "bar",
         "x": [
          "Apples",
          "Bananas",
          "Cherries",
          "Dates"
         ],
         "xaxis": "x",
         "y": {
          "bdata": "MksePA==",
          "dtype": "i1"
         },
         "yaxis": "y"
        }
       ],
       "layout": {
        "barmode": "relative",
        "legend": {
         "tracegroupgap": 0
        },
        "template": {
         "data": {
          "bar": [
           {
            "error_x": {
             "color": "#2a3f5f"
            },
            "error_y": {
             "color": "#2a3f5f"
            },
            "marker": {
             "line": {
              "color": "#E5ECF6",
              "width": 0.5
             },
             "pattern": {
              "fillmode": "overlay",
              "size": 10,
              "solidity": 0.2
             }
            },
            "type": "bar"
           }
          ],
          "barpolar": [
           {
            "marker": {
             "line": {
              "color": "#E5ECF6",
              "width": 0.5
             },
             "pattern": {
              "fillmode": "overlay",
              "size": 10,
              "solidity": 0.2
             }
            },
            "type": "barpolar"
           }
          ],
          "carpet": [
           {
            "aaxis": {
             "endlinecolor": "#2a3f5f",
             "gridcolor": "white",
             "linecolor": "white",
             "minorgridcolor": "white",
             "startlinecolor": "#2a3f5f"
            },
            "baxis": {
             "endlinecolor": "#2a3f5f",
             "gridcolor": "white",
             "linecolor": "white",
             "minorgridcolor": "white",
             "startlinecolor": "#2a3f5f"
            },
            "type": "carpet"
           }
          ],
          "choropleth": [
           {
            "colorbar": {
             "outlinewidth": 0,
             "ticks": ""
            },
            "type": "choropleth"
           }
          ],
          "contour": [
           {
            "colorbar": {
             "outlinewidth": 0,
             "ticks": ""
            },
            "colorscale": [
             [
              0,
              "#0d0887"
             ],
             [
              0.1111111111111111,
              "#46039f"
             ],
             [
              0.2222222222222222,
              "#7201a8"
             ],
             [
              0.3333333333333333,
              "#9c179e"
             ],
             [
              0.4444444444444444,
              "#bd3786"
             ],
             [
              0.5555555555555556,
              "#d8576b"
             ],
             [
              0.6666666666666666,
              "#ed7953"
             ],
             [
              0.7777777777777778,
              "#fb9f3a"
             ],
             [
              0.8888888888888888,
              "#fdca26"
             ],
             [
              1,
              "#f0f921"
             ]
            ],
            "type": "contour"
           }
          ],
          "contourcarpet": [
           {
            "colorbar": {
             "outlinewidth": 0,
             "ticks": ""
            },
            "type": "contourcarpet"
           }
          ],
          "heatmap": [
           {
            "colorbar": {
             "outlinewidth": 0,
             "ticks": ""
            },
            "colorscale": [
             [
              0,
              "#0d0887"
             ],
             [
              0.1111111111111111,
              "#46039f"
             ],
             [
              0.2222222222222222,
              "#7201a8"
             ],
             [
              0.3333333333333333,
              "#9c179e"
             ],
             [
              0.4444444444444444,
              "#bd3786"
             ],
             [
              0.5555555555555556,
              "#d8576b"
             ],
             [
              0.6666666666666666,
              "#ed7953"
             ],
             [
              0.7777777777777778,
              "#fb9f3a"
             ],
             [
              0.8888888888888888,
              "#fdca26"
             ],
             [
              1,
              "#f0f921"
             ]
            ],
            "type": "heatmap"
           }
          ],
          "histogram": [
           {
            "marker": {
             "pattern": {
              "fillmode": "overlay",
              "size": 10,
              "solidity": 0.2
             }
            },
            "type": "histogram"
           }
          ],
          "histogram2d": [
           {
            "colorbar": {
             "outlinewidth": 0,
             "ticks": ""
            },
            "colorscale": [
             [
              0,
              "#0d0887"
             ],
             [
              0.1111111111111111,
              "#46039f"
             ],
             [
              0.2222222222222222,
              "#7201a8"
             ],
             [
              0.3333333333333333,
              "#9c179e"
             ],
             [
              0.4444444444444444,
              "#bd3786"
             ],
             [
              0.5555555555555556,
              "#d8576b"
             ],
             [
              0.6666666666666666,
              "#ed7953"
             ],
             [
              0.7777777777777778,
              "#fb9f3a"
             ],
             [
              0.8888888888888888,
              "#fdca26"
             ],
             [
              1,
              "#f0f921"
             ]
            ],
            "type": "histogram2d"
           }
          ],
          "histogram2dcontour": [
           {
            "colorbar": {
             "outlinewidth": 0,
             "ticks": ""
            },
            "colorscale": [
             [
              0,
              "#0d0887"
             ],
             [
              0.1111111111111111,
              "#46039f"
             ],
             [
              0.2222222222222222,
              "#7201a8"
             ],
             [
              0.3333333333333333,
              "#9c179e"
             ],
             [
              0.4444444444444444,
              "#bd3786"
             ],
             [
              0.5555555555555556,
              "#d8576b"
             ],
             [
              0.6666666666666666,
              "#ed7953"
             ],
             [
              0.7777777777777778,
              "#fb9f3a"
             ],
             [
              0.8888888888888888,
              "#fdca26"
             ],
             [
              1,
              "#f0f921"
             ]
            ],
            "type": "histogram2dcontour"
           }
          ],
          "mesh3d": [
           {
            "colorbar": {
             "outlinewidth": 0,
             "ticks": ""
            },
            "type": "mesh3d"
           }
          ],
          "parcoords": [
           {
            "line": {
             "colorbar": {
              "outlinewidth": 0,
              "ticks": ""
             }
            },
            "type": "parcoords"
           }
          ],
          "pie": [
           {
            "automargin": true,
            "type": "pie"
           }
          ],
          "scatter": [
           {
            "fillpattern": {
             "fillmode": "overlay",
             "size": 10,
             "solidity": 0.2
            },
            "type": "scatter"
           }
          ],
          "scatter3d": [
           {
            "line": {
             "colorbar": {
              "outlinewidth": 0,
              "ticks": ""
             }
            },
            "marker": {
             "colorbar": {
              "outlinewidth": 0,
              "ticks": ""
             }
            },
            "type": "scatter3d"
           }
          ],
          "scattercarpet": [
           {
            "marker": {
             "colorbar": {
              "outlinewidth": 0,
              "ticks": ""
             }
            },
            "type": "scattercarpet"
           }
          ],
          "scattergeo": [
           {
            "marker": {
             "colorbar": {
              "outlinewidth": 0,
              "ticks": ""
             }
            },
            "type": "scattergeo"
           }
          ],
          "scattergl": [
           {
            "marker": {
             "colorbar": {
              "outlinewidth": 0,
              "ticks": ""
             }
            },
            "type": "scattergl"
           }
          ],
          "scattermap": [
           {
            "marker": {
             "colorbar": {
              "outlinewidth": 0,
              "ticks": ""
             }
            },
            "type": "scattermap"
           }
          ],
          "scattermapbox": [
           {
            "marker": {
             "colorbar": {
              "outlinewidth": 0,
              "ticks": ""
             }
            },
            "type": "scattermapbox"
           }
          ],
          "scatterpolar": [
           {
            "marker": {
             "colorbar": {
              "outlinewidth": 0,
              "ticks": ""
             }
            },
            "type": "scatterpolar"
           }
          ],
          "scatterpolargl": [
           {
            "marker": {
             "colorbar": {
              "outlinewidth": 0,
              "ticks": ""
             }
            },
            "type": "scatterpolargl"
           }
          ],
          "scatterternary": [
           {
            "marker": {
             "colorbar": {
              "outlinewidth": 0,
              "ticks": ""
             }
            },
            "type": "scatterternary"
           }
          ],
          "surface": [
           {
            "colorbar": {
             "outlinewidth": 0,
             "ticks": ""
            },
            "colorscale": [
             [
              0,
              "#0d0887"
             ],
             [
              0.1111111111111111,
              "#46039f"
             ],
             [
              0.2222222222222222,
              "#7201a8"
             ],
             [
              0.3333333333333333,
              "#9c179e"
             ],
             [
              0.4444444444444444,
              "#bd3786"
             ],
             [
              0.5555555555555556,
              "#d8576b"
             ],
             [
              0.6666666666666666,
              "#ed7953"
             ],
             [
              0.7777777777777778,
              "#fb9f3a"
             ],
             [
              0.8888888888888888,
              "#fdca26"
             ],
             [
              1,
              "#f0f921"
             ]
            ],
            "type": "surface"
           }
          ],
          "table": [
           {
            "cells": {
             "fill": {
              "color": "#EBF0F8"
             },
             "line": {
              "color": "white"
             }
            },
            "header": {
             "fill": {
              "color": "#C8D4E3"
             },
             "line": {
              "color": "white"
             }
            },
            "type": "table"
           }
          ]
         },
         "layout": {
          "annotationdefaults": {
           "arrowcolor": "#2a3f5f",
           "arrowhead": 0,
           "arrowwidth": 1
          },
          "autotypenumbers": "strict",
          "coloraxis": {
           "colorbar": {
            "outlinewidth": 0,
            "ticks": ""
           }
          },
          "colorscale": {
           "diverging": [
            [
             0,
             "#8e0152"
            ],
            [
             0.1,
             "#c51b7d"
            ],
            [
             0.2,
             "#de77ae"
            ],
            [
             0.3,
             "#f1b6da"
            ],
            [
             0.4,
             "#fde0ef"
            ],
            [
             0.5,
             "#f7f7f7"
            ],
            [
             0.6,
             "#e6f5d0"
            ],
            [
             0.7,
             "#b8e186"
            ],
            [
             0.8,
             "#7fbc41"
            ],
            [
             0.9,
             "#4d9221"
            ],
            [
             1,
             "#276419"
            ]
           ],
           "sequential": [
            [
             0,
             "#0d0887"
            ],
            [
             0.1111111111111111,
             "#46039f"
            ],
            [
             0.2222222222222222,
             "#7201a8"
            ],
            [
             0.3333333333333333,
             "#9c179e"
            ],
            [
             0.4444444444444444,
             "#bd3786"
            ],
            [
             0.5555555555555556,
             "#d8576b"
            ],
            [
             0.6666666666666666,
             "#ed7953"
            ],
            [
             0.7777777777777778,
             "#fb9f3a"
            ],
            [
             0.8888888888888888,
             "#fdca26"
            ],
            [
             1,
             "#f0f921"
            ]
           ],
           "sequentialminus": [
            [
             0,
             "#0d0887"
            ],
            [
             0.1111111111111111,
             "#46039f"
            ],
            [
             0.2222222222222222,
             "#7201a8"
            ],
            [
             0.3333333333333333,
             "#9c179e"
            ],
            [
             0.4444444444444444,
             "#bd3786"
            ],
            [
             0.5555555555555556,
             "#d8576b"
            ],
            [
             0.6666666666666666,
             "#ed7953"
            ],
            [
             0.7777777777777778,
             "#fb9f3a"
            ],
            [
             0.8888888888888888,
             "#fdca26"
            ],
            [
             1,
             "#f0f921"
            ]
           ]
          },
          "colorway": [
           "#636efa",
           "#EF553B",
           "#00cc96",
           "#ab63fa",
           "#FFA15A",
           "#19d3f3",
           "#FF6692",
           "#B6E880",
           "#FF97FF",
           "#FECB52"
          ],
          "font": {
           "color": "#2a3f5f"
          },
          "geo": {
           "bgcolor": "white",
           "lakecolor": "white",
           "landcolor": "#E5ECF6",
           "showlakes": true,
           "showland": true,
           "subunitcolor": "white"
          },
          "hoverlabel": {
           "align": "left"
          },
          "hovermode": "closest",
          "mapbox": {
           "style": "light"
          },
          "paper_bgcolor": "white",
          "plot_bgcolor": "#E5ECF6",
          "polar": {
           "angularaxis": {
            "gridcolor": "white",
            "linecolor": "white",
            "ticks": ""
           },
           "bgcolor": "#E5ECF6",
           "radialaxis": {
            "gridcolor": "white",
            "linecolor": "white",
            "ticks": ""
           }
          },
          "scene": {
           "xaxis": {
            "backgroundcolor": "#E5ECF6",
            "gridcolor": "white",
            "gridwidth": 2,
            "linecolor": "white",
            "showbackground": true,
            "ticks": "",
            "zerolinecolor": "white"
           },
           "yaxis": {
            "backgroundcolor": "#E5ECF6",
            "gridcolor": "white",
            "gridwidth": 2,
            "linecolor": "white",
            "showbackground": true,
            "ticks": "",
            "zerolinecolor": "white"
           },
           "zaxis": {
            "backgroundcolor": "#E5ECF6",
            "gridcolor": "white",
            "gridwidth": 2,
            "linecolor": "white",
            "showbackground": true,
            "ticks": "",
            "zerolinecolor": "white"
           }
          },
          "shapedefaults": {
           "line": {
            "color": "#2a3f5f"
           }
          },
          "ternary": {
           "aaxis": {
            "gridcolor": "white",
            "linecolor": "white",
            "ticks": ""
           },
           "baxis": {
            "gridcolor": "white",
            "linecolor": "white",
            "ticks": ""
           },
           "bgcolor": "#E5ECF6",
           "caxis": {
            "gridcolor": "white",
            "linecolor": "white",
            "ticks": ""
           }
          },
          "title": {
           "x": 0.05
          },
          "xaxis": {
           "automargin": true,
           "gridcolor": "white",
           "linecolor": "white",
           "ticks": "",
           "title": {
            "standoff": 15
           },
           "zerolinecolor": "white",
           "zerolinewidth": 2
          },
          "yaxis": {
           "automargin": true,
           "gridcolor": "white",
           "linecolor": "white",
           "ticks": "",
           "title": {
            "standoff": 15
           },
           "zerolinecolor": "white",
           "zerolinewidth": 2
          }
         }
        },
        "title": {
         "text": "Fruit Quantity Bar Chart"
        },
        "xaxis": {
         "anchor": "y",
         "domain": [
          0,
          1
         ],
         "title": {
          "text": "Fruits"
         }
        },
        "yaxis": {
         "anchor": "x",
         "domain": [
          0,
          1
         ],
         "title": {
          "text": "Quantity"
         }
        }
       }
      }
     },
     "metadata": {},
     "output_type": "display_data"
    }
   ],
   "source": [
    "#Q5Generate a bar plot using Plotly?\n",
    "\n",
    "import plotly.express as px\n",
    "import pandas as pd\n",
    "\n",
    "# Step 1: Create sample data\n",
    "data = {\n",
    "    'Fruits': ['Apples', 'Bananas', 'Cherries', 'Dates'],\n",
    "    'Quantity': [50, 75, 30, 60]\n",
    "}\n",
    "\n",
    "df = pd.DataFrame(data)\n",
    "\n",
    "# Step 2: Create a bar plot\n",
    "fig = px.bar(df, x='Fruits', y='Quantity', title='Fruit Quantity Bar Chart')\n",
    "\n",
    "# Step 3: Show the plot\n",
    "fig.show()\n"
   ]
  },
  {
   "cell_type": "code",
   "execution_count": 6,
   "id": "b92f4ba7-a5e2-4122-ac5c-954a7f33046b",
   "metadata": {},
   "outputs": [
    {
     "name": "stdout",
     "output_type": "stream",
     "text": [
      "       Item  Price  Discounted_Price\n",
      "0      Book    200             180.0\n",
      "1       Pen     20              18.0\n",
      "2  Notebook    100              90.0\n",
      "3    Pencil     10               9.0\n"
     ]
    }
   ],
   "source": [
    "#Q6 Create a DataFrame and add a new column based on an existing column?\n",
    "import pandas as pd\n",
    "\n",
    "# Step 1: Create a DataFrame\n",
    "data = {\n",
    "    'Item': ['Book', 'Pen', 'Notebook', 'Pencil'],\n",
    "    'Price': [200, 20, 100, 10]\n",
    "}\n",
    "\n",
    "df = pd.DataFrame(data)\n",
    "\n",
    "# Step 2: Add a new column based on 'Price'\n",
    "df['Discounted_Price'] = df['Price'] * 0.90  # 10% discount\n",
    "\n",
    "# Step 3: Display the DataFrame\n",
    "print(df)\n"
   ]
  },
  {
   "cell_type": "code",
   "execution_count": 7,
   "id": "f8d16913-1be0-4a7e-a5fe-8b281204ff70",
   "metadata": {},
   "outputs": [
    {
     "name": "stdout",
     "output_type": "stream",
     "text": [
      "Array 1: [1 2 3 4]\n",
      "Array 2: [10 20 30 40]\n",
      "Element-wise Multiplication: [ 10  40  90 160]\n"
     ]
    }
   ],
   "source": [
    "#Q7 Write a program to perform element-wise multiplication of two NumPy arrays?\n",
    "import numpy as np\n",
    "\n",
    "# Step 1: Create two NumPy arrays\n",
    "array1 = np.array([1, 2, 3, 4])\n",
    "array2 = np.array([10, 20, 30, 40])\n",
    "\n",
    "# Step 2: Perform element-wise multiplication\n",
    "result = array1 * array2\n",
    "# Or you can also use: result = np.multiply(array1, array2)\n",
    "\n",
    "# Step 3: Print the result\n",
    "print(\"Array 1:\", array1)\n",
    "print(\"Array 2:\", array2)\n",
    "print(\"Element-wise Multiplication:\", result)\n",
    "\n"
   ]
  },
  {
   "cell_type": "code",
   "execution_count": 21,
   "id": "16a9f46e-4437-4365-a838-eeefab6d0ca5",
   "metadata": {},
   "outputs": [
    {
     "data": {
      "image/png": "[encoded data removed]",
      "text/plain": [
       "<Figure size 640x480 with 1 Axes>"
      ]
     },
     "metadata": {},
     "output_type": "display_data"
    }
   ],
   "source": [
    "#Q8Create a line plot with multiple lines using Matplotlib?\n",
    "\n",
    "import matplotlib.pyplot as plt\n",
    "\n",
    "# Step 1: Create data for multiple lines\n",
    "x = [1, 2, 3, 4, 5]\n",
    "\n",
    "y1 = [10, 20, 25, 30, 40]   # Line 1\n",
    "y2 = [5, 15, 20, 25, 35]    # Line 2\n",
    "\n",
    "# Step 2: Plot the lines\n",
    "plt.plot(x, y1, label='Line 1', color='blue', marker='o')\n",
    "plt.plot(x, y2, label='Line 2', color='green', marker='x')\n",
    "\n",
    "# Step 3: Add labels, title, and legend\n",
    "plt.xlabel('X Axis')\n",
    "plt.ylabel('Y Axis')\n",
    "plt.title('Line Plot with Multiple Lines')\n",
    "plt.legend()\n",
    "\n",
    "# Step 4: Show the plot\n",
    "plt.grid(True)\n",
    "plt.show()\n"
   ]
  },
  {
   "cell_type": "code",
   "execution_count": 8,
   "id": "be3d6dcc-d5e6-4c32-979d-4b986fa6cc88",
   "metadata": {},
   "outputs": [
    {
     "name": "stdout",
     "output_type": "stream",
     "text": [
      "Original DataFrame:\n",
      "      Name  Score\n",
      "0    Alice     85\n",
      "1      Bob     72\n",
      "2  Charlie     90\n",
      "3    David     66\n",
      "4      Eva     88\n",
      "\n",
      "Filtered DataFrame (Score > 80):\n",
      "      Name  Score\n",
      "0    Alice     85\n",
      "2  Charlie     90\n",
      "4      Eva     88\n"
     ]
    }
   ],
   "source": [
    "#Q9 Generate a Pandas DataFrame and filter rows where a column value is greater than a threshold\n",
    "import pandas as pd\n",
    "\n",
    "# Step 1: Create a DataFrame\n",
    "data = {\n",
    "    'Name': ['Alice', 'Bob', 'Charlie', 'David', 'Eva'],\n",
    "    'Score': [85, 72, 90, 66, 88]\n",
    "}\n",
    "\n",
    "df = pd.DataFrame(data)\n",
    "\n",
    "# Step 2: Filter rows where Score > 80\n",
    "filtered_df = df[df['Score'] > 80]\n",
    "\n",
    "# Step 3: Display the filtered DataFrame\n",
    "print(\"Original DataFrame:\")\n",
    "print(df)\n",
    "\n",
    "print(\"\\nFiltered DataFrame (Score > 80):\")\n",
    "print(filtered_df)\n"
   ]
  },
  {
   "cell_type": "code",
   "execution_count": 23,
   "id": "dcb94259-9857-4e89-ab6a-a90c401a4074",
   "metadata": {},
   "outputs": [
    {
     "data": {
      "image/png": "[encoded data removed]",
      "text/plain": [
       "<Figure size 640x480 with 1 Axes>"
      ]
     },
     "metadata": {},
     "output_type": "display_data"
    }
   ],
   "source": [
    "#Q10 Create a histogram using Seaborn to visualize a distribution\n",
    "\n",
    "import seaborn as sns\n",
    "import matplotlib.pyplot as plt\n",
    "\n",
    "# Step 1: Sample data (e.g., student scores)\n",
    "scores = [55, 60, 62, 65, 66, 68, 70, 72, 74, 75, 76, 78, 80, 82, 85, 88, 90, 92, 95]\n",
    "\n",
    "# Step 2: Create histogram using Seaborn\n",
    "sns.histplot(scores, bins=8, kde=True, color='skyblue')\n",
    "\n",
    "# Step 3: Add labels and title\n",
    "plt.xlabel('Scores')\n",
    "plt.ylabel('Frequency')\n",
    "plt.title('Distribution of Student Scores')\n",
    "\n",
    "# Step 4: Show the plot\n",
    "plt.show()\n"
   ]
  },
  {
   "cell_type": "code",
   "execution_count": 9,
   "id": "5ad9ceec-ade3-4a1c-89c7-3b6a6fc9a1b2",
   "metadata": {},
   "outputs": [
    {
     "name": "stdout",
     "output_type": "stream",
     "text": [
      "Matrix A:\n",
      "[[1 2]\n",
      " [3 4]]\n",
      "\n",
      "Matrix B:\n",
      "[[5 6]\n",
      " [7 8]]\n",
      "\n",
      "Matrix Multiplication (A x B):\n",
      "[[19 22]\n",
      " [43 50]]\n"
     ]
    }
   ],
   "source": [
    "#Q11 Perform matrix multiplication using NumPy?\n",
    "import numpy as np\n",
    "\n",
    "# Step 1: Create two matrices (2D arrays)\n",
    "A = np.array([[1, 2],\n",
    "              [3, 4]])\n",
    "\n",
    "B = np.array([[5, 6],\n",
    "              [7, 8]])\n",
    "\n",
    "# Step 2: Perform matrix multiplication\n",
    "result = np.dot(A, B)\n",
    "# Or simply use: result = A @ B\n",
    "\n",
    "# Step 3: Print the result\n",
    "print(\"Matrix A:\")\n",
    "print(A)\n",
    "\n",
    "print(\"\\nMatrix B:\")\n",
    "print(B)\n",
    "\n",
    "print(\"\\nMatrix Multiplication (A x B):\")\n",
    "print(result)\n"
   ]
  },
  {
   "cell_type": "code",
   "execution_count": 27,
   "id": "9710c9f9-0295-4079-90c7-7070245dd7cc",
   "metadata": {},
   "outputs": [
    {
     "name": "stdout",
     "output_type": "stream",
     "text": [
      "   ID     Name  Age       City\n",
      "0   1    Alice   23      Delhi\n",
      "1   2      Bob   30     Mumbai\n",
      "2   3  Charlie   25  Bangalore\n",
      "3   4    David   22    Chennai\n",
      "4   5      Eva   28    Kolkata\n"
     ]
    }
   ],
   "source": [
    "#Q12Pandas to load a CSV file and display its first 5 rows.\n",
    "\n",
    "import pandas as pd\n",
    "\n",
    "# Step 1: Specify the file path\n",
    "file_path = r\"C:\\Users\\Neha Singh\\Downloads\\sample_data.csv\"\n",
    "\n",
    "# Step 2: Load the CSV file into a DataFrame\n",
    "df = pd.read_csv(file_path)\n",
    "\n",
    "# Step 3: Display the first 5 rows\n",
    "print(df.head())\n"
   ]
  },
  {
   "cell_type": "code",
   "execution_count": 19,
   "id": "e883744e-5952-4cee-baab-7c4120ec718a",
   "metadata": {},
   "outputs": [
    {
     "data": {
      "application/vnd.plotly.v1+json": {
       "config": {
        "plotlyServerURL": "https://plot.ly"
       },
       "data": [
        {
         "marker": {
          "color": [
           5,
           6,
           7,
           8,
           9
          ],
          "colorscale": [
           [
            0,
            "#440154"
           ],
           [
            0.1111111111111111,
            "#482878"
           ],
           [
            0.2222222222222222,
            "#3e4989"
           ],
           [
            0.3333333333333333,
            "#31688e"
           ],
           [
            0.4444444444444444,
            "#26828e"
           ],
           [
            0.5555555555555556,
            "#1f9e89"
           ],
           [
            0.6666666666666666,
            "#35b779"
           ],
           [
            0.7777777777777778,
            "#6ece58"
           ],
           [
            0.8888888888888888,
            "#b5de2b"
           ],
           [
            1,
            "#fde725"
           ]
          ],
          "opacity": 0.8,
          "size": 8
         },
         "mode": "markers",
         "type": "scatter3d",
         "x": [
          1,
          2,
          3,
          4,
          5
         ],
         "y": [
          10,
          11,
          12,
          13,
          14
         ],
         "z": [
          5,
          6,
          7,
          8,
          9
         ]
        }
       ],
       "layout": {
        "scene": {
         "xaxis": {
          "title": {
           "text": "X Axis"
          }
         },
         "yaxis": {
          "title": {
           "text": "Y Axis"
          }
         },
         "zaxis": {
          "title": {
           "text": "Z Axis"
          }
         }
        },
        "template": {
         "data": {
          "bar": [
           {
            "error_x": {
             "color": "#2a3f5f"
            },
            "error_y": {
             "color": "#2a3f5f"
            },
            "marker": {
             "line": {
              "color": "#E5ECF6",
              "width": 0.5
             },
             "pattern": {
              "fillmode": "overlay",
              "size": 10,
              "solidity": 0.2
             }
            },
            "type": "bar"
           }
          ],
          "barpolar": [
           {
            "marker": {
             "line": {
              "color": "#E5ECF6",
              "width": 0.5
             },
             "pattern": {
              "fillmode": "overlay",
              "size": 10,
              "solidity": 0.2
             }
            },
            "type": "barpolar"
           }
          ],
          "carpet": [
           {
            "aaxis": {
             "endlinecolor": "#2a3f5f",
             "gridcolor": "white",
             "linecolor": "white",
             "minorgridcolor": "white",
             "startlinecolor": "#2a3f5f"
            },
            "baxis": {
             "endlinecolor": "#2a3f5f",
             "gridcolor": "white",
             "linecolor": "white",
             "minorgridcolor": "white",
             "startlinecolor": "#2a3f5f"
            },
            "type": "carpet"
           }
          ],
          "choropleth": [
           {
            "colorbar": {
             "outlinewidth": 0,
             "ticks": ""
            },
            "type": "choropleth"
           }
          ],
          "contour": [
           {
            "colorbar": {
             "outlinewidth": 0,
             "ticks": ""
            },
            "colorscale": [
             [
              0,
              "#0d0887"
             ],
             [
              0.1111111111111111,
              "#46039f"
             ],
             [
              0.2222222222222222,
              "#7201a8"
             ],
             [
              0.3333333333333333,
              "#9c179e"
             ],
             [
              0.4444444444444444,
              "#bd3786"
             ],
             [
              0.5555555555555556,
              "#d8576b"
             ],
             [
              0.6666666666666666,
              "#ed7953"
             ],
             [
              0.7777777777777778,
              "#fb9f3a"
             ],
             [
              0.8888888888888888,
              "#fdca26"
             ],
             [
              1,
              "#f0f921"
             ]
            ],
            "type": "contour"
           }
          ],
          "contourcarpet": [
           {
            "colorbar": {
             "outlinewidth": 0,
             "ticks": ""
            },
            "type": "contourcarpet"
           }
          ],
          "heatmap": [
           {
            "colorbar": {
             "outlinewidth": 0,
             "ticks": ""
            },
            "colorscale": [
             [
              0,
              "#0d0887"
             ],
             [
              0.1111111111111111,
              "#46039f"
             ],
             [
              0.2222222222222222,
              "#7201a8"
             ],
             [
              0.3333333333333333,
              "#9c179e"
             ],
             [
              0.4444444444444444,
              "#bd3786"
             ],
             [
              0.5555555555555556,
              "#d8576b"
             ],
             [
              0.6666666666666666,
              "#ed7953"
             ],
             [
              0.7777777777777778,
              "#fb9f3a"
             ],
             [
              0.8888888888888888,
              "#fdca26"
             ],
             [
              1,
              "#f0f921"
             ]
            ],
            "type": "heatmap"
           }
          ],
          "histogram": [
           {
            "marker": {
             "pattern": {
              "fillmode": "overlay",
              "size": 10,
              "solidity": 0.2
             }
            },
            "type": "histogram"
           }
          ],
          "histogram2d": [
           {
            "colorbar": {
             "outlinewidth": 0,
             "ticks": ""
            },
            "colorscale": [
             [
              0,
              "#0d0887"
             ],
             [
              0.1111111111111111,
              "#46039f"
             ],
             [
              0.2222222222222222,
              "#7201a8"
             ],
             [
              0.3333333333333333,
              "#9c179e"
             ],
             [
              0.4444444444444444,
              "#bd3786"
             ],
             [
              0.5555555555555556,
              "#d8576b"
             ],
             [
              0.6666666666666666,
              "#ed7953"
             ],
             [
              0.7777777777777778,
              "#fb9f3a"
             ],
             [
              0.8888888888888888,
              "#fdca26"
             ],
             [
              1,
              "#f0f921"
             ]
            ],
            "type": "histogram2d"
           }
          ],
          "histogram2dcontour": [
           {
            "colorbar": {
             "outlinewidth": 0,
             "ticks": ""
            },
            "colorscale": [
             [
              0,
              "#0d0887"
             ],
             [
              0.1111111111111111,
              "#46039f"
             ],
             [
              0.2222222222222222,
              "#7201a8"
             ],
             [
              0.3333333333333333,
              "#9c179e"
             ],
             [
              0.4444444444444444,
              "#bd3786"
             ],
             [
              0.5555555555555556,
              "#d8576b"
             ],
             [
              0.6666666666666666,
              "#ed7953"
             ],
             [
              0.7777777777777778,
              "#fb9f3a"
             ],
             [
              0.8888888888888888,
              "#fdca26"
             ],
             [
              1,
              "#f0f921"
             ]
            ],
            "type": "histogram2dcontour"
           }
          ],
          "mesh3d": [
           {
            "colorbar": {
             "outlinewidth": 0,
             "ticks": ""
            },
            "type": "mesh3d"
           }
          ],
          "parcoords": [
           {
            "line": {
             "colorbar": {
              "outlinewidth": 0,
              "ticks": ""
             }
            },
            "type": "parcoords"
           }
          ],
          "pie": [
           {
            "automargin": true,
            "type": "pie"
           }
          ],
          "scatter": [
           {
            "fillpattern": {
             "fillmode": "overlay",
             "size": 10,
             "solidity": 0.2
            },
            "type": "scatter"
           }
          ],
          "scatter3d": [
           {
            "line": {
             "colorbar": {
              "outlinewidth": 0,
              "ticks": ""
             }
            },
            "marker": {
             "colorbar": {
              "outlinewidth": 0,
              "ticks": ""
             }
            },
            "type": "scatter3d"
           }
          ],
          "scattercarpet": [
           {
            "marker": {
             "colorbar": {
              "outlinewidth": 0,
              "ticks": ""
             }
            },
            "type": "scattercarpet"
           }
          ],
          "scattergeo": [
           {
            "marker": {
             "colorbar": {
              "outlinewidth": 0,
              "ticks": ""
             }
            },
            "type": "scattergeo"
           }
          ],
          "scattergl": [
           {
            "marker": {
             "colorbar": {
              "outlinewidth": 0,
              "ticks": ""
             }
            },
            "type": "scattergl"
           }
          ],
          "scattermap": [
           {
            "marker": {
             "colorbar": {
              "outlinewidth": 0,
              "ticks": ""
             }
            },
            "type": "scattermap"
           }
          ],
          "scattermapbox": [
           {
            "marker": {
             "colorbar": {
              "outlinewidth": 0,
              "ticks": ""
             }
            },
            "type": "scattermapbox"
           }
          ],
          "scatterpolar": [
           {
            "marker": {
             "colorbar": {
              "outlinewidth": 0,
              "ticks": ""
             }
            },
            "type": "scatterpolar"
           }
          ],
          "scatterpolargl": [
           {
            "marker": {
             "colorbar": {
              "outlinewidth": 0,
              "ticks": ""
             }
            },
            "type": "scatterpolargl"
           }
          ],
          "scatterternary": [
           {
            "marker": {
             "colorbar": {
              "outlinewidth": 0,
              "ticks": ""
             }
            },
            "type": "scatterternary"
           }
          ],
          "surface": [
           {
            "colorbar": {
             "outlinewidth": 0,
             "ticks": ""
            },
            "colorscale": [
             [
              0,
              "#0d0887"
             ],
             [
              0.1111111111111111,
              "#46039f"
             ],
             [
              0.2222222222222222,
              "#7201a8"
             ],
             [
              0.3333333333333333,
              "#9c179e"
             ],
             [
              0.4444444444444444,
              "#bd3786"
             ],
             [
              0.5555555555555556,
              "#d8576b"
             ],
             [
              0.6666666666666666,
              "#ed7953"
             ],
             [
              0.7777777777777778,
              "#fb9f3a"
             ],
             [
              0.8888888888888888,
              "#fdca26"
             ],
             [
              1,
              "#f0f921"
             ]
            ],
            "type": "surface"
           }
          ],
          "table": [
           {
            "cells": {
             "fill": {
              "color": "#EBF0F8"
             },
             "line": {
              "color": "white"
             }
            },
            "header": {
             "fill": {
              "color": "#C8D4E3"
             },
             "line": {
              "color": "white"
             }
            },
            "type": "table"
           }
          ]
         },
         "layout": {
          "annotationdefaults": {
           "arrowcolor": "#2a3f5f",
           "arrowhead": 0,
           "arrowwidth": 1
          },
          "autotypenumbers": "strict",
          "coloraxis": {
           "colorbar": {
            "outlinewidth": 0,
            "ticks": ""
           }
          },
          "colorscale": {
           "diverging": [
            [
             0,
             "#8e0152"
            ],
            [
             0.1,
             "#c51b7d"
            ],
            [
             0.2,
             "#de77ae"
            ],
            [
             0.3,
             "#f1b6da"
            ],
            [
             0.4,
             "#fde0ef"
            ],
            [
             0.5,
             "#f7f7f7"
            ],
            [
             0.6,
             "#e6f5d0"
            ],
            [
             0.7,
             "#b8e186"
            ],
            [
             0.8,
             "#7fbc41"
            ],
            [
             0.9,
             "#4d9221"
            ],
            [
             1,
             "#276419"
            ]
           ],
           "sequential": [
            [
             0,
             "#0d0887"
            ],
            [
             0.1111111111111111,
             "#46039f"
            ],
            [
             0.2222222222222222,
             "#7201a8"
            ],
            [
             0.3333333333333333,
             "#9c179e"
            ],
            [
             0.4444444444444444,
             "#bd3786"
            ],
            [
             0.5555555555555556,
             "#d8576b"
            ],
            [
             0.6666666666666666,
             "#ed7953"
            ],
            [
             0.7777777777777778,
             "#fb9f3a"
            ],
            [
             0.8888888888888888,
             "#fdca26"
            ],
            [
             1,
             "#f0f921"
            ]
           ],
           "sequentialminus": [
            [
             0,
             "#0d0887"
            ],
            [
             0.1111111111111111,
             "#46039f"
            ],
            [
             0.2222222222222222,
             "#7201a8"
            ],
            [
             0.3333333333333333,
             "#9c179e"
            ],
            [
             0.4444444444444444,
             "#bd3786"
            ],
            [
             0.5555555555555556,
             "#d8576b"
            ],
            [
             0.6666666666666666,
             "#ed7953"
            ],
            [
             0.7777777777777778,
             "#fb9f3a"
            ],
            [
             0.8888888888888888,
             "#fdca26"
            ],
            [
             1,
             "#f0f921"
            ]
           ]
          },
          "colorway": [
           "#636efa",
           "#EF553B",
           "#00cc96",
           "#ab63fa",
           "#FFA15A",
           "#19d3f3",
           "#FF6692",
           "#B6E880",
           "#FF97FF",
           "#FECB52"
          ],
          "font": {
           "color": "#2a3f5f"
          },
          "geo": {
           "bgcolor": "white",
           "lakecolor": "white",
           "landcolor": "#E5ECF6",
           "showlakes": true,
           "showland": true,
           "subunitcolor": "white"
          },
          "hoverlabel": {
           "align": "left"
          },
          "hovermode": "closest",
          "mapbox": {
           "style": "light"
          },
          "paper_bgcolor": "white",
          "plot_bgcolor": "#E5ECF6",
          "polar": {
           "angularaxis": {
            "gridcolor": "white",
            "linecolor": "white",
            "ticks": ""
           },
           "bgcolor": "#E5ECF6",
           "radialaxis": {
            "gridcolor": "white",
            "linecolor": "white",
            "ticks": ""
           }
          },
          "scene": {
           "xaxis": {
            "backgroundcolor": "#E5ECF6",
            "gridcolor": "white",
            "gridwidth": 2,
            "linecolor": "white",
            "showbackground": true,
            "ticks": "",
            "zerolinecolor": "white"
           },
           "yaxis": {
            "backgroundcolor": "#E5ECF6",
            "gridcolor": "white",
            "gridwidth": 2,
            "linecolor": "white",
            "showbackground": true,
            "ticks": "",
            "zerolinecolor": "white"
           },
           "zaxis": {
            "backgroundcolor": "#E5ECF6",
            "gridcolor": "white",
            "gridwidth": 2,
            "linecolor": "white",
            "showbackground": true,
            "ticks": "",
            "zerolinecolor": "white"
           }
          },
          "shapedefaults": {
           "line": {
            "color": "#2a3f5f"
           }
          },
          "ternary": {
           "aaxis": {
            "gridcolor": "white",
            "linecolor": "white",
            "ticks": ""
           },
           "baxis": {
            "gridcolor": "white",
            "linecolor": "white",
            "ticks": ""
           },
           "bgcolor": "#E5ECF6",
           "caxis": {
            "gridcolor": "white",
            "linecolor": "white",
            "ticks": ""
           }
          },
          "title": {
           "x": 0.05
          },
          "xaxis": {
           "automargin": true,
           "gridcolor": "white",
           "linecolor": "white",
           "ticks": "",
           "title": {
            "standoff": 15
           },
           "zerolinecolor": "white",
           "zerolinewidth": 2
          },
          "yaxis": {
           "automargin": true,
           "gridcolor": "white",
           "linecolor": "white",
           "ticks": "",
           "title": {
            "standoff": 15
           },
           "zerolinecolor": "white",
           "zerolinewidth": 2
          }
         }
        },
        "title": {
         "text": "3D Scatter Plot (Plotly)"
        }
       }
      }
     },
     "metadata": {},
     "output_type": "display_data"
    }
   ],
   "source": [
    "#Q13 Create a 3D scatter plot using Plotly\n",
    "import plotly.graph_objects as go\n",
    "\n",
    "# Step 1: Define 3D coordinates\n",
    "x = [1, 2, 3, 4, 5]\n",
    "y = [10, 11, 12, 13, 14]\n",
    "z = [5, 6, 7, 8, 9]\n",
    "\n",
    "# Step 2: Create a 3D scatter plot trace\n",
    "scatter = go.Scatter3d(\n",
    "    x=x,\n",
    "    y=y,\n",
    "    z=z,\n",
    "    mode='markers',\n",
    "    marker=dict(\n",
    "        size=8,\n",
    "        color=z,              # Set color based on z value\n",
    "        colorscale='Viridis', # Optional color scale\n",
    "        opacity=0.8\n",
    "    )\n",
    ")\n",
    "\n",
    "# Step 3: Create the figure\n",
    "fig = go.Figure(data=[scatter])\n",
    "\n",
    "# Step 4: Add layout title and axes labels\n",
    "fig.update_layout(\n",
    "    title='3D Scatter Plot (Plotly)',\n",
    "    scene=dict(\n",
    "        xaxis_title='X Axis',\n",
    "        yaxis_title='Y Axis',\n",
    "        zaxis_title='Z Axis'\n",
    "    )\n",
    ")\n",
    "\n",
    "# Step 5: Show the figure\n",
    "fig.show()\n"
   ]
  },
  {
   "cell_type": "code",
   "execution_count": null,
   "id": "7849ebe9-4ee5-4af3-8e97-b1855e0487b0",
   "metadata": {},
   "outputs": [],
   "source": []
  }
 ],
 "metadata": {
  "kernelspec": {
   "display_name": "Python 3 (ipykernel)",
   "language": "python",
   "name": "python3"
  },
  "language_info": {
   "codemirror_mode": {
    "name": "ipython",
    "version": 3
   },
   "file_extension": ".py",
   "mimetype": "text/x-python",
   "name": "python",
   "nbconvert_exporter": "python",
   "pygments_lexer": "ipython3",
   "version": "3.13.3"
  }
 },
 "nbformat": 4,
 "nbformat_minor": 5
}
