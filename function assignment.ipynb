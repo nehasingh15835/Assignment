{
 "cells": [
  {
   "cell_type": "code",
   "execution_count": null,
   "id": "d1fd4b07-a0b5-412d-8409-388061e9f69d",
   "metadata": {},
   "outputs": [],
   "source": [
    "Functions\n",
    "#Q1: What is the difference between a function and a method in Python?\n",
    "In Python, functions and methods are both blocks of code that perform specific tasks, but there are key differences between them based on how and\n",
    "where they are used:\n",
    "Function:\n",
    "A function is defined using the def keyword.\n",
    "It is independent.\n",
    "It is not tied to any object or class.\n",
    "\n",
    "Method:\n",
    "A method is also defined using def, but inside a class.\n",
    "It is called on an object (an instance of a class).\n",
    "It always takes self as its first parameter (for instance methods) to access object attributes.\n"
   ]
  },
  {
   "cell_type": "code",
   "execution_count": 5,
   "id": "f97a7cfd-adbe-4153-aafe-0229c25c655e",
   "metadata": {},
   "outputs": [
    {
     "name": "stdout",
     "output_type": "stream",
     "text": [
      "Hello, Neha!\n"
     ]
    }
   ],
   "source": [
    "#Example Function \n",
    "def say_hello(name):\n",
    "    print(f\"Hello, {name}!\")\n",
    "\n",
    "say_hello(\"Neha\")\n"
   ]
  },
  {
   "cell_type": "code",
   "execution_count": 9,
   "id": "948a06eb-f252-42c0-8eae-4497f74eacbe",
   "metadata": {},
   "outputs": [
    {
     "name": "stdout",
     "output_type": "stream",
     "text": [
      "Hello from method, Neha!\n"
     ]
    }
   ],
   "source": [
    "class Greeter:\n",
    "    def say_hello(self, name):\n",
    "        print(f\"Hello from method, {name}!\")\n",
    "\n",
    "g = Greeter()\n",
    "g.say_hello(\"Neha\")\n"
   ]
  },
  {
   "cell_type": "code",
   "execution_count": null,
   "id": "0be70340-8151-4b51-9e79-dfa4bb7010b9",
   "metadata": {},
   "outputs": [],
   "source": [
    "#Q2  Explain the concept of function arguments and parameters in Python.\n",
    "\n",
    "Arguments:\n",
    "Arguments are the actual values you pass to a function when you call it.\n",
    "    greet(\"Neha\")  # \"Neha\" is an argument\n",
    "\n",
    "\n",
    "Parameters:\n",
    "Parameters are variables listed inside the parentheses in the function definition.\n",
    "They are like placeholders for the values the function will receive.\n",
    "    def greet(name):  # 'name' is a parameter\n",
    "    \n",
    "\n",
    "\n"
   ]
  },
  {
   "cell_type": "code",
   "execution_count": null,
   "id": "2c278734-20fa-45de-b576-2e056406fbc5",
   "metadata": {},
   "outputs": [],
   "source": [
    "#Q3  What are the different ways to define and call a function in Python?\n",
    "Function are defined using the def keywords or with a lambda expression they are called using parenthesis.\n",
    "Basic function\n",
    "def say_hello():\n",
    "    print(\"Hello!\")\n",
    "\n",
    "Function with parameters\n",
    "def greet(name):\n",
    "    print(\"Hello\", name)\n",
    "\n",
    "fuction with default value\n",
    "function with mutiple arguments\n",
    "function with any number of arguments\n",
    "lambda short fuction\n"
   ]
  },
  {
   "cell_type": "code",
   "execution_count": null,
   "id": "8a424a7b-6db5-46ef-8c66-4a3fff819699",
   "metadata": {},
   "outputs": [],
   "source": [
    "#Q4  What is the purpose of the `return` statement in a Python function?\n",
    "When a function finishes its task, return tells it what value to give back."
   ]
  },
  {
   "cell_type": "code",
   "execution_count": 15,
   "id": "daf5d168-ee1f-48e3-a2a3-6c5882b3e3e9",
   "metadata": {},
   "outputs": [
    {
     "name": "stdout",
     "output_type": "stream",
     "text": [
      "8\n"
     ]
    }
   ],
   "source": [
    "def add(a, b):\n",
    "    return a + b\n",
    "    result = add(5, 3)\n",
    "print(result)\n"
   ]
  },
  {
   "cell_type": "code",
   "execution_count": null,
   "id": "7c334ea0-6c2a-4313-9c49-1d8b4b577e6e",
   "metadata": {},
   "outputs": [],
   "source": [
    "#Q5 What are iterators in Python and how do they differ from iterables?\n",
    "An iterable is any object in Python that you can loop over (like in a for loop).\n",
    "Common examples:\n",
    "Lists ([1, 2, 3])\n",
    "\n",
    "Tuples ((1, 2, 3))\n",
    "\n",
    "Strings (\"abc\")\n",
    "\n",
    "Dictionaries, sets, etc.\n",
    "\n",
    "An iterator is an object that remembers where it is while iterating and returns elements one by one.  \n",
    " # Iterable\n",
    "my_list = [10, 20, 30]\n",
    "\n",
    "# Convert iterable to iterator\n",
    "it = iter(my_list)\n",
    "\n",
    "print(next(it))  # 10\n",
    "print(next(it))  # 20\n",
    "print(next(it))  # 30\n",
    "# print(next(it))  # Raises StopIteration because giving error \n",
    "\n",
    "#Q6 Explain the concept of generators in Python and how they are defined?\n",
    "A Python generator is a special kind of function that uses the yield keyword to return an iterator, producing values one at a time and \n",
    "conserving memory by not storing the entire sequence at once.\n",
    "\n",
    "\n",
    "   "
   ]
  },
  {
   "cell_type": "code",
   "execution_count": 9,
   "id": "aac0fd84-90fd-4490-915c-af142fe52ee7",
   "metadata": {},
   "outputs": [],
   "source": [
    "def square_number_generator(n):\n",
    "    for i in range(n):\n",
    "        yield i**2\n",
    "        square_number_generator(10)\n",
    "        gen\n",
    "        \n",
    "    \n"
   ]
  },
  {
   "cell_type": "code",
   "execution_count": 7,
   "id": "05dcb51d-a142-423a-ad16-2a58836191ed",
   "metadata": {},
   "outputs": [
    {
     "ename": "NameError",
     "evalue": "name 'gen' is not defined",
     "output_type": "error",
     "traceback": [
      "\u001b[31m---------------------------------------------------------------------------\u001b[39m",
      "\u001b[31mNameError\u001b[39m                                 Traceback (most recent call last)",
      "\u001b[36mCell\u001b[39m\u001b[36m \u001b[39m\u001b[32mIn[7]\u001b[39m\u001b[32m, line 1\u001b[39m\n\u001b[32m----> \u001b[39m\u001b[32m1\u001b[39m \u001b[38;5;28mnext\u001b[39m(\u001b[43mgen\u001b[49m)\n",
      "\u001b[31mNameError\u001b[39m: name 'gen' is not defined"
     ]
    }
   ],
   "source": []
  },
  {
   "cell_type": "code",
   "execution_count": null,
   "id": "44fccba5-d74d-46ef-850c-155e8a3ea274",
   "metadata": {},
   "outputs": [],
   "source": [
    "#Q7.What are the advantages of using generators over regular functions?\n",
    "Generators in Python offer several advantages over regular functions, especially when dealing with large datasets or streams of data\n",
    "Advantage: Memory Efficiency\n",
    "Improved Performance\n",
    "Maintainability and Clean Code\n",
    "Infinite Sequences\n",
    "\n",
    "\n"
   ]
  },
  {
   "cell_type": "code",
   "execution_count": null,
   "id": "38d870da-a94d-4fe7-9910-2cd6715ac54f",
   "metadata": {},
   "outputs": [],
   "source": [
    "#Q8 What is a lambda function in Python and when is it typically used?\n",
    "A lambda function in Python is a small, anonymous function defined using the lambda keyword. It can take any \n",
    "number of arguments but can only have one expression (no statements or multiple lines).\n",
    "    typically used :Lambda functions are usually used for short, simple operations where defining a full function with def would be overkill.\n",
    "        \n"
   ]
  },
  {
   "cell_type": "code",
   "execution_count": 1,
   "id": "5146c615-7fd3-4c1c-bb65-53b6ecb3ee6f",
   "metadata": {},
   "outputs": [
    {
     "name": "stdout",
     "output_type": "stream",
     "text": [
      "5\n"
     ]
    }
   ],
   "source": [
    "add = lambda x, y: x + y\n",
    "print(add(2, 3))\n"
   ]
  },
  {
   "cell_type": "code",
   "execution_count": null,
   "id": "6d16c504-3f00-4bbd-b2c8-5037b896a655",
   "metadata": {},
   "outputs": [],
   "source": [
    "#Q9 Explain the purpose and usage of the `map()` function in Python?\n",
    "The map() function in Python is used to apply a function to every item in an iterable (like a list, tuple, etc.) and return a map object\n",
    "(an iterator) of the results."
   ]
  },
  {
   "cell_type": "code",
   "execution_count": 2,
   "id": "3c1adee6-1f2d-4354-ba14-b27f77db8117",
   "metadata": {},
   "outputs": [
    {
     "name": "stdout",
     "output_type": "stream",
     "text": [
      "[1, 4, 9, 16]\n"
     ]
    }
   ],
   "source": [
    "numbers = [1, 2, 3, 4]\n",
    "squares = map(lambda x: x ** 2, numbers)\n",
    "print(list(squares))\n"
   ]
  },
  {
   "cell_type": "code",
   "execution_count": null,
   "id": "318989b9-cdac-47e4-9b89-acc398576a3c",
   "metadata": {},
   "outputs": [],
   "source": [
    "#Q10 What is the difference between `map()`, `reduce()`, and `filter()` functions in Python?\n",
    "Map: Use it to change each item in a list.\n",
    "It returns a new list (or iterator) with the changed items.\n",
    "\n",
    "Reduce:Use it to combine all items into one value.\n",
    "It returns a single result."
   ]
  },
  {
   "cell_type": "code",
   "execution_count": 3,
   "id": "28483413-494f-4c02-a37c-e463588a3d4a",
   "metadata": {},
   "outputs": [
    {
     "name": "stdout",
     "output_type": "stream",
     "text": [
      "[2, 4, 6]\n"
     ]
    }
   ],
   "source": [
    "#Example :Map\n",
    "numbers = [1, 2, 3]\n",
    "result = map(lambda x: x * 2, numbers)\n",
    "print(list(result))\n"
   ]
  },
  {
   "cell_type": "code",
   "execution_count": 4,
   "id": "11d98261-4b7d-4ed4-99d3-5b55a1e6302b",
   "metadata": {},
   "outputs": [
    {
     "name": "stdout",
     "output_type": "stream",
     "text": [
      "10\n"
     ]
    }
   ],
   "source": [
    "#Example Reduce ()\n",
    "from functools import reduce\n",
    "numbers = [1, 2, 3, 4]\n",
    "result = reduce(lambda x, y: x + y, numbers)\n",
    "print(result)\n"
   ]
  },
  {
   "cell_type": "code",
   "execution_count": 5,
   "id": "55f62a7a-70f2-4231-808f-34e4e7c757b7",
   "metadata": {},
   "outputs": [
    {
     "name": "stdout",
     "output_type": "stream",
     "text": [
      "[2, 4]\n"
     ]
    }
   ],
   "source": [
    "#Example Filter()\n",
    "numbers = [1, 2, 3, 4]\n",
    "result = filter(lambda x: x % 2 == 0, numbers)\n",
    "print(list(result))\n"
   ]
  },
  {
   "cell_type": "code",
   "execution_count": 24,
   "id": "480a417c-102e-4980-9bb5-ea58766f95e8",
   "metadata": {},
   "outputs": [
    {
     "name": "stdin",
     "output_type": "stream",
     "text": [
      "Enter numbers separated by spaces:  24 355 567 24\n"
     ]
    },
    {
     "name": "stdout",
     "output_type": "stream",
     "text": [
      "Sum of even numbers: 48\n"
     ]
    }
   ],
   "source": [
    "#Q11.Write a Python function that takes a list of numbers as input and returns the sum of all even numbers in the list.\n",
    "\n",
    "def sum_even_numbers():\n",
    "    # Take input from the user\n",
    "    input_str = input(\"Enter numbers separated by spaces: \")\n",
    "    \n",
    "    # Convert input string to a list of integers\n",
    "    numbers = list(map(int, input_str.split()))\n",
    "    \n",
    "    # Calculate the sum of even numbers\n",
    "    even_sum = 0\n",
    "    for num in numbers:\n",
    "        if num % 2 == 0:\n",
    "            even_sum += num\n",
    "\n",
    "    # Print the result\n",
    "    print(\"Sum of even numbers:\", even_sum)\n",
    "\n",
    "# Call the function\n",
    "sum_even_numbers()"
   ]
  },
  {
   "cell_type": "code",
   "execution_count": 25,
   "id": "8f123a47-fd5d-4e3b-badd-48fa6ebe8a2d",
   "metadata": {},
   "outputs": [
    {
     "name": "stdin",
     "output_type": "stream",
     "text": [
      "Enter a string:  hello world\n"
     ]
    },
    {
     "name": "stdout",
     "output_type": "stream",
     "text": [
      "Reversed string: dlrow olleh\n"
     ]
    }
   ],
   "source": [
    "#Q Create a Python function that accepts a string and returns the reverse of that string.\n",
    "def reverse_string(s):\n",
    "    return s[::-1]\n",
    "text = input(\"Enter a string: \")\n",
    "reversed_text = reverse_string(text)\n",
    "print(\"Reversed string:\", reversed_text)"
   ]
  },
  {
   "cell_type": "code",
   "execution_count": 32,
   "id": "966cc604-41a7-43bd-9b10-3313226423b9",
   "metadata": {},
   "outputs": [
    {
     "name": "stdout",
     "output_type": "stream",
     "text": [
      "[1, 4, 9, 16, 25]\n"
     ]
    }
   ],
   "source": [
    "#Q  Implement a Python function that takes a list of integers and returns a new list containing the squares of each number\n",
    "\n",
    "def square_numbers(numbers):\n",
    "    return [x**2 for x in numbers]\n",
    "\n",
    "input_list = [1, 2, 3, 4, 5]\n",
    "squared_list = square_numbers(input_list)\n",
    "print(squared_list)\n"
   ]
  },
  {
   "cell_type": "code",
   "execution_count": 37,
   "id": "b3cf3064-0ceb-43f7-88b6-2d9ff832599a",
   "metadata": {},
   "outputs": [
    {
     "name": "stdin",
     "output_type": "stream",
     "text": [
      "Enter a number between 1 and 200:  44\n"
     ]
    },
    {
     "name": "stdout",
     "output_type": "stream",
     "text": [
      "44 is not a prime number.\n"
     ]
    }
   ],
   "source": [
    "\n",
    "#Q Write a Python function that checks if a given number is prime or not from 1 to 200.\n",
    "def is_prime(n):\n",
    "    if n <= 1:\n",
    "        return False  # 0 and 1 are not prime\n",
    "    for i in range(2, n):\n",
    "        if n % i == 0:\n",
    "            return False\n",
    "    return True\n",
    "\n",
    "# Get user input\n",
    "num = int(input(\"Enter a number between 1 and 200: \"))\n",
    "\n",
    "# Check if the number is in the valid range\n",
    "if 1 <= num <= 200:\n",
    "    if is_prime(num):\n",
    "        print(num, \"is a prime number.\")\n",
    "    else:\n",
    "        print(num, \"is not a prime number.\")\n",
    "else:\n",
    "    print(\"Please enter a number between 1 and 200.\")\n",
    "\n"
   ]
  },
  {
   "cell_type": "code",
   "execution_count": 40,
   "id": "de25d0b5-e8a2-4658-88f9-21a6c6356d55",
   "metadata": {},
   "outputs": [
    {
     "name": "stdin",
     "output_type": "stream",
     "text": [
      "Enter the number of Fibonacci terms:  5\n"
     ]
    },
    {
     "name": "stdout",
     "output_type": "stream",
     "text": [
      "Fibonacci sequence:\n",
      "0 1 1 2 3 "
     ]
    }
   ],
   "source": [
    "#Q Create an iterator class in Python that generates the Fibonacci sequence up to a specified number of terms.\n",
    "\n",
    "n = int(input(\"Enter the number of Fibonacci terms: \"))\n",
    "fib = FibonacciIterator(n)\n",
    "\n",
    "print(\"Fibonacci sequence:\")\n",
    "for num in fib:\n",
    "    print(num, end=' ')\n"
   ]
  },
  {
   "cell_type": "code",
   "execution_count": 42,
   "id": "efe3a940-1aca-4212-893c-448da992b3da",
   "metadata": {},
   "outputs": [
    {
     "name": "stdout",
     "output_type": "stream",
     "text": [
      "1\n"
     ]
    },
    {
     "name": "stdin",
     "output_type": "stream",
     "text": [
      "Enter the maximum exponent:  5\n"
     ]
    },
    {
     "name": "stdout",
     "output_type": "stream",
     "text": [
      "2\n"
     ]
    },
    {
     "name": "stdin",
     "output_type": "stream",
     "text": [
      "Enter the maximum exponent:  5\n"
     ]
    },
    {
     "name": "stdout",
     "output_type": "stream",
     "text": [
      "4\n"
     ]
    },
    {
     "name": "stdin",
     "output_type": "stream",
     "text": [
      "Enter the maximum exponent:  5\n"
     ]
    },
    {
     "name": "stdout",
     "output_type": "stream",
     "text": [
      "8\n"
     ]
    },
    {
     "name": "stdin",
     "output_type": "stream",
     "text": [
      "Enter the maximum exponent:  6\n"
     ]
    },
    {
     "name": "stdout",
     "output_type": "stream",
     "text": [
      "16\n"
     ]
    },
    {
     "name": "stdin",
     "output_type": "stream",
     "text": [
      "Enter the maximum exponent:  9\n"
     ]
    },
    {
     "name": "stdout",
     "output_type": "stream",
     "text": [
      "32\n"
     ]
    },
    {
     "name": "stdin",
     "output_type": "stream",
     "text": [
      "Enter the maximum exponent:  95\n"
     ]
    }
   ],
   "source": [
    "#Q . Write a generator function in Python that yields the powers of 2 up to a given exponent.\n",
    "def powers_of_two(n):\n",
    "    for i in range(n + 1):\n",
    "        yield 2 ** i\n",
    "        n = int(input(\"Enter the maximum exponent: \"))\n",
    "for power in powers_of_two(n):\n",
    "    print(power)\n",
    "\n"
   ]
  },
  {
   "cell_type": "code",
   "execution_count": 49,
   "id": "7ecb8e3d-d77d-444a-81f9-1ef89804695a",
   "metadata": {},
   "outputs": [
    {
     "name": "stdout",
     "output_type": "stream",
     "text": [
      "Here is a **short and simple summary of the history of India**:\n",
      "\n",
      "---\n",
      "\n",
      "### 🏺 **Ancient India (before 600 BCE)**\n",
      "\n",
      "* **Indus Valley Civilization** (around 2500 BCE): One of the world’s oldest civilizations, known for cities like Harappa and Mohenjo-daro.\n",
      "* **Vedic Period** (1500–500 BCE): Arrival of Indo-Aryans; Vedas (sacred texts) were written; start of Hinduism.\n",
      "\n",
      "---\n",
      "\n",
      "### 👑 **Classical India (600 BCE – 1200 CE)**\n",
      "\n",
      "* **Maurya Empire** (322–185 BCE): Emperor **Ashoka** spread Buddhism.\n",
      "* **Gupta Empire** (320–550 CE): Golden Age – great progress in science, art, and literature.\n",
      "* Growth of **Hinduism**, **Buddhism**, and **Jainism**.\n",
      "\n",
      "---\n",
      "\n",
      "### 🏰 **Medieval India (1200–1700 CE)**\n",
      "\n",
      "* **Delhi Sultanate** (1206–1526): Muslim rulers ruled large parts of India.\n",
      "* **Mughal Empire** (1526–1857): Known for **Akbar**, **Shah Jahan** (Taj Mahal), and cultural mixing.\n",
      "\n",
      "---\n",
      "\n",
      "### 🇬🇧 **Colonial India (1757–1947)**\n",
      "\n",
      "* **British East India Company** took control after the Battle of Plassey (1757).\n",
      "* India became a **British colony** in 1858 after the 1857 revolt.\n",
      "* National movement grew with leaders like **Gandhi**, **Nehru**, **Bhagat Singh**.\n",
      "\n",
      "---\n",
      "\n",
      "### 🕊️ **Independence and Modern India (1947–present)**\n",
      "\n",
      "* India got **independence on 15 August 1947**; **partitioned into India and Pakistan**.\n",
      "* Became a **republic in 1950** with its own constitution.\n",
      "* Today, India is a **democratic and diverse country** with a rich cultural heritage.\n",
      "\n",
      "---\n",
      "\n",
      "Let me know if you want a timeline, key rulers, or freedom struggle details!\n",
      "\n",
      "87628476\n"
     ]
    }
   ],
   "source": [
    "#Q . Implement a generator function that reads a file line by line and yields each line as a string.\n",
    "def read_file_line_by_line(file_path):\n",
    "    with open(file_path, 'r', encoding='utf-8') as file:\n",
    "        for line in file:\n",
    "            yield line.strip()\n",
    "file_path = r\"C:\\Users\\Neha Singh\\Downloads\\examplefile.txt\"  # Replace with your actual file path\n",
    "\n",
    "for line in read_file_line_by_line(file_path):\n",
    "    print(line)"
   ]
  },
  {
   "cell_type": "code",
   "execution_count": 50,
   "id": "2dcb57a2-6c8e-42e8-a746-a1030f9a482b",
   "metadata": {},
   "outputs": [
    {
     "name": "stdout",
     "output_type": "stream",
     "text": [
      "Sorted list: [(3, 1), (2, 3), (1, 5), (4, 8)]\n"
     ]
    }
   ],
   "source": [
    "#Q  Use a lambda function in Python to sort a list of tuples based on the second element of each tuple.\n",
    "# List of tuples\n",
    "data = [(1, 5), (3, 1), (4, 8), (2, 3)]\n",
    "\n",
    "# Sort by second element using lambda\n",
    "sorted_data = sorted(data, key=lambda x: x[1])\n",
    "\n",
    "print(\"Sorted list:\", sorted_data)\n"
   ]
  },
  {
   "cell_type": "code",
   "execution_count": 51,
   "id": "48b440b9-7505-450f-9334-1508349443e1",
   "metadata": {},
   "outputs": [
    {
     "name": "stdout",
     "output_type": "stream",
     "text": [
      "Temperatures in Fahrenheit: [32.0, 68.0, 98.6, 212.0]\n"
     ]
    }
   ],
   "source": [
    " #Q Write a Python program that uses `map()` to convert a list of temperatures from Celsius to Fahrenheit\n",
    "# List of temperatures in Celsius\n",
    "celsius_temps = [0, 20, 37, 100]\n",
    "\n",
    "# Use map with a lambda to convert to Fahrenheit\n",
    "fahrenheit_temps = list(map(lambda c: (c * 9/5) + 32, celsius_temps))\n",
    "\n",
    "print(\"Temperatures in Fahrenheit:\", fahrenheit_temps)\n"
   ]
  },
  {
   "cell_type": "code",
   "execution_count": 52,
   "id": "48daa81b-6c09-4096-ad14-734f435f9446",
   "metadata": {},
   "outputs": [
    {
     "name": "stdin",
     "output_type": "stream",
     "text": [
      "Enter a string:  hello world\n"
     ]
    },
    {
     "name": "stdout",
     "output_type": "stream",
     "text": [
      "String without vowels: hll wrld\n"
     ]
    }
   ],
   "source": [
    "#Q Create a Python program that uses `filter()` to remove all the vowels from a given string.\n",
    "def remove_vowels(input_str):\n",
    "    vowels = \"aeiouAEIOU\"\n",
    "    return ''.join(filter(lambda char: char not in vowels, input_str))\n",
    "\n",
    "# Example usage\n",
    "text = input(\"Enter a string: \")\n",
    "result = remove_vowels(text)\n",
    "print(\"String without vowels:\", result)\n"
   ]
  },
  {
   "cell_type": "code",
   "execution_count": 53,
   "id": "d07fcb68-dcc8-4daf-a258-d8c7106ad2ab",
   "metadata": {},
   "outputs": [
    {
     "name": "stdout",
     "output_type": "stream",
     "text": [
      "[(34587, '173.80 €'), (98762, '294.00 €'), (77226, '108.85 €'), (88112, '84.97 €')]\n"
     ]
    }
   ],
   "source": [
    "#Q) Imagine an accounting routine used in a book shop. It works on a list with sublists, which look like this: Write a Python program, which returns a list with 2-tuples. Each tuple consists of the order number and the product of the price per item and the quantity. The product should be increased by 10,- '€' if the value of the order is smaller than 100,00 '€'.Write a Python program using lambda and map\n",
    "\n",
    "orders = [\n",
    "    [34587, \"Learning Python\", 4, 40.95],\n",
    "    [98762, \"Programming Python\", 5, 56.80],\n",
    "    [77226, \"Head First Python\", 3, 32.95],\n",
    "    [88112, \"Einführung in Python\", 3, 24.99]\n",
    "]\n",
    "\n",
    "# Use map and lambda to compute and format the result\n",
    "result = list(map(lambda order: (\n",
    "    order[0],\n",
    "    f\"{order[2] * order[3] + (10 if order[2] * order[3] < 10000 else 0):.2f} €\"\n",
    "), orders))\n",
    "\n",
    "# Print result\n",
    "print(result)\n"
   ]
  },
  {
   "cell_type": "code",
   "execution_count": null,
   "id": "7f6da11c-36ff-431a-b0e5-327be76e30b8",
   "metadata": {},
   "outputs": [],
   "source": []
  }
 ],
 "metadata": {
  "kernelspec": {
   "display_name": "Python 3 (ipykernel)",
   "language": "python",
   "name": "python3"
  },
  "language_info": {
   "codemirror_mode": {
    "name": "ipython",
    "version": 3
   },
   "file_extension": ".py",
   "mimetype": "text/x-python",
   "name": "python",
   "nbconvert_exporter": "python",
   "pygments_lexer": "ipython3",
   "version": "3.13.3"
  }
 },
 "nbformat": 4,
 "nbformat_minor": 5
}
