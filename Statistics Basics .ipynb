{
 "cells": [
  {
   "cell_type": "code",
   "execution_count": null,
   "id": "593950eb-1e1e-4e91-b66a-ec25cae6f77c",
   "metadata": {},
   "outputs": [],
   "source": [
    "\n",
    "#Statistics Basics| Assignment\n",
    "\n",
    "#Q1. What is the difference between descriptive statistics and inferentialstatistics? Explain with examples?\n",
    "\n",
    "Descriptive Statistics:\n",
    "Descriptive statistics summarize or describe a set of data.\n",
    "You are only talking about what you already have — no guessing, just facts!\n",
    "Example:\n",
    "Imagine you surveyed 10 students about their test scores:\n",
    "Scores: 70, 80, 85, 90, 75, 95, 100, 65, 85, 90\n",
    "\n",
    "Descriptive statistics would include:\n",
    "Mean (average): (Sum of scores) ÷ 10 = 83.5\n",
    "Median (middle score): 85\n",
    "Mode (most frequent score): 85 and 90\n",
    "Range (difference between highest and lowest): 100 - 65 = 35\n",
    "\n",
    "Inferential Statistics:\n",
    "Inferential statistics use data from a sample to make predictions or generalizations about a larger group (called the population).\n",
    "Example:\n",
    "Let’s say you surveyed 100 students in a college of 1,000 students.\n",
    "You find that 70% of the 100 students like online classes.\n",
    "\n",
    "You use inferential statistics to estimate that about 70% of all 1,000 students probably like online classes — even though you didn’t ask all of them.\n",
    "You may also calculate:\n",
    "Confidence intervals (e.g., “We are 95% sure that between 65% and 75% of all students like online classes.”)\n",
    "Hypothesis testing (e.g., “Is the difference in preferences between boys and girls significant?”)"
   ]
  },
  {
   "cell_type": "code",
   "execution_count": null,
   "id": "b8f427fb-7559-4bd5-bcb4-6d5ead13742f",
   "metadata": {},
   "outputs": [],
   "source": [
    "#Question 2: What is sampling in statistics? Explain the differences between randomand stratified sampling.\n",
    "\n",
    "What is Sampling in Statistics?\n",
    "Sampling is the process of selecting a small group (sample) from a larger group (population) to collect data and draw conclusions.\n",
    "\n",
    " Why use sampling?\n",
    "Because its often too expensive, time-consuming, or impossible to ask everyone in the population\n",
    "\n",
    "Random Sampling:\n",
    "Every person in the population has an equal chance of being chosen.\n",
    "Example:\n",
    "You write all 1,000 students’ names on slips of paper, mix them in a box, and pick 100 names.\n",
    "Totally by chance\n",
    "Simple and fair\n",
    "\n",
    "Best when the population is fairly uniform\n",
    "It’s like a lottery — anyone can be picked!\n",
    "\n",
    "Stratified Sampling:\n",
    "The population is divided into groups (called strata) based on shared characteristics, and then you randomly pick from each group.\n",
    "\n",
    "✅ Example:\n",
    "Let’s say your school has:\n",
    "600 boys\n",
    "400 girls\n",
    "To ensure fairness, you divide them into 2 groups:\n",
    "Randomly pick 60 boys from 600\n",
    "Randomly pick 40 girls from 400"
   ]
  },
  {
   "cell_type": "code",
   "execution_count": null,
   "id": "59136ac7-1af7-4e78-9067-f781f2c64e10",
   "metadata": {},
   "outputs": [],
   "source": [
    "#Question 3: Define mean, median, and mode. Explain why these measures of centraltendency are important.\n",
    " Mean, Median, and Mode:\n",
    "They are all measures of central tendency, which means they help us understand what a \"typical\" or \"central\" value looks like in a set of numbers.\n",
    "\n",
    "1. Mean (Average)\n",
    "The mean is what most people call the average.\n",
    "How to calculate it:\n",
    "Add all the numbers and divide by how many numbers there are.\n",
    "\n",
    "Example:\n",
    "Scores = 70, 80, 90\n",
    "Mean = (70 + 80 + 90) ÷ 3 = 80\n",
    "Why it matters:\n",
    "It gives a general idea of the overall level or performance.\n",
    "\n",
    "2. Median (Middle Value)\n",
    "The median is the middle number when the values are arranged in order.\n",
    "\n",
    "📊 Example:\n",
    "Scores = 70, 80, 90\n",
    "Ordered: 70, 80, 90\n",
    "Median = 80 (middle number)\n",
    "If there are even numbers, take the average of the two middle ones:\n",
    "Scores = 70, 80, 90, 100\n",
    "Median = (80 + 90) ÷ 2 = 85\n",
    "Why it matters:\n",
    "It shows the middle point, which isn’t affected by very high or low values (called outliers).\n",
    "\n",
    "3. Mode (Most Frequent Value)\n",
    "The mode is the number that appears the most often.\n",
    "\n",
    "Example:\n",
    "Scores = 70, 80, 80, 90\n",
    "Mode = 80 (because it appears twice)\n",
    "\n",
    "There can be:\n",
    "No mode\n",
    "One mode\n",
    "More than one mode\n",
    " Why it matters:\n",
    "It shows what is most common or popular in the data.\n",
    "\n"
   ]
  },
  {
   "cell_type": "code",
   "execution_count": null,
   "id": "0f561d10-90d7-4015-8d20-e4ae5a710e40",
   "metadata": {},
   "outputs": [],
   "source": [
    "Question 4: Explain skewness and kurtosis. What does a positive skew imply about the data?\n",
    "Skewness tells us about the asymmetry (tilt) of a data distribution — in other words, whether the data leans more to one side.\n",
    "Three types of skewness\n",
    "No skew         Left and right sides are equal\n",
    "Positive Skew\tA few high values pull the data right\n",
    "Negative Skew\tA few low values pull the data left\n",
    "\n",
    "Example of Positive Skew (Right Skewed):\n",
    "Imagine incomes in a neighborhood:\n",
    "\n",
    "₹20,000, ₹25,000, ₹30,000, ₹35,000, ₹1,00,000\n",
    "\n",
    "Most people earn around ₹20K–₹35K, but one rich person earns ₹1,00,000.\n",
    "That one big value pulls the mean to the right, so the tail is longer on the right.\n",
    "\n",
    "Mean > Median in positive skew\n",
    "\n",
    "It tells us that most values are on the lower side, but a few big values are pulling the average up\n",
    "\n",
    "What is Kurtosis?\n",
    "Kurtosis tells us about the \"peakness\" or flatness of the data — basically how sharp or flat the curve is.\n",
    "Three Types of Kurtosis:\n",
    "Mesokurtic\t       \tAverage peak and tails\n",
    "Leptokurtic\t       \tMore data in the center, extreme outliers in tails\n",
    "Platykurtic\t        Less data in center, fewer extreme values\n",
    "\n",
    "What Does a Positive Skew Imply?\n",
    " Most values are small, but a few large values pull the mean up\n",
    " The tail is longer on the right\n",
    " The mean is greater than the median\n",
    "\n",
    "\n",
    "\n"
   ]
  },
  {
   "cell_type": "code",
   "execution_count": 2,
   "id": "a3e7850d-7659-4429-869f-ba6b2cc6259e",
   "metadata": {},
   "outputs": [
    {
     "name": "stdout",
     "output_type": "stream",
     "text": [
      "Mean: 19.6\n",
      "Median: 19\n",
      "Mode: 12\n"
     ]
    }
   ],
   "source": [
    "#Question 5: Implement a Python program to compute the mean, median, and mode ofa given list of numbers.\n",
    "\n",
    "numbers = [12, 15, 12, 18, 19, 12, 20, 22, 19, 19, 24, 24, 24, 26, 28]\n",
    "\n",
    "# Calculate Mean\n",
    "mean = statistics.mean(numbers)\n",
    "\n",
    "# Calculate Median\n",
    "median = statistics.median(numbers)\n",
    "\n",
    "# Calculate Mode\n",
    "mode = statistics.mode(numbers)\n",
    "\n",
    "# Print the results\n",
    "print(\"Mean:\", mean)\n",
    "print(\"Median:\", median)\n",
    "print(\"Mode:\", mode)\n",
    "\n"
   ]
  },
  {
   "cell_type": "code",
   "execution_count": 3,
   "id": "03bac143-f461-4c5b-bfbe-eccdd05f1cb7",
   "metadata": {},
   "outputs": [
    {
     "name": "stdout",
     "output_type": "stream",
     "text": [
      "Mean of X: 30\n",
      "Mean of Y: 36\n",
      "Covariance: 275.0\n",
      "Correlation Coefficient: 0.995893206467704\n"
     ]
    }
   ],
   "source": [
    "#Question 6: Compute the covariance and correlation coefficient between the following two datasets provided as lists in Python:\n",
    "list_x = [10, 20, 30, 40, 50]\n",
    "list_y = [15, 25, 35, 45, 60]\n",
    "\n",
    "\n",
    "import statistics\n",
    "import numpy as np\n",
    "\n",
    "# Given data\n",
    "list_x = [10, 20, 30, 40, 50]\n",
    "list_y = [15, 25, 35, 45, 60]\n",
    "\n",
    "# --- Covariance ---\n",
    "\n",
    "# Calculate means\n",
    "mean_x = statistics.mean(list_x)\n",
    "mean_y = statistics.mean(list_y)\n",
    "\n",
    "# Calculate covariance manually\n",
    "covariance = sum((x - mean_x) * (y - mean_y) for x, y in zip(list_x, list_y)) / (len(list_x) - 1)\n",
    "\n",
    "# --- Correlation Coefficient ---\n",
    "\n",
    "# Use numpy to calculate correlation\n",
    "correlation_matrix = np.corrcoef(list_x, list_y)\n",
    "correlation = correlation_matrix[0][1]  # Get correlation coefficient value\n",
    "\n",
    "# Print results\n",
    "print(\"Mean of X:\", mean_x)\n",
    "print(\"Mean of Y:\", mean_y)\n",
    "print(\"Covariance:\", covariance)\n",
    "print(\"Correlation Coefficient:\", correlation)\n"
   ]
  },
  {
   "cell_type": "code",
   "execution_count": 4,
   "id": "6428164a-99d6-4d04-8333-2756b5471bcf",
   "metadata": {},
   "outputs": [
    {
     "data": {
      "image/png": "[encoded data removed]",
      "text/plain": [
       "<Figure size 640x480 with 1 Axes>"
      ]
     },
     "metadata": {},
     "output_type": "display_data"
    }
   ],
   "source": [
    "\n",
    "#Question 7: Write a Python script to draw a boxplot for the following numeric list and\n",
    "identify its outliers. Explain the result:\n",
    "data = [12, 14, 14, 15, 18, 19, 19, 21, 22, 22, 23, 23, 24, 26, 29, 35]\n",
    "\n",
    "import matplotlib.pyplot as plt\n",
    "\n",
    "# Given data\n",
    "data = [12, 14, 14, 15, 18, 19, 19, 21, 22, 22, 23, 23, 24, 26, 29, 35]\n",
    "\n",
    "# Create boxplot\n",
    "plt.boxplot(data)\n",
    "\n",
    "# Add labels\n",
    "plt.title(\"Boxplot of Data\")\n",
    "plt.ylabel(\"Values\")\n",
    "\n",
    "# Show the plot\n",
    "plt.show()\n"
   ]
  },
  {
   "cell_type": "code",
   "execution_count": 7,
   "id": "2205968c-1514-4aaa-a267-409d21ac5c67",
   "metadata": {},
   "outputs": [
    {
     "name": "stdout",
     "output_type": "stream",
     "text": [
      "Covariance: 84875.0\n",
      "Correlation Coefficient: 0.9935824101653329\n"
     ]
    }
   ],
   "source": [
    "#Question 8: You are working as a data analyst in an e-commerce company. The marketing team wants to know if there is a relationship between \n",
    "#advertising spend and daily sales.\n",
    "# Explain how you would use covariance and correlation to explore this\n",
    "#relationship.\n",
    "# Write Python code to compute the correlation between the two lists:\n",
    "#advertising_spend = [200, 250, 300, 400, 500]\n",
    "#daily_sales = [2200, 2450, 2750, 3200, 4000]\n",
    "\n",
    "\n",
    "import statistics\n",
    "import numpy as np\n",
    "\n",
    "# Given data\n",
    "advertising_spend = [200, 250, 300, 400, 500]\n",
    "daily_sales = [2200, 2450, 2750, 3200, 4000]\n",
    "\n",
    "# --- Covariance ---\n",
    "mean_ad = statistics.mean(advertising_spend)\n",
    "mean_sales = statistics.mean(daily_sales)\n",
    "\n",
    "covariance = sum((a - mean_ad) * (s - mean_sales) for a, s in zip(advertising_spend, daily_sales)) / (len(advertising_spend) - 1)\n",
    "\n",
    "# --- Correlation ---\n",
    "correlation_matrix = np.corrcoef(advertising_spend, daily_sales)\n",
    "correlation = correlation_matrix[0][1]\n",
    "\n",
    "# --- Output ---\n",
    "print(\"Covariance:\", covariance)\n",
    "print(\"Correlation Coefficient:\", correlation)\n",
    "\n"
   ]
  },
  {
   "cell_type": "code",
   "execution_count": 8,
   "id": "1a6a3847-5aff-43a0-84a8-27f11baab156",
   "metadata": {},
   "outputs": [
    {
     "data": {
      "image/png": "[encoded data removed]",
      "text/plain": [
       "<Figure size 640x480 with 1 Axes>"
      ]
     },
     "metadata": {},
     "output_type": "display_data"
    }
   ],
   "source": [
    "#Question 9: Your team has collected customer satisfaction survey data on a scale of\n",
    "#1-10 and wants to understand its distribution before launching a new product.\n",
    "# Explain which summary statistics and visualizations (e.g. mean, standard\n",
    "#deviation, histogram) you’d use.\n",
    "#Write Python code to create a histogram using Matplotlib for the survey data:\n",
    "#survey_scores = [7, 8, 5, 9, 6, 7, 8, 9, 10, 4, 7, 6, 9, 8, 7]\n",
    "\n",
    "import matplotlib.pyplot as plt\n",
    "\n",
    "# Customer satisfaction survey scores\n",
    "survey_scores = [7, 8, 5, 9, 6, 7, 8, 9, 10, 4, 7, 6, 9, 8, 7]\n",
    "\n",
    "# Create a histogram\n",
    "plt.hist(survey_scores, bins=7, edgecolor='black', color='skyblue')\n",
    "\n",
    "# Add titles and labels\n",
    "plt.title(\"Customer Satisfaction Histogram\")\n",
    "plt.xlabel(\"Satisfaction Score (1-10)\")\n",
    "plt.ylabel(\"Number of Customers\")\n",
    "\n",
    "# Show the plot\n",
    "plt.show()\n",
    "\n",
    "                                                           "
   ]
  },
  {
   "cell_type": "code",
   "execution_count": null,
   "id": "28783a88-ca9c-4d0f-9c31-84e78f4cda2a",
   "metadata": {},
   "outputs": [],
   "source": []
  }
 ],
 "metadata": {
  "kernelspec": {
   "display_name": "Python 3 (ipykernel)",
   "language": "python",
   "name": "python3"
  },
  "language_info": {
   "codemirror_mode": {
    "name": "ipython",
    "version": 3
   },
   "file_extension": ".py",
   "mimetype": "text/x-python",
   "name": "python",
   "nbconvert_exporter": "python",
   "pygments_lexer": "ipython3",
   "version": "3.13.3"
  }
 },
 "nbformat": 4,
 "nbformat_minor": 5
}
