{
 "cells": [
  {
   "cell_type": "code",
   "execution_count": null,
   "id": "85dc901e-d7ff-46ed-ab46-878ac079a214",
   "metadata": {},
   "outputs": [],
   "source": [
    "#Q1 What is Object-Oriented Programming (OOP)?\n",
    "Object-Oriented Programming (OOP) is a programming paradigm based on objects, which bundle data (attributes) and behavior (methods).\n",
    "It uses key concepts like encapsulation, inheritance, polymorphism, and abstraction to model real-world systems.\n",
    "OOP makes code more modular, reusable, and easier to maintain.\n",
    "\n",
    "#Q2 What is a class in OOP?\n",
    "A class in OOP (Object-Oriented Programming) in Python is a blueprint for creating objects that bundle data (attributes) and behavior (methods) together.\n",
    "\n",
    "#Q3 What is an object in OOP?\n",
    "An object in OOP (Object-Oriented Programming) in Python is an instance of a class that bundles data (attributes) and behaviors (methods) together.\n",
    "\n",
    "#Q4 What is the difference between abstraction and encapsulation?\n",
    "Abstraction and encapsulation are two core OOP concepts in Python, closely related but distinct. Abstraction means hiding complex implementation details and exposing only the necessary functionalities through simple interfaces like classes or functions—for example, using a class method to read a file without knowing the underlying file-handling code. Encapsulation, on the other hand, is bundling data (attributes) and methods that operate on that data into a single unit (a class) and restricting direct access to some parts of an object using access modifiers (like prefixing variables with `_` or `__`) to protect internal state and ensure controlled interactions. In short, abstraction focuses on what an object does, while encapsulation deals with how it’s done and how it’s safely exposed.\n",
    "\n",
    "#Q5 What are dunder methods in Python?\n",
    "Dunder methods (short for “double underscore methods”) in Python are special, predefined methods whose names start and end with double underscores, like `__init__`, `__str__`, `__len__`, or `__add__`. They allow you to define how objects of a class behave with Python’s built-in operations—such as arithmetic, comparisons, type conversions, and built-in functions—making your classes integrate seamlessly with Python’s syntax and standard features. For example, `__str__` controls what gets printed when you call `print(obj)`, while `__len__` lets your object work with the `len()` function. They’re essential for writing idiomatic, clean, and Pythonic object-oriented code because they let you customize object behavior beyond simple attribute storage.\n",
    "\n",
    "#Q6 Explain the concept of inheritance in OOP?\n",
    "Inheritance in Object-Oriented Programming (OOP) allows a class (called a child or subclass) to derive attributes and methods from another class (called a parent or superclass), promoting code reuse and logical hierarchy. In Python, inheritance enables the subclass to automatically gain all the features of the parent class, while also allowing it to override or extend functionalities to suit specific needs. This helps in building modular, maintainable programs by avoiding repetition and fostering a natural way to model real-world relationships, such as a `Dog` class inheriting from a general `Animal` class.\n",
    "#Q7 What is polymorphism in OOP?\n",
    "Polymorphism in Object-Oriented Programming (OOP) refers to the ability of different classes to provide different implementations for methods or behaviors that share the same name, allowing objects of different types to be used interchangeably through a common interface. In Python, polymorphism is achieved through dynamic (or duck) typing, where functions or methods can operate on objects of any class, as long as those objects implement the required methods or behaviors. This enables flexible and reusable code, because functions, classes, or operators can process objects differently based on their specific types, without the need to know the exact class of the object in advance.\n",
    "\n",
    "#Q8 How is encapsulation achieved in Python?\n",
    "Encapsulation in Python is achieved by bundling data (attributes) and methods (functions) that operate on that data within a single unit called a class, thereby restricting direct access to some of the object's components to protect the integrity of its data. While Python does not enforce strict access modifiers like private or protected found in some other languages, it uses naming conventions to signal the intended level of access: attributes prefixed with a single underscore (e.g., `_var`) are treated as protected (suggesting they should not be accessed outside the class or its subclasses), while attributes prefixed with double underscores (e.g., `__var`) undergo name mangling to make them harder to access from outside the class. Encapsulation helps promote modularity, maintainability, and data integrity by controlling how data is accessed and modified.\n",
    "\n",
    "#Q9 What is a constructor in Python?\n",
    "A constructor in Python is a special method used to initialize newly created objects from a class. In Python, the constructor method is named `__init__` and is automatically called when an object is instantiated. It allows you to set initial values for the object’s attributes or perform any setup steps necessary for the object to function properly. The first parameter of `__init__` is always `self`, which refers to the instance being created, and it can accept additional parameters to pass values during object creation. Constructors help ensure that objects start their life cycle in a valid state with all necessary data set up.\n",
    "                                                                                                                                                                                                                                                                                                                                                                                                                                                                                                                                                                                                                                           \n",
    "#Q10 What are class and static methods in Python?\n",
    "In Python, class methods and static methods are special types of methods used within classes. A class method is defined using the `@classmethod` decorator and takes the class itself as its first argument (conventionally named `cls`), allowing it to access or modify class-level data shared among all instances. In contrast, a static method is defined using the `@staticmethod` decorator and does not take either `self` (the instance) or `cls` as its first argument; it behaves like a regular function but belongs to the class’s namespace for logical grouping. Class methods are useful for creating alternative constructors or performing operations related to the class rather than individual objects, while static methods are used for utility functions that logically belong to the class but do not need to access class or instance data.\n",
    "\n",
    "#Q11 What is method overloading in Python?\n",
    "    Method overloading in Python refers to the ability to define multiple methods in the same class with the same name but different parameters (number or type). However, unlike some other programming languages like Java or C++, Python does not support traditional method overloading directly. If multiple methods with the same name are defined, only the last one is recognized. To achieve similar behavior, Python developers often use *default arguments*, *variable-length arguments* (`*args`, `kwargs`), or *conditional logic* within a single method to handle different argument combinations, thus mimicking method overloading functionality.\n",
    "\n",
    "#Q12 What is method overriding in OOP?\n",
    "    Method overriding in Python’s object-oriented programming (OOP) occurs when a subclass defines a method with the same name as a method in its parent (super) class, effectively replacing or extending the parent class’s behavior. When an object of the subclass calls this method, Python executes the subclass’s version instead of the parent’s. This allows subclasses to customize or completely redefine how inherited methods work, enabling polymorphism—where different classes can provide different implementations for the same method name. To still access the parent class’s original method within the overridden method, the `super()` function is often used.\n",
    "\n",
    "#Q13 What is a property decorator in Python?\n",
    "    In Python, a property decorator (`@property`) is used to define a method that can be accessed like an attribute, allowing controlled access to private instance variables. It is part of Python’s built-in `property()` function and is commonly used in object-oriented programming to implement getter, setter, and deleter methods without directly exposing internal data. By using `@property`, you can make a method behave like a read-only attribute, and if needed, extend it with `@<property_name>.setter` and `@<property_name>.deleter` to allow modification or deletion while maintaining encapsulation and data validation. This helps in writing clean, readable, and maintainable code.\n",
    "\n",
    "#Q14 Why is polymorphism important in OOP?\n",
    "    Polymorphism is important in Object-Oriented Programming (OOP) because it enables different classes to be treated through a common interface, allowing objects of various types to be used interchangeably while sharing the same method names or behaviors. In Python, this means you can write flexible code that calls methods like `draw()` or `speak()` on objects without needing to know their exact class, as long as those methods exist in the objects. This promotes code reusability, simplicity, and scalability, making it easier to extend programs with new classes or behaviors without modifying existing code, thus adhering to the OOP principles of abstraction and encapsulation.\n",
    "\n",
    "#Q15 What is an abstract class in Python?\n",
    "    An abstract class in Python is a class that cannot be instantiated on its own and serves as a blueprint for other classes. It is defined using the `abc` (Abstract Base Class) module and typically includes one or more abstract methods, which are methods declared using the `@abstractmethod` decorator but do not have an implementation in the abstract class itself. Subclasses of an abstract class are required to provide implementations for all of its abstract methods; otherwise, they too will be considered abstract and cannot be instantiated. Abstract classes are used to define a common interface for a group of related classes, ensuring consistency and enforcing structure in object-oriented programming.\n",
    "\n",
    "#Q16 What are the advantages of OOP?\n",
    "    Object-Oriented Programming (OOP) in Python offers several advantages: it promotes modularity by organizing code into classes and objects, making large programs easier to manage and understand; it fosters code reusability through inheritance, allowing new classes to extend existing ones without rewriting code; it enhances data security via encapsulation, protecting internal object states and exposing only necessary interfaces; and it encourages maintainability and scalability by enabling developers to model real-world entities and relationships more intuitively. Overall, OOP helps produce clean, structured, and efficient code, which is crucial for complex or collaborative Python projects.\n",
    "\n",
    "#Q17 What is the difference between a class variable and an instance variable?\n",
    "    In Python, a class variable is shared by all instances of a class and belongs to the class itself, meaning it has the same value for every object unless explicitly overridden, while an instance variable is unique to each object and belongs to that specific instance, storing data relevant only to that particular object. Class variables are defined directly inside the class body, outside any methods, whereas instance variables are typically defined inside methods like `__init__` using `self`. Changes to a class variable affect all instances referencing it, but changes to an instance variable affect only that single object, allowing each instance to maintain its own separate state.\n",
    "\n",
    "#Q18 What is multiple inheritance in Python?\n",
    "    Multiple inheritance in Python is a feature that allows a class to inherit attributes and methods from more than one parent class, enabling the child class to combine behaviors from multiple sources. This provides flexibility and code reuse, as a subclass can integrate functionalities from different classes into a single definition. However, it also introduces complexity, particularly in method resolution order (MRO), where Python uses the C3 linearization algorithm to determine the sequence in which parent classes are searched when executing a method. Careful design is essential in multiple inheritance to avoid conflicts or ambiguities arising from overlapping methods or attributes in the parent classes.\n",
    "\n",
    "#Q19 Explain the purpose of ‘’__str__’ and ‘__repr__’ ‘ methods in Python?\n",
    "    In Python, the `__str__` and `__repr__` methods are special (or \"dunder\") methods used to define how an object is represented as a string. The `__str__` method is intended to return a user-friendly, readable string version of the object, typically used for display purposes (e.g., when printed using `print()`). On the other hand, the `__repr__` method is meant to return an unambiguous string that ideally could be used to recreate the object, mainly used for debugging and development. If `__str__` is not defined, Python falls back to using `__repr__`. These methods help improve the readability and usability of custom objects in different contexts.\n",
    "\n",
    "#Q20 What is the significance of the ‘super()’ function in Python?\n",
    "    The `super()` function in Python is used to call methods from a parent or superclass, enabling code reuse and simplifying the maintenance of class hierarchies, especially in the context of inheritance. It allows a child class to access and extend the behavior of its parent class without explicitly naming it, making the code more flexible and robust against future changes. In multiple inheritance scenarios, `super()` follows the method resolution order (MRO), ensuring that methods are called in a consistent and predictable sequence. This helps avoid redundant code and supports cooperative multiple inheritance, where all classes in the hierarchy can participate seamlessly in method calls.\n",
    "\n",
    "#Q21 What is the significance of the __del__ method in Python?\n",
    "    The `__del__` method in Python, also known as a destructor, is a special method called when an object is about to be destroyed, allowing it to perform clean-up actions like releasing external resources or closing files. It’s invoked automatically when the object’s reference count drops to zero, signaling that it’s no longer in use. However, relying on `__del__` for critical cleanup is discouraged because its execution is not guaranteed, especially in cases involving circular references or during interpreter shutdown, where object deletion order can become unpredictable. Instead, context managers and the `with` statement are preferred for managing resources reliably in Python.\n",
    "\n",
    "#Q22 What is the difference between @staticmethod and @classmethod in Python?\n",
    "    In Python, both `@staticmethod` and `@classmethod` are decorators used to define methods inside a class that aren’t ordinary instance methods. A `@staticmethod` belongs to the class namespace but does not take any special first parameter like `self` or `cls`; it behaves like a plain function but is included in the class for organizational purposes and cannot access or modify class or instance state. In contrast, a `@classmethod` does take `cls` as its first parameter, representing the class itself rather than an instance, allowing it to access and modify class-level data and construct new instances. Essentially, `@staticmethod` is used for utility functions related to the class’s logic, while `@classmethod` is useful for factory methods or operations that need to know or modify the class.\n",
    "\n",
    "#Q23 How does polymorphism work in Python with inheritance?\n",
    "    Polymorphism in Python allows objects of different classes to be treated as objects of a common superclass, enabling the same operation or method call to behave differently depending on the object’s actual class. When used with inheritance, polymorphism means that a subclass can override methods of its parent class to provide specific behavior, while still sharing the same interface. Thus, a function or piece of code can operate on instances of the parent class or any of its subclasses without needing to know their specific types, promoting flexibility and code reuse. For example, different subclasses might implement a common method like `speak()`, each producing class-specific output, yet can all be handled uniformly via references to the parent class.\n",
    "\n",
    "#Q24 What is method chaining in Python OOP?\n",
    "    Method chaining in Python OOP refers to the practice of calling multiple methods sequentially on the same object in a single line of code, where each method returns the object itself (often using `return self`). This enables a fluent, readable style where operations can be “chained” together without repeatedly referencing the object’s name. It’s commonly used to configure objects, build complex data structures, or perform successive transformations, enhancing code conciseness and clarity. For method chaining to work, each method in the chain must return the object instance instead of `None` or another unrelated value.\n",
    "\n",
    "#Q25 What is the purpose of the __call__ method in Python?\n",
    "    In Python, the `__call__` method allows an instance of a class to be called like a function. When a class defines `__call__`, it enables objects of that class to be invoked using the function-call syntax `obj()`, executing the logic inside `__call__`. This is useful for creating objects that behave like functions while maintaining internal state, such as function wrappers, decorators, or configurable callable objects. Essentially, `__call__` bridges the gap between objects and functions, offering a flexible and elegant way to implement customizable behavior upon invocation.\n"
   ]
  },
  {
   "cell_type": "code",
   "execution_count": 2,
   "id": "d8621d7f-de62-4ba6-b1a2-ad06958c3b8d",
   "metadata": {},
   "outputs": [
    {
     "name": "stdout",
     "output_type": "stream",
     "text": [
      "The animal makes a sound.\n",
      "Bark!\n"
     ]
    }
   ],
   "source": [
    "#Q1. Create a parent class Animal with a method speak() that prints a generic message. Create a child class Dog that overrides the speak() method to print \"Bark!\".\n",
    "# Parent class\n",
    "class Animal:\n",
    "    def speak(self):\n",
    "        print(\"The animal makes a sound.\")\n",
    "\n",
    "# Child class\n",
    "class Dog(Animal):\n",
    "    def speak(self):\n",
    "        print(\"Bark!\")\n",
    "\n",
    "# Testing the classes\n",
    "a = Animal()\n",
    "a.speak()   # Output: The animal makes a sound.\n",
    "\n",
    "d = Dog()\n",
    "d.speak()   # Output: Bark!\n"
   ]
  },
  {
   "cell_type": "code",
   "execution_count": 4,
   "id": "a7caf66b-84c2-4b6b-9c7a-b0f6e931af9a",
   "metadata": {},
   "outputs": [
    {
     "name": "stdout",
     "output_type": "stream",
     "text": [
      "Area of Circle: 78.5\n",
      "Area of Rectangle: 24\n"
     ]
    }
   ],
   "source": [
    "#Q2. Write a program to create an abstract class Shape with a method area(). Derive classes Circle and Rectangle from it and implement the area() method in both.\n",
    "# Import ABC (Abstract Base Class) and abstractmethod decorator\n",
    "from abc import ABC, abstractmethod\n",
    "\n",
    "# Abstract class\n",
    "class Shape(ABC):\n",
    "    @abstractmethod\n",
    "    def area(self):\n",
    "        pass   # No code here - subclasses MUST write this method\n",
    "\n",
    "# Circle class that inherits from Shape\n",
    "class Circle(Shape):\n",
    "    def __init__(self, radius):\n",
    "        self.radius = radius\n",
    "    \n",
    "    def area(self):\n",
    "        return 3.14 * self.radius * self.radius\n",
    "\n",
    "# Rectangle class that inherits from Shape\n",
    "class Rectangle(Shape):\n",
    "    def __init__(self, length, width):\n",
    "        self.length = length\n",
    "        self.width = width\n",
    "    \n",
    "    def area(self):\n",
    "        return self.length * self.width\n",
    "\n",
    "# Test the classes\n",
    "c = Circle(5)\n",
    "print(\"Area of Circle:\", c.area())   # Output: 78.5\n",
    "\n",
    "r = Rectangle(4, 6)\n",
    "print(\"Area of Rectangle:\", r.area()) # Output: 24\n"
   ]
  },
  {
   "cell_type": "code",
   "execution_count": 5,
   "id": "f3b4e105-c013-4c58-8c48-04335ed5e2e2",
   "metadata": {},
   "outputs": [
    {
     "name": "stdout",
     "output_type": "stream",
     "text": [
      "Vehicle type: Car\n",
      "Car brand: Tesla\n",
      "Battery capacity: 75 kWh\n"
     ]
    }
   ],
   "source": [
    "#Q3. Implement a multi-level inheritance scenario where a class Vehicle has an attribute type. Derive a class Car and further derive a class ElectricCar that adds a battery attribute.\n",
    "# Parent class\n",
    "class Vehicle:\n",
    "    def __init__(self, vehicle_type):\n",
    "        self.type = vehicle_type\n",
    "\n",
    "    def show_type(self):\n",
    "        print(\"Vehicle type:\", self.type)\n",
    "\n",
    "# Child class of Vehicle\n",
    "class Car(Vehicle):\n",
    "    def __init__(self, vehicle_type, brand):\n",
    "        super().__init__(vehicle_type)  # call parent constructor\n",
    "        self.brand = brand\n",
    "\n",
    "    def show_brand(self):\n",
    "        print(\"Car brand:\", self.brand)\n",
    "\n",
    "# Child class of Car (grandchild of Vehicle)\n",
    "class ElectricCar(Car):\n",
    "    def __init__(self, vehicle_type, brand, battery_capacity):\n",
    "        super().__init__(vehicle_type, brand)  # call Car constructor\n",
    "        self.battery = battery_capacity\n",
    "\n",
    "    def show_battery(self):\n",
    "        print(\"Battery capacity:\", self.battery, \"kWh\")\n",
    "\n",
    "\n",
    "# Create an ElectricCar object\n",
    "my_electric_car = ElectricCar(\"Car\", \"Tesla\", 75)\n",
    "\n",
    "# Call methods\n",
    "my_electric_car.show_type()      # from Vehicle\n",
    "my_electric_car.show_brand()     # from Car\n",
    "my_electric_car.show_battery()   # from ElectricCar\n"
   ]
  },
  {
   "cell_type": "code",
   "execution_count": 6,
   "id": "00f1cf50-d3f0-4ad0-8e2d-b463d6b16c62",
   "metadata": {},
   "outputs": [
    {
     "name": "stdout",
     "output_type": "stream",
     "text": [
      "Sparrow flies high in the sky.\n",
      "Penguin cannot fly but swims very well.\n"
     ]
    }
   ],
   "source": [
    "#Q4. Demonstrate polymorphism by creating a base class Bird with a method fly(). Create two derived classes Sparrow and Penguin that override the fly() method.\n",
    "# Base class\n",
    "class Bird:\n",
    "    def fly(self):\n",
    "        print(\"The bird can fly.\")\n",
    "\n",
    "# Derived class 1\n",
    "class Sparrow(Bird):\n",
    "    def fly(self):\n",
    "        print(\"Sparrow flies high in the sky.\")\n",
    "\n",
    "# Derived class 2\n",
    "class Penguin(Bird):\n",
    "    def fly(self):\n",
    "        print(\"Penguin cannot fly but swims very well.\")\n",
    "\n",
    "# Create objects\n",
    "bird1 = Sparrow()\n",
    "bird2 = Penguin()\n",
    "\n",
    "# Polymorphism in action\n",
    "bird1.fly()    # Output: Sparrow flies high in the sky.\n",
    "bird2.fly()    # Output: Penguin cannot fly but swims very well.\n"
   ]
  },
  {
   "cell_type": "code",
   "execution_count": 7,
   "id": "dfbdd272-601c-4ea8-abd2-ba5659ed1315",
   "metadata": {},
   "outputs": [
    {
     "name": "stdout",
     "output_type": "stream",
     "text": [
      "Current Balance: 1000\n",
      "Deposited: 500\n",
      "Current Balance: 1500\n",
      "Withdrawn: 300\n",
      "Current Balance: 1200\n",
      "Insufficient funds!\n"
     ]
    }
   ],
   "source": [
    "#Q5. Write a program to demonstrate encapsulation by creating a class BankAccount with private attributes balance and methods to deposit, withdraw, and check balance.\n",
    "class BankAccount:\n",
    "    def __init__(self, initial_balance):\n",
    "        # Private attribute\n",
    "        self.__balance = initial_balance\n",
    "\n",
    "    def deposit(self, amount):\n",
    "        if amount > 0:\n",
    "            self.__balance += amount\n",
    "            print(f\"Deposited: {amount}\")\n",
    "        else:\n",
    "            print(\"Deposit amount must be positive.\")\n",
    "\n",
    "    def withdraw(self, amount):\n",
    "        if amount > self.__balance:\n",
    "            print(\"Insufficient funds!\")\n",
    "        elif amount <= 0:\n",
    "            print(\"Withdrawal amount must be positive.\")\n",
    "        else:\n",
    "            self.__balance -= amount\n",
    "            print(f\"Withdrawn: {amount}\")\n",
    "\n",
    "    def check_balance(self):\n",
    "        print(f\"Current Balance: {self.__balance}\")\n",
    "\n",
    "# Using the class\n",
    "account = BankAccount(1000)      # Open account with 1000\n",
    "account.check_balance()          # Show balance\n",
    "\n",
    "account.deposit(500)             # Deposit money\n",
    "account.check_balance()          # Check balance again\n",
    "\n",
    "account.withdraw(300)            # Withdraw money\n",
    "account.check_balance()          # Check balance again\n",
    "\n",
    "account.withdraw(2000)           # Try to withdraw more than balance\n"
   ]
  },
  {
   "cell_type": "code",
   "execution_count": 8,
   "id": "7dfb5b84-2d22-4875-9338-f3d50c49ee81",
   "metadata": {},
   "outputs": [
    {
     "name": "stdout",
     "output_type": "stream",
     "text": [
      "The instrument makes a sound.\n",
      "Strumming the guitar.\n",
      "Playing the piano.\n",
      "--- Polymorphism Demo ---\n",
      "The instrument makes a sound.\n",
      "Strumming the guitar.\n",
      "Playing the piano.\n"
     ]
    }
   ],
   "source": [
    "#Q6. Demonstrate runtime polymorphism using a method play() in a base class Instrument. Derive classes Guitar and Piano that implement their own version of play().\n",
    "# Base class\n",
    "class Instrument:\n",
    "    def play(self):\n",
    "        print(\"The instrument makes a sound.\")\n",
    "\n",
    "# Derived class 1\n",
    "class Guitar(Instrument):\n",
    "    def play(self):\n",
    "        print(\"Strumming the guitar.\")\n",
    "\n",
    "# Derived class 2\n",
    "class Piano(Instrument):\n",
    "    def play(self):\n",
    "        print(\"Playing the piano.\")\n",
    "\n",
    "# Creating objects\n",
    "instrument = Instrument()\n",
    "guitar = Guitar()\n",
    "piano = Piano()\n",
    "\n",
    "# Calling play() method\n",
    "instrument.play()   # Output: The instrument makes a sound.\n",
    "guitar.play()       # Output: Strumming the guitar.\n",
    "piano.play()        # Output: Playing the piano.\n",
    "\n",
    "# Runtime polymorphism\n",
    "print(\"--- Polymorphism Demo ---\")\n",
    "for instr in [instrument, guitar, piano]:\n",
    "    instr.play()\n"
   ]
  },
  {
   "cell_type": "code",
   "execution_count": 9,
   "id": "81acb76c-1fd8-446f-9ea5-a726b7f12b30",
   "metadata": {},
   "outputs": [
    {
     "name": "stdout",
     "output_type": "stream",
     "text": [
      "Sum: 15\n",
      "Difference: 5\n"
     ]
    }
   ],
   "source": [
    "#Q7. Create a class MathOperations with a class method add_numbers() to add two numbers and a static method subtract_numbers() to subtract two numbers.\n",
    "class MathOperations:\n",
    "    \n",
    "    # Class method\n",
    "    @classmethod\n",
    "    def add_numbers(cls, a, b):\n",
    "        return a + b\n",
    "\n",
    "    # Static method\n",
    "    @staticmethod\n",
    "    def subtract_numbers(a, b):\n",
    "        return a - b\n",
    "\n",
    "# Testing the methods\n",
    "\n",
    "# Calling class method\n",
    "sum_result = MathOperations.add_numbers(10, 5)\n",
    "print(\"Sum:\", sum_result)          # Output: Sum: 15\n",
    "\n",
    "# Calling static method\n",
    "diff_result = MathOperations.subtract_numbers(10, 5)\n",
    "print(\"Difference:\", diff_result)  # Output: Difference: 5\n"
   ]
  },
  {
   "cell_type": "code",
   "execution_count": 10,
   "id": "f01f9b50-af06-4a07-ae32-e2934660c407",
   "metadata": {},
   "outputs": [
    {
     "name": "stdout",
     "output_type": "stream",
     "text": [
      "Total persons created: 3\n"
     ]
    }
   ],
   "source": [
    "#Q8. Implement a class Person with a class method to count the total number of persons created.\n",
    "class Person:\n",
    "    # Class variable to count the number of Person objects\n",
    "    count = 0\n",
    "\n",
    "    def __init__(self, name):\n",
    "        self.name = name\n",
    "        # Every time a new Person is created, increase the count\n",
    "        Person.count += 1\n",
    "\n",
    "    # Class method to get the total number of persons\n",
    "    @classmethod\n",
    "    def total_persons(cls):\n",
    "        print(\"Total persons created:\", cls.count)\n",
    "\n",
    "\n",
    "# Creating Person objects\n",
    "p1 = Person(\"Alice\")\n",
    "p2 = Person(\"Bob\")\n",
    "p3 = Person(\"Charlie\")\n",
    "\n",
    "# Calling the class method to see how many persons were created\n",
    "Person.total_persons()    # Output: Total persons created: 3\n"
   ]
  },
  {
   "cell_type": "code",
   "execution_count": 11,
   "id": "6ff1bbfc-48d5-407d-b4a4-71bb34cf08bd",
   "metadata": {},
   "outputs": [
    {
     "name": "stdout",
     "output_type": "stream",
     "text": [
      "3/4\n"
     ]
    }
   ],
   "source": [
    "#Q9. Write a class Fraction with attributes numerator and denominator. Override the str method to display the fraction as \"numerator/denominator\".\n",
    "class Fraction:\n",
    "    def __init__(self, numerator, denominator):\n",
    "        self.numerator = numerator\n",
    "        self.denominator = denominator\n",
    "\n",
    "    def __str__(self):\n",
    "        return f\"{self.numerator}/{self.denominator}\"\n",
    "\n",
    "# Example of using the class\n",
    "f = Fraction(3, 4)\n",
    "print(f)    # Output: 3/4\n"
   ]
  },
  {
   "cell_type": "code",
   "execution_count": 12,
   "id": "7aec7c10-b32b-45ad-9eca-ef5ceb8a2248",
   "metadata": {},
   "outputs": [
    {
     "name": "stdout",
     "output_type": "stream",
     "text": [
      "v1 = (2, 3)\n",
      "v2 = (4, 5)\n",
      "v1 + v2 = (6, 8)\n"
     ]
    }
   ],
   "source": [
    "#Q10. Demonstrate operator overloading by creating a class Vector and overriding the add method to add two vectors.\n",
    "class Vector:\n",
    "    def __init__(self, x, y):\n",
    "        self.x = x\n",
    "        self.y = y\n",
    "\n",
    "    def __add__(self, other):\n",
    "        new_x = self.x + other.x\n",
    "        new_y = self.y + other.y\n",
    "        return Vector(new_x, new_y)\n",
    "\n",
    "    def __str__(self):\n",
    "        return f\"({self.x}, {self.y})\"\n",
    "\n",
    "# Create two vectors\n",
    "v1 = Vector(2, 3)\n",
    "v2 = Vector(4, 5)\n",
    "\n",
    "# Add the vectors using +\n",
    "result = v1 + v2\n",
    "\n",
    "print(\"v1 =\", v1)\n",
    "print(\"v2 =\", v2)\n",
    "print(\"v1 + v2 =\", result)\n"
   ]
  },
  {
   "cell_type": "code",
   "execution_count": 13,
   "id": "cc3b7eef-5b41-4f4f-b0e0-6b8ec5846c2b",
   "metadata": {},
   "outputs": [
    {
     "name": "stdout",
     "output_type": "stream",
     "text": [
      "Hello, my name is Alice and I am 25 years old.\n"
     ]
    }
   ],
   "source": [
    "#Q11. Create a class Person with attributes name and age. Add a method greet() that prints \"Hello, my name is {name} and I am {age} years old.\"\n",
    "# Creating a class named Person\n",
    "class Person:\n",
    "    # This is the constructor method that runs when we create a new person\n",
    "    def __init__(self, name, age):\n",
    "        self.name = name  # store the name\n",
    "        self.age = age    # store the age\n",
    "\n",
    "    # This method prints a greeting message\n",
    "    def greet(self):\n",
    "        print(f\"Hello, my name is {self.name} and I am {self.age} years old.\")\n",
    "\n",
    "# Creating an object of the Person class\n",
    "p1 = Person(\"Alice\", 25)\n",
    "\n",
    "# Calling the greet method\n",
    "p1.greet()\n"
   ]
  },
  {
   "cell_type": "code",
   "execution_count": 14,
   "id": "ccb1cb5c-93d0-4fd4-ace7-a7f0828cc490",
   "metadata": {},
   "outputs": [
    {
     "name": "stdout",
     "output_type": "stream",
     "text": [
      "Name: Alice\n",
      "Grades: [80, 90, 75, 85]\n",
      "Average grade: 82.5\n"
     ]
    }
   ],
   "source": [
    "#Q12. Implement a class Student with attributes name and grades. Create a method average_grade() to compute the average of the grades.\n",
    "class Student:\n",
    "    def __init__(self, name, grades):\n",
    "        # This runs when we create a Student object\n",
    "        self.name = name\n",
    "        self.grades = grades\n",
    "\n",
    "    def average_grade(self):\n",
    "        # Calculate the average of grades\n",
    "        if len(self.grades) == 0:\n",
    "            return 0  # avoid division by zero\n",
    "        total = sum(self.grades)\n",
    "        average = total / len(self.grades)\n",
    "        return average\n",
    "\n",
    "# Example usage\n",
    "student1 = Student(\"Alice\", [80, 90, 75, 85])\n",
    "print(\"Name:\", student1.name)\n",
    "print(\"Grades:\", student1.grades)\n",
    "print(\"Average grade:\", student1.average_grade())\n"
   ]
  },
  {
   "cell_type": "code",
   "execution_count": 15,
   "id": "600c1866-4da7-41cd-b022-512b3c3d8488",
   "metadata": {},
   "outputs": [
    {
     "name": "stdout",
     "output_type": "stream",
     "text": [
      "The area of the rectangle is: 15\n"
     ]
    }
   ],
   "source": [
    "#Q13. Create a class Rectangle with methods set_dimensions() to set the dimensions and area() to calculate the area.\n",
    "# Define the class\n",
    "class Rectangle:\n",
    "    def set_dimensions(self, length, width):\n",
    "        self.length = length\n",
    "        self.width = width\n",
    "\n",
    "    def area(self):\n",
    "        area = self.length * self.width\n",
    "        print(\"The area of the rectangle is:\", area)\n",
    "\n",
    "# Create an object of Rectangle\n",
    "rect = Rectangle()\n",
    "\n",
    "# Set dimensions to length = 5 and width = 3\n",
    "rect.set_dimensions(5, 3)\n",
    "\n",
    "# Calculate and print the area\n",
    "rect.area()\n"
   ]
  },
  {
   "cell_type": "code",
   "execution_count": 16,
   "id": "43a4647a-b5ce-4cfe-b481-4379ed31d40e",
   "metadata": {},
   "outputs": [
    {
     "name": "stdout",
     "output_type": "stream",
     "text": [
      "Employee salary: 800\n",
      "Manager salary: 1300\n"
     ]
    }
   ],
   "source": [
    "#Q14. Create a class Employee with a method calculate_salary() that computes the salary based on hours worked and hourly rate. Create a derived class Manager that adds a bonus to the salary.\n",
    "# Parent class\n",
    "class Employee:\n",
    "    def calculate_salary(self, hours_worked, hourly_rate):\n",
    "        salary = hours_worked * hourly_rate\n",
    "        return salary\n",
    "\n",
    "# Child class\n",
    "class Manager(Employee):\n",
    "    def calculate_salary(self, hours_worked, hourly_rate, bonus):\n",
    "        base_salary = super().calculate_salary(hours_worked, hourly_rate)\n",
    "        total_salary = base_salary + bonus\n",
    "        return total_salary\n",
    "\n",
    "# Create Employee object\n",
    "e = Employee()\n",
    "print(\"Employee salary:\", e.calculate_salary(40, 20))\n",
    "# Output: Employee salary: 800\n",
    "\n",
    "# Create Manager object\n",
    "m = Manager()\n",
    "print(\"Manager salary:\", m.calculate_salary(40, 20, 500))\n",
    "# Output: Manager salary: 1300\n"
   ]
  },
  {
   "cell_type": "code",
   "execution_count": 17,
   "id": "65736528-96d0-4209-8226-3da27c6cf24b",
   "metadata": {},
   "outputs": [
    {
     "name": "stdout",
     "output_type": "stream",
     "text": [
      "Product: Laptop\n",
      "Total price: 100000\n"
     ]
    }
   ],
   "source": [
    "#Q15. Create a class Product with attributes name, price, and quantity. Implement a method total_price() that calculates the total price of the product.\n",
    "# Define the Product class\n",
    "class Product:\n",
    "    # Constructor to create a new product\n",
    "    def __init__(self, name, price, quantity):\n",
    "        self.name = name          # Product name\n",
    "        self.price = price        # Price of one unit\n",
    "        self.quantity = quantity  # Number of units\n",
    "\n",
    "    # Method to calculate total price\n",
    "    def total_price(self):\n",
    "        return self.price * self.quantity\n",
    "\n",
    "# Create a product object\n",
    "p = Product(\"Laptop\", 50000, 2)\n",
    "\n",
    "# Calculate and print the total price\n",
    "print(\"Product:\", p.name)\n",
    "print(\"Total price:\", p.total_price())\n"
   ]
  },
  {
   "cell_type": "code",
   "execution_count": 18,
   "id": "79dbba6e-cabe-4ca3-9217-3549d81eb565",
   "metadata": {},
   "outputs": [
    {
     "name": "stdout",
     "output_type": "stream",
     "text": [
      "Moo!\n",
      "Baa!\n"
     ]
    }
   ],
   "source": [
    "#Q16. Create a class Animal with an abstract method sound(). Create two derived classes Cow and Sheep that implement the sound() method.\n",
    "# Importing ABC module for abstract classes\n",
    "from abc import ABC, abstractmethod\n",
    "\n",
    "# Abstract Parent Class\n",
    "class Animal(ABC):\n",
    "    @abstractmethod\n",
    "    def sound(self):\n",
    "        pass   # No code here, just a placeholder\n",
    "\n",
    "# Derived Class Cow\n",
    "class Cow(Animal):\n",
    "    def sound(self):\n",
    "        print(\"Moo!\")\n",
    "\n",
    "# Derived Class Sheep\n",
    "class Sheep(Animal):\n",
    "    def sound(self):\n",
    "        print(\"Baa!\")\n",
    "\n",
    "# Testing the classes\n",
    "c = Cow()\n",
    "c.sound()     # Output: Moo!\n",
    "\n",
    "s = Sheep()\n",
    "s.sound()     # Output: Baa!\n"
   ]
  },
  {
   "cell_type": "code",
   "execution_count": 19,
   "id": "2cc644ed-54f4-4a57-9218-8808c51d4065",
   "metadata": {},
   "outputs": [
    {
     "name": "stdout",
     "output_type": "stream",
     "text": [
      "Title: The Alchemist, Author: Paulo Coelho, Year: 1988\n"
     ]
    }
   ],
   "source": [
    "#Q17. Create a class Book with attributes title, author, and year_published. Add a method get_book_info() that returns a formatted string with the book's details.\n",
    "# Define the Book class\n",
    "class Book:\n",
    "    # This is the constructor method to set initial values\n",
    "    def __init__(self, title, author, year_published):\n",
    "        self.title = title\n",
    "        self.author = author\n",
    "        self.year_published = year_published\n",
    "\n",
    "    # Method to return book information as a formatted string\n",
    "    def get_book_info(self):\n",
    "        return f\"Title: {self.title}, Author: {self.author}, Year: {self.year_published}\"\n",
    "\n",
    "# Create an object (instance) of the Book class\n",
    "my_book = Book(\"The Alchemist\", \"Paulo Coelho\", 1988)\n",
    "\n",
    "# Call the method to get book info and print it\n",
    "print(my_book.get_book_info())\n"
   ]
  },
  {
   "cell_type": "code",
   "execution_count": 20,
   "id": "57963dbd-75ba-46b0-9ecb-b32205153604",
   "metadata": {},
   "outputs": [
    {
     "name": "stdout",
     "output_type": "stream",
     "text": [
      "House Address: 123 Maple Street\n",
      "House Price: 250000\n",
      "Mansion Address: 456 Luxury Lane\n",
      "Mansion Price: 1500000\n",
      "Mansion Number of Rooms: 10\n"
     ]
    }
   ],
   "source": [
    "#Q18. Create a class House with attributes address and price. Create a derived class Mansion that adds an attribute number_of_rooms.\n",
    "# Define the House class\n",
    "class House:\n",
    "    def __init__(self, address, price):\n",
    "        self.address = address\n",
    "        self.price = price\n",
    "\n",
    "# Define the Mansion class, inheriting from House\n",
    "class Mansion(House):\n",
    "    def __init__(self, address, price, number_of_rooms):\n",
    "        # Call the parent class constructor\n",
    "        super().__init__(address, price)\n",
    "        self.number_of_rooms = number_of_rooms\n",
    "\n",
    "# Create a House object\n",
    "my_house = House(\"123 Maple Street\", 250000)\n",
    "print(\"House Address:\", my_house.address)\n",
    "print(\"House Price:\", my_house.price)\n",
    "\n",
    "# Create a Mansion object\n",
    "my_mansion = Mansion(\"456 Luxury Lane\", 1500000, 10)\n",
    "print(\"Mansion Address:\", my_mansion.address)\n",
    "print(\"Mansion Price:\", my_mansion.price)\n",
    "print(\"Mansion Number of Rooms:\", my_mansion.number_of_rooms)\n"
   ]
  },
  {
   "cell_type": "code",
   "execution_count": null,
   "id": "a9d79a7f-5c1d-4063-9286-dfd229110570",
   "metadata": {},
   "outputs": [],
   "source": []
  }
 ],
 "metadata": {
  "kernelspec": {
   "display_name": "Python 3 (ipykernel)",
   "language": "python",
   "name": "python3"
  },
  "language_info": {
   "codemirror_mode": {
    "name": "ipython",
    "version": 3
   },
   "file_extension": ".py",
   "mimetype": "text/x-python",
   "name": "python",
   "nbconvert_exporter": "python",
   "pygments_lexer": "ipython3",
   "version": "3.13.3"
  }
 },
 "nbformat": 4,
 "nbformat_minor": 5
}
